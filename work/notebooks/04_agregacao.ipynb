{
 "cells": [
  {
   "cell_type": "markdown",
   "id": "47f245c0-b49e-423a-aec9-ee476581593b",
   "metadata": {},
   "source": [
    "- Quantidade de viagens iniciadas por estação\n",
    "- Quantidade de viagens finalizadas por estação\n",
    "- Qual a média de duração de uma viagem com bike do tipo eletric e classic?\n"
   ]
  },
  {
   "cell_type": "code",
   "execution_count": 20,
   "id": "004bbda2-1df8-4368-85b9-da140e77affb",
   "metadata": {},
   "outputs": [
    {
     "data": {
      "text/html": [
       "<table border='1'>\n",
       "<tr><th>ride_id</th><th>rideable_type</th><th>started_at</th><th>ended_at</th><th>start_station_name</th><th>start_station_id</th><th>end_station_name</th><th>end_station_id</th><th>start_lat</th><th>start_lng</th><th>end_lat</th><th>end_lng</th><th>member_casual</th></tr>\n",
       "<tr><td>65DBD2F447EC51C2</td><td>electric_bike</td><td>2022-12-05 10:47:18</td><td>2022-12-05 10:56:34</td><td>Clifton Ave &amp; Arm...</td><td>TA1307000163</td><td>Sedgwick St &amp; Web...</td><td>13191</td><td>41.9182435</td><td>-87.65711466666667</td><td>41.922167</td><td>-87.638888</td><td>member</td></tr>\n",
       "<tr><td>0C201AA7EA0EA1AD</td><td>classic_bike</td><td>2022-12-18 06:42:33</td><td>2022-12-18 07:08:44</td><td>Broadway &amp; Belmon...</td><td>13277</td><td>Sedgwick St &amp; Web...</td><td>13191</td><td>41.940106</td><td>-87.645451</td><td>41.922167</td><td>-87.638888</td><td>casual</td></tr>\n",
       "<tr><td>E0B148CCB358A49D</td><td>electric_bike</td><td>2022-12-13 08:47:45</td><td>2022-12-13 08:59:51</td><td>Sangamon St &amp; Lak...</td><td>TA1306000015</td><td>St. Clair St &amp; Er...</td><td>13016</td><td>41.885918856</td><td>-87.65113318</td><td>41.89434513742426</td><td>-87.62279838323593</td><td>member</td></tr>\n",
       "<tr><td>54C5775D2B7C9188</td><td>classic_bike</td><td>2022-12-13 18:50:47</td><td>2022-12-13 19:19:48</td><td>Shields Ave &amp; 31s...</td><td>KA1503000038</td><td>Damen Ave &amp; Madis...</td><td>13134</td><td>41.838464</td><td>-87.635406</td><td>41.88137</td><td>-87.67493</td><td>member</td></tr>\n",
       "<tr><td>A4891F78776D35DF</td><td>classic_bike</td><td>2022-12-14 16:13:39</td><td>2022-12-14 16:27:50</td><td>Ashland Ave &amp; Chi...</td><td>13247</td><td>Damen Ave &amp; Charl...</td><td>13288</td><td>41.89595435734305</td><td>-87.6677280664444</td><td>41.920082</td><td>-87.677855</td><td>casual</td></tr>\n",
       "</table>\n"
      ],
      "text/plain": [
       "+----------------+-------------+-------------------+-------------------+--------------------+----------------+--------------------+--------------+-----------------+------------------+-----------------+------------------+-------------+\n",
       "|         ride_id|rideable_type|         started_at|           ended_at|  start_station_name|start_station_id|    end_station_name|end_station_id|        start_lat|         start_lng|          end_lat|           end_lng|member_casual|\n",
       "+----------------+-------------+-------------------+-------------------+--------------------+----------------+--------------------+--------------+-----------------+------------------+-----------------+------------------+-------------+\n",
       "|65DBD2F447EC51C2|electric_bike|2022-12-05 10:47:18|2022-12-05 10:56:34|Clifton Ave & Arm...|    TA1307000163|Sedgwick St & Web...|         13191|       41.9182435|-87.65711466666667|        41.922167|        -87.638888|       member|\n",
       "|0C201AA7EA0EA1AD| classic_bike|2022-12-18 06:42:33|2022-12-18 07:08:44|Broadway & Belmon...|           13277|Sedgwick St & Web...|         13191|        41.940106|        -87.645451|        41.922167|        -87.638888|       casual|\n",
       "|E0B148CCB358A49D|electric_bike|2022-12-13 08:47:45|2022-12-13 08:59:51|Sangamon St & Lak...|    TA1306000015|St. Clair St & Er...|         13016|     41.885918856|      -87.65113318|41.89434513742426|-87.62279838323593|       member|\n",
       "|54C5775D2B7C9188| classic_bike|2022-12-13 18:50:47|2022-12-13 19:19:48|Shields Ave & 31s...|    KA1503000038|Damen Ave & Madis...|         13134|        41.838464|        -87.635406|         41.88137|         -87.67493|       member|\n",
       "|A4891F78776D35DF| classic_bike|2022-12-14 16:13:39|2022-12-14 16:27:50|Ashland Ave & Chi...|           13247|Damen Ave & Charl...|         13288|41.89595435734305| -87.6677280664444|        41.920082|        -87.677855|       casual|\n",
       "+----------------+-------------+-------------------+-------------------+--------------------+----------------+--------------------+--------------+-----------------+------------------+-----------------+------------------+-------------+"
      ]
     },
     "execution_count": 20,
     "metadata": {},
     "output_type": "execute_result"
    }
   ],
   "source": [
    "file_path=\"/home/jovyan/work/data/202212_divvy_tripdata.csv\"\n",
    "\n",
    "#Cria sessão para ambiente local\n",
    "from pyspark.sql import SparkSession\n",
    "\n",
    "spark = SparkSession.builder \\\n",
    "    .appName(\"manipulando-dados\") \\\n",
    "    .getOrCreate()\n",
    "\n",
    "spark.conf.set(\"spark.sql.repl.eagerEval.enabled\", True)\n",
    "\n",
    "df = spark.read.option(\"header\", \"true\").csv(file_path)\n",
    "df.limit(5)"
   ]
  },
  {
   "cell_type": "code",
   "execution_count": 22,
   "id": "6e938331-a920-4a6a-9075-0c547101d082",
   "metadata": {},
   "outputs": [
    {
     "data": {
      "text/html": [
       "<table border='1'>\n",
       "<tr><th>ride_id</th><th>rideable_type</th><th>started_at</th><th>ended_at</th><th>start_station_name</th><th>start_station_id</th><th>end_station_name</th><th>end_station_id</th><th>start_lat</th><th>start_lng</th><th>end_lat</th><th>end_lng</th><th>member_category</th><th>trip_time</th></tr>\n",
       "<tr><td>65DBD2F447EC51C2</td><td>electric</td><td>2022-12-05 10:47:18</td><td>2022-12-05 10:56:34</td><td>CLIFTON AVE &amp; ARM...</td><td>TA1307000163</td><td>SEDGWICK ST &amp; WEB...</td><td>13191</td><td>41.9182435</td><td>-87.65711466666667</td><td>41.922167</td><td>-87.638888</td><td>member</td><td>9</td></tr>\n",
       "<tr><td>0C201AA7EA0EA1AD</td><td>classic</td><td>2022-12-18 06:42:33</td><td>2022-12-18 07:08:44</td><td>BROADWAY &amp; BELMON...</td><td>13277</td><td>SEDGWICK ST &amp; WEB...</td><td>13191</td><td>41.940106</td><td>-87.645451</td><td>41.922167</td><td>-87.638888</td><td>casual</td><td>26</td></tr>\n",
       "<tr><td>E0B148CCB358A49D</td><td>electric</td><td>2022-12-13 08:47:45</td><td>2022-12-13 08:59:51</td><td>SANGAMON ST &amp; LAK...</td><td>TA1306000015</td><td>ST. CLAIR ST &amp; ER...</td><td>13016</td><td>41.885918856</td><td>-87.65113318</td><td>41.89434513742426</td><td>-87.62279838323593</td><td>member</td><td>12</td></tr>\n",
       "<tr><td>54C5775D2B7C9188</td><td>classic</td><td>2022-12-13 18:50:47</td><td>2022-12-13 19:19:48</td><td>SHIELDS AVE &amp; 31S...</td><td>KA1503000038</td><td>DAMEN AVE &amp; MADIS...</td><td>13134</td><td>41.838464</td><td>-87.635406</td><td>41.88137</td><td>-87.67493</td><td>member</td><td>29</td></tr>\n",
       "<tr><td>A4891F78776D35DF</td><td>classic</td><td>2022-12-14 16:13:39</td><td>2022-12-14 16:27:50</td><td>ASHLAND AVE &amp; CHI...</td><td>13247</td><td>DAMEN AVE &amp; CHARL...</td><td>13288</td><td>41.89595435734305</td><td>-87.6677280664444</td><td>41.920082</td><td>-87.677855</td><td>casual</td><td>14</td></tr>\n",
       "</table>\n"
      ],
      "text/plain": [
       "+----------------+-------------+-------------------+-------------------+--------------------+----------------+--------------------+--------------+-----------------+------------------+-----------------+------------------+---------------+---------+\n",
       "|         ride_id|rideable_type|         started_at|           ended_at|  start_station_name|start_station_id|    end_station_name|end_station_id|        start_lat|         start_lng|          end_lat|           end_lng|member_category|trip_time|\n",
       "+----------------+-------------+-------------------+-------------------+--------------------+----------------+--------------------+--------------+-----------------+------------------+-----------------+------------------+---------------+---------+\n",
       "|65DBD2F447EC51C2|     electric|2022-12-05 10:47:18|2022-12-05 10:56:34|CLIFTON AVE & ARM...|    TA1307000163|SEDGWICK ST & WEB...|         13191|       41.9182435|-87.65711466666667|        41.922167|        -87.638888|         member|        9|\n",
       "|0C201AA7EA0EA1AD|      classic|2022-12-18 06:42:33|2022-12-18 07:08:44|BROADWAY & BELMON...|           13277|SEDGWICK ST & WEB...|         13191|        41.940106|        -87.645451|        41.922167|        -87.638888|         casual|       26|\n",
       "|E0B148CCB358A49D|     electric|2022-12-13 08:47:45|2022-12-13 08:59:51|SANGAMON ST & LAK...|    TA1306000015|ST. CLAIR ST & ER...|         13016|     41.885918856|      -87.65113318|41.89434513742426|-87.62279838323593|         member|       12|\n",
       "|54C5775D2B7C9188|      classic|2022-12-13 18:50:47|2022-12-13 19:19:48|SHIELDS AVE & 31S...|    KA1503000038|DAMEN AVE & MADIS...|         13134|        41.838464|        -87.635406|         41.88137|         -87.67493|         member|       29|\n",
       "|A4891F78776D35DF|      classic|2022-12-14 16:13:39|2022-12-14 16:27:50|ASHLAND AVE & CHI...|           13247|DAMEN AVE & CHARL...|         13288|41.89595435734305| -87.6677280664444|        41.920082|        -87.677855|         casual|       14|\n",
       "+----------------+-------------+-------------------+-------------------+--------------------+----------------+--------------------+--------------+-----------------+------------------+-----------------+------------------+---------------+---------+"
      ]
     },
     "execution_count": 22,
     "metadata": {},
     "output_type": "execute_result"
    }
   ],
   "source": [
    "from pyspark.sql.functions import upper, expr, split, col\n",
    "\n",
    "result_df_py = (\n",
    "  df\n",
    "  .withColumn(\"start_station_name\", upper(df[\"start_station_name\"]))\n",
    "  .withColumn(\"end_station_name\", upper(df[\"end_station_name\"]))\n",
    "  .withColumn(\"trip_time\", (expr(\"unix_timestamp(ended_at) - unix_timestamp(started_at)\") / 60).cast(\"int\"))\n",
    "  .withColumn(\"rideable_type\", split(\"rideable_type\", \"_\")[0])\n",
    "  .withColumnRenamed(\"member_casual\", \"member_category\")\n",
    "  \n",
    ")\n",
    "\n",
    "result_df_py.limit(5)\n"
   ]
  },
  {
   "cell_type": "markdown",
   "id": "bcbdab34-8441-4768-a070-28e5afcb26dd",
   "metadata": {},
   "source": [
    "- Quantidade de viagens iniciadas por estação"
   ]
  },
  {
   "cell_type": "code",
   "execution_count": 28,
   "id": "5e2751a6-8d9f-40c8-92b1-ed60f6e9ba22",
   "metadata": {},
   "outputs": [
    {
     "data": {
      "text/html": [
       "<table border='1'>\n",
       "<tr><th>start_station_name</th><th>count</th></tr>\n",
       "<tr><td>NULL</td><td>29283</td></tr>\n",
       "<tr><td>KINGSBURY ST &amp; KI...</td><td>1422</td></tr>\n",
       "<tr><td>CLINTON ST &amp; WASH...</td><td>1330</td></tr>\n",
       "<tr><td>CLARK ST &amp; ELM ST</td><td>1226</td></tr>\n",
       "<tr><td>STATE ST &amp; CHICAG...</td><td>1180</td></tr>\n",
       "<tr><td>CLINTON ST &amp; MADI...</td><td>1067</td></tr>\n",
       "<tr><td>CANAL ST &amp; ADAMS ST</td><td>1051</td></tr>\n",
       "<tr><td>WELLS ST &amp; CONCOR...</td><td>1041</td></tr>\n",
       "<tr><td>WELLS ST &amp; ELM ST</td><td>1028</td></tr>\n",
       "<tr><td>WELLS ST &amp; HURON ST</td><td>1025</td></tr>\n",
       "<tr><td>LARRABEE ST &amp; KIN...</td><td>1005</td></tr>\n",
       "<tr><td>CLINTON ST &amp; JACK...</td><td>970</td></tr>\n",
       "<tr><td>WABASH AVE &amp; GRAN...</td><td>968</td></tr>\n",
       "<tr><td>ST. CLAIR ST &amp; ER...</td><td>920</td></tr>\n",
       "<tr><td>DEARBORN ST &amp; ERI...</td><td>902</td></tr>\n",
       "<tr><td>UNIVERSITY AVE &amp; ...</td><td>898</td></tr>\n",
       "<tr><td>LASALLE ST &amp; ILLI...</td><td>896</td></tr>\n",
       "<tr><td>DESPLAINES ST &amp; K...</td><td>871</td></tr>\n",
       "<tr><td>BROADWAY &amp; BARRY AVE</td><td>864</td></tr>\n",
       "<tr><td>WELLS ST &amp; HUBBAR...</td><td>863</td></tr>\n",
       "</table>\n",
       "only showing top 20 rows\n"
      ],
      "text/plain": [
       "+--------------------+-----+\n",
       "|  start_station_name|count|\n",
       "+--------------------+-----+\n",
       "|                NULL|29283|\n",
       "|KINGSBURY ST & KI...| 1422|\n",
       "|CLINTON ST & WASH...| 1330|\n",
       "|   CLARK ST & ELM ST| 1226|\n",
       "|STATE ST & CHICAG...| 1180|\n",
       "|CLINTON ST & MADI...| 1067|\n",
       "| CANAL ST & ADAMS ST| 1051|\n",
       "|WELLS ST & CONCOR...| 1041|\n",
       "|   WELLS ST & ELM ST| 1028|\n",
       "| WELLS ST & HURON ST| 1025|\n",
       "|LARRABEE ST & KIN...| 1005|\n",
       "|CLINTON ST & JACK...|  970|\n",
       "|WABASH AVE & GRAN...|  968|\n",
       "|ST. CLAIR ST & ER...|  920|\n",
       "|DEARBORN ST & ERI...|  902|\n",
       "|UNIVERSITY AVE & ...|  898|\n",
       "|LASALLE ST & ILLI...|  896|\n",
       "|DESPLAINES ST & K...|  871|\n",
       "|BROADWAY & BARRY AVE|  864|\n",
       "|WELLS ST & HUBBAR...|  863|\n",
       "+--------------------+-----+\n",
       "only showing top 20 rows"
      ]
     },
     "metadata": {},
     "output_type": "display_data"
    }
   ],
   "source": [
    "df_station_agg = result_df_py.groupBy(\"start_station_name\").count().orderBy(\"count\", ascending=False)\n",
    "display(df_station_agg)"
   ]
  },
  {
   "cell_type": "code",
   "execution_count": 32,
   "id": "74cecd6e-9b11-4108-9e19-bb1050d4b85a",
   "metadata": {},
   "outputs": [],
   "source": [
    "from pyspark.sql.functions import when, col"
   ]
  },
  {
   "cell_type": "code",
   "execution_count": 39,
   "id": "cf8e5d6d-9ffd-45dc-a20d-49b945e12701",
   "metadata": {},
   "outputs": [
    {
     "data": {
      "text/html": [
       "<table border='1'>\n",
       "<tr><th>start_station_name</th><th>count</th></tr>\n",
       "<tr><td>unknown</td><td>29283</td></tr>\n",
       "<tr><td>KINGSBURY ST &amp; KI...</td><td>1422</td></tr>\n",
       "<tr><td>CLINTON ST &amp; WASH...</td><td>1330</td></tr>\n",
       "<tr><td>CLARK ST &amp; ELM ST</td><td>1226</td></tr>\n",
       "<tr><td>STATE ST &amp; CHICAG...</td><td>1180</td></tr>\n",
       "<tr><td>CLINTON ST &amp; MADI...</td><td>1067</td></tr>\n",
       "<tr><td>CANAL ST &amp; ADAMS ST</td><td>1051</td></tr>\n",
       "<tr><td>WELLS ST &amp; CONCOR...</td><td>1041</td></tr>\n",
       "<tr><td>WELLS ST &amp; ELM ST</td><td>1028</td></tr>\n",
       "<tr><td>WELLS ST &amp; HURON ST</td><td>1025</td></tr>\n",
       "<tr><td>LARRABEE ST &amp; KIN...</td><td>1005</td></tr>\n",
       "<tr><td>CLINTON ST &amp; JACK...</td><td>970</td></tr>\n",
       "<tr><td>WABASH AVE &amp; GRAN...</td><td>968</td></tr>\n",
       "<tr><td>ST. CLAIR ST &amp; ER...</td><td>920</td></tr>\n",
       "<tr><td>DEARBORN ST &amp; ERI...</td><td>902</td></tr>\n",
       "<tr><td>UNIVERSITY AVE &amp; ...</td><td>898</td></tr>\n",
       "<tr><td>LASALLE ST &amp; ILLI...</td><td>896</td></tr>\n",
       "<tr><td>DESPLAINES ST &amp; K...</td><td>871</td></tr>\n",
       "<tr><td>BROADWAY &amp; BARRY AVE</td><td>864</td></tr>\n",
       "<tr><td>WELLS ST &amp; HUBBAR...</td><td>863</td></tr>\n",
       "</table>\n",
       "only showing top 20 rows\n"
      ],
      "text/plain": [
       "+--------------------+-----+\n",
       "|  start_station_name|count|\n",
       "+--------------------+-----+\n",
       "|             unknown|29283|\n",
       "|KINGSBURY ST & KI...| 1422|\n",
       "|CLINTON ST & WASH...| 1330|\n",
       "|   CLARK ST & ELM ST| 1226|\n",
       "|STATE ST & CHICAG...| 1180|\n",
       "|CLINTON ST & MADI...| 1067|\n",
       "| CANAL ST & ADAMS ST| 1051|\n",
       "|WELLS ST & CONCOR...| 1041|\n",
       "|   WELLS ST & ELM ST| 1028|\n",
       "| WELLS ST & HURON ST| 1025|\n",
       "|LARRABEE ST & KIN...| 1005|\n",
       "|CLINTON ST & JACK...|  970|\n",
       "|WABASH AVE & GRAN...|  968|\n",
       "|ST. CLAIR ST & ER...|  920|\n",
       "|DEARBORN ST & ERI...|  902|\n",
       "|UNIVERSITY AVE & ...|  898|\n",
       "|LASALLE ST & ILLI...|  896|\n",
       "|DESPLAINES ST & K...|  871|\n",
       "|BROADWAY & BARRY AVE|  864|\n",
       "|WELLS ST & HUBBAR...|  863|\n",
       "+--------------------+-----+\n",
       "only showing top 20 rows"
      ]
     },
     "metadata": {},
     "output_type": "display_data"
    }
   ],
   "source": [
    "df_fill_start_station = result_df_py\\\n",
    "    .withColumn(\"start_station_name\", when(col(\"start_station_name\").isNull(),\"unknown\").otherwise(result_df_py[\"start_station_name\"]) )\n",
    "\n",
    "\n",
    "df_station_agg = df_fill_start_station.groupBy(\"start_station_name\").count().orderBy(\"count\", ascending=False)\n",
    "\n",
    "display(df_station_agg)"
   ]
  },
  {
   "cell_type": "markdown",
   "id": "b5538725-5a93-4076-85b0-15f2177ece17",
   "metadata": {},
   "source": [
    "- Quantidade de viagens finalizadas por estação\n"
   ]
  },
  {
   "cell_type": "code",
   "execution_count": 43,
   "id": "a71da814-3d5b-48a8-816f-8c14ddf4f229",
   "metadata": {},
   "outputs": [
    {
     "data": {
      "text/html": [
       "<table border='1'>\n",
       "<tr><th>end_station_name</th><th>count</th></tr>\n",
       "<tr><td>unknown</td><td>31158</td></tr>\n",
       "<tr><td>KINGSBURY ST &amp; KI...</td><td>1422</td></tr>\n",
       "<tr><td>CLINTON ST &amp; WASH...</td><td>1402</td></tr>\n",
       "<tr><td>STATE ST &amp; CHICAG...</td><td>1179</td></tr>\n",
       "<tr><td>CLARK ST &amp; ELM ST</td><td>1174</td></tr>\n",
       "<tr><td>CLINTON ST &amp; MADI...</td><td>1144</td></tr>\n",
       "<tr><td>CANAL ST &amp; ADAMS ST</td><td>1115</td></tr>\n",
       "<tr><td>WELLS ST &amp; CONCOR...</td><td>1081</td></tr>\n",
       "<tr><td>WABASH AVE &amp; GRAN...</td><td>1041</td></tr>\n",
       "<tr><td>WELLS ST &amp; ELM ST</td><td>1025</td></tr>\n",
       "<tr><td>CLINTON ST &amp; JACK...</td><td>1024</td></tr>\n",
       "<tr><td>ST. CLAIR ST &amp; ER...</td><td>1022</td></tr>\n",
       "<tr><td>LARRABEE ST &amp; KIN...</td><td>1005</td></tr>\n",
       "<tr><td>LASALLE ST &amp; ILLI...</td><td>951</td></tr>\n",
       "<tr><td>DEARBORN ST &amp; ERI...</td><td>934</td></tr>\n",
       "<tr><td>UNIVERSITY AVE &amp; ...</td><td>883</td></tr>\n",
       "<tr><td>BROADWAY &amp; BARRY AVE</td><td>868</td></tr>\n",
       "<tr><td>WELLS ST &amp; HUBBAR...</td><td>860</td></tr>\n",
       "<tr><td>DALEY CENTER PLAZA</td><td>855</td></tr>\n",
       "<tr><td>BROADWAY &amp; WAVELA...</td><td>854</td></tr>\n",
       "</table>\n",
       "only showing top 20 rows\n"
      ],
      "text/plain": [
       "+--------------------+-----+\n",
       "|    end_station_name|count|\n",
       "+--------------------+-----+\n",
       "|             unknown|31158|\n",
       "|KINGSBURY ST & KI...| 1422|\n",
       "|CLINTON ST & WASH...| 1402|\n",
       "|STATE ST & CHICAG...| 1179|\n",
       "|   CLARK ST & ELM ST| 1174|\n",
       "|CLINTON ST & MADI...| 1144|\n",
       "| CANAL ST & ADAMS ST| 1115|\n",
       "|WELLS ST & CONCOR...| 1081|\n",
       "|WABASH AVE & GRAN...| 1041|\n",
       "|   WELLS ST & ELM ST| 1025|\n",
       "|CLINTON ST & JACK...| 1024|\n",
       "|ST. CLAIR ST & ER...| 1022|\n",
       "|LARRABEE ST & KIN...| 1005|\n",
       "|LASALLE ST & ILLI...|  951|\n",
       "|DEARBORN ST & ERI...|  934|\n",
       "|UNIVERSITY AVE & ...|  883|\n",
       "|BROADWAY & BARRY AVE|  868|\n",
       "|WELLS ST & HUBBAR...|  860|\n",
       "|  DALEY CENTER PLAZA|  855|\n",
       "|BROADWAY & WAVELA...|  854|\n",
       "+--------------------+-----+\n",
       "only showing top 20 rows"
      ]
     },
     "metadata": {},
     "output_type": "display_data"
    }
   ],
   "source": [
    "df_fill_end_station = result_df_py\\\n",
    "    .withColumn(\"end_station_name\", when(col(\"end_station_name\").isNull(),\"unknown\").otherwise(result_df_py[\"end_station_name\"]) )\n",
    "\n",
    "\n",
    "df_station_agg_end = df_fill_end_station.groupBy(\"end_station_name\").count().orderBy(\"count\", ascending=False)\n",
    "\n",
    "display(df_station_agg_end)"
   ]
  },
  {
   "cell_type": "markdown",
   "id": "ea61a27a-4767-4de2-9311-7b7577f3959d",
   "metadata": {},
   "source": [
    "- Qual a média de duração de uma viagem com bike do tipo eletric e classic?"
   ]
  },
  {
   "cell_type": "code",
   "execution_count": 44,
   "id": "23aa11cf-3312-4f20-8c79-bf7aff4b4fa1",
   "metadata": {},
   "outputs": [
    {
     "data": {
      "text/html": [
       "<table border='1'>\n",
       "<tr><th>rideable_type</th><th>avg(trip_time)</th></tr>\n",
       "<tr><td>docked</td><td>205.70909090909092</td></tr>\n",
       "<tr><td>classic</td><td>13.134383094751193</td></tr>\n",
       "<tr><td>electric</td><td>9.447437834996386</td></tr>\n",
       "</table>\n"
      ],
      "text/plain": [
       "+-------------+------------------+\n",
       "|rideable_type|    avg(trip_time)|\n",
       "+-------------+------------------+\n",
       "|       docked|205.70909090909092|\n",
       "|      classic|13.134383094751193|\n",
       "|     electric| 9.447437834996386|\n",
       "+-------------+------------------+"
      ]
     },
     "metadata": {},
     "output_type": "display_data"
    }
   ],
   "source": [
    "df_avg_trip = result_df_py.groupBy(\"rideable_type\").avg(\"trip_time\")\n",
    "display(df_avg_trip)"
   ]
  },
  {
   "cell_type": "markdown",
   "id": "9bd9e932-0144-4c62-8c68-791e4a81a268",
   "metadata": {},
   "source": [
    "# Desafio\n",
    "- Reescrever utilizando SQL"
   ]
  },
  {
   "cell_type": "code",
   "execution_count": null,
   "id": "66268832-76ef-4d95-b90e-e81de34ade04",
   "metadata": {},
   "outputs": [],
   "source": []
  }
 ],
 "metadata": {
  "kernelspec": {
   "display_name": "Python 3 (ipykernel)",
   "language": "python",
   "name": "python3"
  },
  "language_info": {
   "codemirror_mode": {
    "name": "ipython",
    "version": 3
   },
   "file_extension": ".py",
   "mimetype": "text/x-python",
   "name": "python",
   "nbconvert_exporter": "python",
   "pygments_lexer": "ipython3",
   "version": "3.11.6"
  }
 },
 "nbformat": 4,
 "nbformat_minor": 5
}
