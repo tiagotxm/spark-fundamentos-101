{
 "cells": [
  {
   "cell_type": "markdown",
   "id": "47f245c0-b49e-423a-aec9-ee476581593b",
   "metadata": {},
   "source": [
    "- Criar um dataframe, filtrar viagens com duração maior do que 30 minutos\n",
    "- Criar 2 dataframes. Um com dados de viagens de bikes eletricas e outro com bikes classicas, ambos ordenado por data\n",
    "\n",
    "\n",
    "https://spark.apache.org/docs/latest/api/python/reference/pyspark.sql/functions.html\n",
    "  "
   ]
  },
  {
   "cell_type": "code",
   "execution_count": 5,
   "id": "004bbda2-1df8-4368-85b9-da140e77affb",
   "metadata": {},
   "outputs": [
    {
     "data": {
      "text/html": [
       "<table border='1'>\n",
       "<tr><th>ride_id</th><th>rideable_type</th><th>started_at</th><th>ended_at</th><th>start_station_name</th><th>start_station_id</th><th>end_station_name</th><th>end_station_id</th><th>start_lat</th><th>start_lng</th><th>end_lat</th><th>end_lng</th><th>member_casual</th></tr>\n",
       "<tr><td>65DBD2F447EC51C2</td><td>electric_bike</td><td>2022-12-05 10:47:18</td><td>2022-12-05 10:56:34</td><td>Clifton Ave &amp; Arm...</td><td>TA1307000163</td><td>Sedgwick St &amp; Web...</td><td>13191</td><td>41.9182435</td><td>-87.65711466666667</td><td>41.922167</td><td>-87.638888</td><td>member</td></tr>\n",
       "<tr><td>0C201AA7EA0EA1AD</td><td>classic_bike</td><td>2022-12-18 06:42:33</td><td>2022-12-18 07:08:44</td><td>Broadway &amp; Belmon...</td><td>13277</td><td>Sedgwick St &amp; Web...</td><td>13191</td><td>41.940106</td><td>-87.645451</td><td>41.922167</td><td>-87.638888</td><td>casual</td></tr>\n",
       "<tr><td>E0B148CCB358A49D</td><td>electric_bike</td><td>2022-12-13 08:47:45</td><td>2022-12-13 08:59:51</td><td>Sangamon St &amp; Lak...</td><td>TA1306000015</td><td>St. Clair St &amp; Er...</td><td>13016</td><td>41.885918856</td><td>-87.65113318</td><td>41.89434513742426</td><td>-87.62279838323593</td><td>member</td></tr>\n",
       "<tr><td>54C5775D2B7C9188</td><td>classic_bike</td><td>2022-12-13 18:50:47</td><td>2022-12-13 19:19:48</td><td>Shields Ave &amp; 31s...</td><td>KA1503000038</td><td>Damen Ave &amp; Madis...</td><td>13134</td><td>41.838464</td><td>-87.635406</td><td>41.88137</td><td>-87.67493</td><td>member</td></tr>\n",
       "<tr><td>A4891F78776D35DF</td><td>classic_bike</td><td>2022-12-14 16:13:39</td><td>2022-12-14 16:27:50</td><td>Ashland Ave &amp; Chi...</td><td>13247</td><td>Damen Ave &amp; Charl...</td><td>13288</td><td>41.89595435734305</td><td>-87.6677280664444</td><td>41.920082</td><td>-87.677855</td><td>casual</td></tr>\n",
       "</table>\n"
      ],
      "text/plain": [
       "+----------------+-------------+-------------------+-------------------+--------------------+----------------+--------------------+--------------+-----------------+------------------+-----------------+------------------+-------------+\n",
       "|         ride_id|rideable_type|         started_at|           ended_at|  start_station_name|start_station_id|    end_station_name|end_station_id|        start_lat|         start_lng|          end_lat|           end_lng|member_casual|\n",
       "+----------------+-------------+-------------------+-------------------+--------------------+----------------+--------------------+--------------+-----------------+------------------+-----------------+------------------+-------------+\n",
       "|65DBD2F447EC51C2|electric_bike|2022-12-05 10:47:18|2022-12-05 10:56:34|Clifton Ave & Arm...|    TA1307000163|Sedgwick St & Web...|         13191|       41.9182435|-87.65711466666667|        41.922167|        -87.638888|       member|\n",
       "|0C201AA7EA0EA1AD| classic_bike|2022-12-18 06:42:33|2022-12-18 07:08:44|Broadway & Belmon...|           13277|Sedgwick St & Web...|         13191|        41.940106|        -87.645451|        41.922167|        -87.638888|       casual|\n",
       "|E0B148CCB358A49D|electric_bike|2022-12-13 08:47:45|2022-12-13 08:59:51|Sangamon St & Lak...|    TA1306000015|St. Clair St & Er...|         13016|     41.885918856|      -87.65113318|41.89434513742426|-87.62279838323593|       member|\n",
       "|54C5775D2B7C9188| classic_bike|2022-12-13 18:50:47|2022-12-13 19:19:48|Shields Ave & 31s...|    KA1503000038|Damen Ave & Madis...|         13134|        41.838464|        -87.635406|         41.88137|         -87.67493|       member|\n",
       "|A4891F78776D35DF| classic_bike|2022-12-14 16:13:39|2022-12-14 16:27:50|Ashland Ave & Chi...|           13247|Damen Ave & Charl...|         13288|41.89595435734305| -87.6677280664444|        41.920082|        -87.677855|       casual|\n",
       "+----------------+-------------+-------------------+-------------------+--------------------+----------------+--------------------+--------------+-----------------+------------------+-----------------+------------------+-------------+"
      ]
     },
     "execution_count": 5,
     "metadata": {},
     "output_type": "execute_result"
    }
   ],
   "source": [
    "file_path=\"/home/jovyan/work/data/202212_divvy_tripdata.csv\"\n",
    "\n",
    "#Cria sessão para ambiente local\n",
    "from pyspark.sql import SparkSession\n",
    "\n",
    "spark = SparkSession.builder \\\n",
    "    .appName(\"manipulando-dados\") \\\n",
    "    .getOrCreate()\n",
    "\n",
    "spark.conf.set(\"spark.sql.repl.eagerEval.enabled\", True)\n",
    "\n",
    "df = spark.read.option(\"header\", \"true\").csv(file_path)\n",
    "df.limit(5)"
   ]
  },
  {
   "cell_type": "code",
   "execution_count": 6,
   "id": "6e938331-a920-4a6a-9075-0c547101d082",
   "metadata": {},
   "outputs": [
    {
     "data": {
      "text/html": [
       "<table border='1'>\n",
       "<tr><th>ride_id</th><th>rideable_type</th><th>started_at</th><th>ended_at</th><th>start_station_name</th><th>start_station_id</th><th>end_station_name</th><th>end_station_id</th><th>start_lat</th><th>start_lng</th><th>end_lat</th><th>end_lng</th><th>member_category</th><th>trip_time</th></tr>\n",
       "<tr><td>65DBD2F447EC51C2</td><td>electric</td><td>2022-12-05 10:47:18</td><td>2022-12-05 10:56:34</td><td>CLIFTON AVE &amp; ARM...</td><td>TA1307000163</td><td>SEDGWICK ST &amp; WEB...</td><td>13191</td><td>41.9182435</td><td>-87.65711466666667</td><td>41.922167</td><td>-87.638888</td><td>member</td><td>9</td></tr>\n",
       "<tr><td>0C201AA7EA0EA1AD</td><td>classic</td><td>2022-12-18 06:42:33</td><td>2022-12-18 07:08:44</td><td>BROADWAY &amp; BELMON...</td><td>13277</td><td>SEDGWICK ST &amp; WEB...</td><td>13191</td><td>41.940106</td><td>-87.645451</td><td>41.922167</td><td>-87.638888</td><td>casual</td><td>26</td></tr>\n",
       "<tr><td>E0B148CCB358A49D</td><td>electric</td><td>2022-12-13 08:47:45</td><td>2022-12-13 08:59:51</td><td>SANGAMON ST &amp; LAK...</td><td>TA1306000015</td><td>ST. CLAIR ST &amp; ER...</td><td>13016</td><td>41.885918856</td><td>-87.65113318</td><td>41.89434513742426</td><td>-87.62279838323593</td><td>member</td><td>12</td></tr>\n",
       "<tr><td>54C5775D2B7C9188</td><td>classic</td><td>2022-12-13 18:50:47</td><td>2022-12-13 19:19:48</td><td>SHIELDS AVE &amp; 31S...</td><td>KA1503000038</td><td>DAMEN AVE &amp; MADIS...</td><td>13134</td><td>41.838464</td><td>-87.635406</td><td>41.88137</td><td>-87.67493</td><td>member</td><td>29</td></tr>\n",
       "<tr><td>A4891F78776D35DF</td><td>classic</td><td>2022-12-14 16:13:39</td><td>2022-12-14 16:27:50</td><td>ASHLAND AVE &amp; CHI...</td><td>13247</td><td>DAMEN AVE &amp; CHARL...</td><td>13288</td><td>41.89595435734305</td><td>-87.6677280664444</td><td>41.920082</td><td>-87.677855</td><td>casual</td><td>14</td></tr>\n",
       "</table>\n"
      ],
      "text/plain": [
       "+----------------+-------------+-------------------+-------------------+--------------------+----------------+--------------------+--------------+-----------------+------------------+-----------------+------------------+---------------+---------+\n",
       "|         ride_id|rideable_type|         started_at|           ended_at|  start_station_name|start_station_id|    end_station_name|end_station_id|        start_lat|         start_lng|          end_lat|           end_lng|member_category|trip_time|\n",
       "+----------------+-------------+-------------------+-------------------+--------------------+----------------+--------------------+--------------+-----------------+------------------+-----------------+------------------+---------------+---------+\n",
       "|65DBD2F447EC51C2|     electric|2022-12-05 10:47:18|2022-12-05 10:56:34|CLIFTON AVE & ARM...|    TA1307000163|SEDGWICK ST & WEB...|         13191|       41.9182435|-87.65711466666667|        41.922167|        -87.638888|         member|        9|\n",
       "|0C201AA7EA0EA1AD|      classic|2022-12-18 06:42:33|2022-12-18 07:08:44|BROADWAY & BELMON...|           13277|SEDGWICK ST & WEB...|         13191|        41.940106|        -87.645451|        41.922167|        -87.638888|         casual|       26|\n",
       "|E0B148CCB358A49D|     electric|2022-12-13 08:47:45|2022-12-13 08:59:51|SANGAMON ST & LAK...|    TA1306000015|ST. CLAIR ST & ER...|         13016|     41.885918856|      -87.65113318|41.89434513742426|-87.62279838323593|         member|       12|\n",
       "|54C5775D2B7C9188|      classic|2022-12-13 18:50:47|2022-12-13 19:19:48|SHIELDS AVE & 31S...|    KA1503000038|DAMEN AVE & MADIS...|         13134|        41.838464|        -87.635406|         41.88137|         -87.67493|         member|       29|\n",
       "|A4891F78776D35DF|      classic|2022-12-14 16:13:39|2022-12-14 16:27:50|ASHLAND AVE & CHI...|           13247|DAMEN AVE & CHARL...|         13288|41.89595435734305| -87.6677280664444|        41.920082|        -87.677855|         casual|       14|\n",
       "+----------------+-------------+-------------------+-------------------+--------------------+----------------+--------------------+--------------+-----------------+------------------+-----------------+------------------+---------------+---------+"
      ]
     },
     "execution_count": 6,
     "metadata": {},
     "output_type": "execute_result"
    }
   ],
   "source": [
    "from pyspark.sql.functions import upper, expr, split\n",
    "\n",
    "result_df_py = (\n",
    "  df\n",
    "  .withColumn(\"start_station_name\", upper(df[\"start_station_name\"]))\n",
    "  .withColumn(\"end_station_name\", upper(df[\"end_station_name\"]))\n",
    "  .withColumn(\"trip_time\", (expr(\"unix_timestamp(ended_at) - unix_timestamp(started_at)\") / 60).cast(\"int\"))\n",
    "  .withColumn(\"rideable_type\", split(\"rideable_type\", \"_\")[0])\n",
    "  .withColumnRenamed(\"member_casual\", \"member_category\")\n",
    "  \n",
    ")\n",
    "\n",
    "result_df_py.limit(5)\n"
   ]
  },
  {
   "cell_type": "code",
   "execution_count": 8,
   "id": "111d2685-db06-475d-b6fa-3b03aea7396d",
   "metadata": {},
   "outputs": [],
   "source": [
    "df_maior_30_min = (\n",
    "    result_df_py.filter(result_df_py.trip_time > 30)\n",
    ")"
   ]
  },
  {
   "cell_type": "code",
   "execution_count": 10,
   "id": "27d028ae-ad47-4ad8-a3a2-c162650118b4",
   "metadata": {},
   "outputs": [
    {
     "data": {
      "text/html": [
       "<table border='1'>\n",
       "<tr><th>ride_id</th><th>rideable_type</th><th>started_at</th><th>ended_at</th><th>start_station_name</th><th>start_station_id</th><th>end_station_name</th><th>end_station_id</th><th>start_lat</th><th>start_lng</th><th>end_lat</th><th>end_lng</th><th>member_category</th><th>trip_time</th></tr>\n",
       "<tr><td>E1DCD2C3B9471006</td><td>electric</td><td>2022-12-06 17:43:11</td><td>2022-12-06 19:10:01</td><td>CLINTON ST &amp; ROOS...</td><td>WL-008</td><td>ST. CLAIR ST &amp; ER...</td><td>13016</td><td>41.867122293</td><td>-87.641112328</td><td>41.89434513742426</td><td>-87.62279838323593</td><td>member</td><td>86</td></tr>\n",
       "<tr><td>0B4AC802FF1F65A6</td><td>classic</td><td>2022-12-20 10:19:56</td><td>2022-12-20 13:13:57</td><td>WESTERN AVE &amp; LEL...</td><td>TA1307000140</td><td>SOUTHPORT AVE &amp; W...</td><td>13235</td><td>41.966399801840986</td><td>-87.68870428204536</td><td>41.94815</td><td>-87.66394</td><td>casual</td><td>174</td></tr>\n",
       "<tr><td>DB68885CB978F021</td><td>electric</td><td>2022-12-05 18:12:40</td><td>2022-12-05 19:23:21</td><td>CLINTON ST &amp; ROOS...</td><td>WL-008</td><td>WABASH AVE &amp; 16TH ST</td><td>SL-012</td><td>41.8671255</td><td>-87.64102233333334</td><td>41.860384</td><td>-87.625813</td><td>member</td><td>70</td></tr>\n",
       "<tr><td>8602A572ADB87616</td><td>classic</td><td>2022-12-19 12:07:51</td><td>2022-12-19 12:46:16</td><td>ROCKWELL ST &amp; EAS...</td><td>KA1504000093</td><td>ROCKWELL ST &amp; EAS...</td><td>KA1504000093</td><td>41.96590013976</td><td>-87.6936384935</td><td>41.96590013976</td><td>-87.6936384935</td><td>member</td><td>38</td></tr>\n",
       "<tr><td>C05F37F09125FF03</td><td>docked</td><td>2022-12-28 17:07:56</td><td>2022-12-28 17:50:39</td><td>CANAL ST &amp; ADAMS ST</td><td>13011</td><td>WABASH AVE &amp; 16TH ST</td><td>SL-012</td><td>41.879255</td><td>-87.639904</td><td>41.860384</td><td>-87.625813</td><td>casual</td><td>42</td></tr>\n",
       "<tr><td>35CFF1597C070CD2</td><td>classic</td><td>2022-12-04 14:37:03</td><td>2022-12-04 15:10:49</td><td>WABASH AVE &amp; 16TH ST</td><td>SL-012</td><td>WABASH AVE &amp; 16TH ST</td><td>SL-012</td><td>41.860384</td><td>-87.625813</td><td>41.860384</td><td>-87.625813</td><td>member</td><td>33</td></tr>\n",
       "<tr><td>DB0C8326DA0608C4</td><td>electric</td><td>2022-12-19 23:11:36</td><td>2022-12-19 23:44:12</td><td>TRIPP AVE &amp; 15TH ST</td><td>363.0</td><td>TRIPP AVE &amp; 15TH ST</td><td>363.0</td><td>41.86</td><td>-87.73</td><td>41.86</td><td>-87.73</td><td>member</td><td>32</td></tr>\n",
       "<tr><td>53B5A87A76E6D0CD</td><td>classic</td><td>2022-12-02 18:53:43</td><td>2022-12-02 19:52:01</td><td>CLARK ST &amp; ELM ST</td><td>TA1307000039</td><td>MCCLURG CT &amp; OHIO ST</td><td>TA1306000029</td><td>41.902973</td><td>-87.63128</td><td>41.892592119709725</td><td>-87.61728912591934</td><td>member</td><td>58</td></tr>\n",
       "<tr><td>FA85E9AFDA4C9546</td><td>classic</td><td>2022-12-14 16:00:41</td><td>2022-12-14 16:31:52</td><td>WABASH AVE &amp; 9TH ST</td><td>TA1309000010</td><td>MCCLURG CT &amp; OHIO ST</td><td>TA1306000029</td><td>41.870769</td><td>-87.625734</td><td>41.892592119709725</td><td>-87.61728912591934</td><td>casual</td><td>31</td></tr>\n",
       "<tr><td>C8F349D6915E4DA9</td><td>electric</td><td>2022-12-06 21:26:45</td><td>2022-12-06 22:00:34</td><td>CLINTON ST &amp; ROOS...</td><td>WL-008</td><td>HARPER AVE &amp; 59TH ST</td><td>KA1503000070</td><td>41.867166281</td><td>-87.640986681</td><td>41.78794281287</td><td>-87.5883151702</td><td>member</td><td>33</td></tr>\n",
       "<tr><td>AF6AAA5E35677295</td><td>classic</td><td>2022-12-10 15:53:59</td><td>2022-12-10 16:29:30</td><td>KNOX AVE &amp; MONTRO...</td><td>592</td><td>KOSCIUSZKO PARK</td><td>15643</td><td>41.960631</td><td>-87.745359</td><td>41.93058537138</td><td>-87.7237773635</td><td>member</td><td>35</td></tr>\n",
       "<tr><td>FDB81E3F29E407BB</td><td>electric</td><td>2022-12-14 20:30:18</td><td>2022-12-14 21:02:26</td><td>ROCKWELL ST &amp; EAS...</td><td>KA1504000093</td><td>NARRAGANSETT AVE ...</td><td>397</td><td>41.965886166666664</td><td>-87.6936685</td><td>41.94</td><td>-87.79</td><td>member</td><td>32</td></tr>\n",
       "<tr><td>745D9CD955D207BE</td><td>classic</td><td>2022-12-02 10:04:29</td><td>2022-12-02 10:53:36</td><td>FRANKLIN ST &amp; MON...</td><td>TA1309000007</td><td>LASALLE ST &amp; ILLI...</td><td>13430</td><td>41.880317</td><td>-87.635185</td><td>41.890762</td><td>-87.631697</td><td>casual</td><td>49</td></tr>\n",
       "<tr><td>167166C68E829326</td><td>electric</td><td>2022-12-03 17:42:39</td><td>2022-12-03 18:17:26</td><td>CENTRAL AVE &amp; HAR...</td><td>16915</td><td>PUBLIC RACK - CEN...</td><td>789</td><td>41.873051333333336</td><td>-87.76450083333333</td><td>41.87</td><td>-87.76</td><td>casual</td><td>34</td></tr>\n",
       "<tr><td>7D0064FBE6863121</td><td>classic</td><td>2022-12-28 12:30:48</td><td>2022-12-28 13:02:52</td><td>FORT DEARBORN DR ...</td><td>TA1307000048</td><td>UNIVERSITY AVE &amp; ...</td><td>KA1503000071</td><td>41.838556</td><td>-87.608218</td><td>41.791478</td><td>-87.599861</td><td>member</td><td>32</td></tr>\n",
       "<tr><td>D4E092D89EA3B514</td><td>classic</td><td>2022-12-27 21:25:31</td><td>2022-12-28 11:21:39</td><td>WOLCOTT AVE &amp; POL...</td><td>TA1309000064</td><td>LOOMIS ST &amp; LEXIN...</td><td>13332</td><td>41.871262</td><td>-87.673688</td><td>41.87222873224032</td><td>-87.66136385500431</td><td>member</td><td>836</td></tr>\n",
       "<tr><td>E0CA3B9CB834130A</td><td>classic</td><td>2022-12-09 20:36:27</td><td>2022-12-09 21:13:29</td><td>WOLCOTT AVE &amp; POL...</td><td>TA1309000064</td><td>LOOMIS ST &amp; LEXIN...</td><td>13332</td><td>41.871262</td><td>-87.673688</td><td>41.87222873224032</td><td>-87.66136385500431</td><td>member</td><td>37</td></tr>\n",
       "<tr><td>32C8A1192D0CD5CC</td><td>classic</td><td>2022-12-09 20:34:34</td><td>2022-12-09 21:13:18</td><td>WOLCOTT AVE &amp; POL...</td><td>TA1309000064</td><td>LOOMIS ST &amp; LEXIN...</td><td>13332</td><td>41.871262</td><td>-87.673688</td><td>41.87222873224032</td><td>-87.66136385500431</td><td>member</td><td>38</td></tr>\n",
       "<tr><td>9E9ECE668D988826</td><td>classic</td><td>2022-12-03 16:35:43</td><td>2022-12-03 17:17:56</td><td>EAST END AVE &amp; 87...</td><td>20231</td><td>BENNETT AVE &amp; 79T...</td><td>16970</td><td>41.73681521440671</td><td>-87.58280128240585</td><td>41.751785</td><td>-87.578496</td><td>casual</td><td>42</td></tr>\n",
       "<tr><td>8F177401D18D980E</td><td>classic</td><td>2022-12-15 08:40:54</td><td>2022-12-15 09:15:51</td><td>SHERIDAN RD &amp; BUE...</td><td>TA1309000027</td><td>FIELD BLVD &amp; SOUT...</td><td>15534</td><td>41.958494</td><td>-87.654966</td><td>41.88634906269</td><td>-87.6175165471</td><td>member</td><td>34</td></tr>\n",
       "</table>\n",
       "only showing top 20 rows\n"
      ],
      "text/plain": [
       "+----------------+-------------+-------------------+-------------------+--------------------+----------------+--------------------+--------------+------------------+------------------+------------------+------------------+---------------+---------+\n",
       "|         ride_id|rideable_type|         started_at|           ended_at|  start_station_name|start_station_id|    end_station_name|end_station_id|         start_lat|         start_lng|           end_lat|           end_lng|member_category|trip_time|\n",
       "+----------------+-------------+-------------------+-------------------+--------------------+----------------+--------------------+--------------+------------------+------------------+------------------+------------------+---------------+---------+\n",
       "|E1DCD2C3B9471006|     electric|2022-12-06 17:43:11|2022-12-06 19:10:01|CLINTON ST & ROOS...|          WL-008|ST. CLAIR ST & ER...|         13016|      41.867122293|     -87.641112328| 41.89434513742426|-87.62279838323593|         member|       86|\n",
       "|0B4AC802FF1F65A6|      classic|2022-12-20 10:19:56|2022-12-20 13:13:57|WESTERN AVE & LEL...|    TA1307000140|SOUTHPORT AVE & W...|         13235|41.966399801840986|-87.68870428204536|          41.94815|         -87.66394|         casual|      174|\n",
       "|DB68885CB978F021|     electric|2022-12-05 18:12:40|2022-12-05 19:23:21|CLINTON ST & ROOS...|          WL-008|WABASH AVE & 16TH ST|        SL-012|        41.8671255|-87.64102233333334|         41.860384|        -87.625813|         member|       70|\n",
       "|8602A572ADB87616|      classic|2022-12-19 12:07:51|2022-12-19 12:46:16|ROCKWELL ST & EAS...|    KA1504000093|ROCKWELL ST & EAS...|  KA1504000093|    41.96590013976|    -87.6936384935|    41.96590013976|    -87.6936384935|         member|       38|\n",
       "|C05F37F09125FF03|       docked|2022-12-28 17:07:56|2022-12-28 17:50:39| CANAL ST & ADAMS ST|           13011|WABASH AVE & 16TH ST|        SL-012|         41.879255|        -87.639904|         41.860384|        -87.625813|         casual|       42|\n",
       "|35CFF1597C070CD2|      classic|2022-12-04 14:37:03|2022-12-04 15:10:49|WABASH AVE & 16TH ST|          SL-012|WABASH AVE & 16TH ST|        SL-012|         41.860384|        -87.625813|         41.860384|        -87.625813|         member|       33|\n",
       "|DB0C8326DA0608C4|     electric|2022-12-19 23:11:36|2022-12-19 23:44:12| TRIPP AVE & 15TH ST|           363.0| TRIPP AVE & 15TH ST|         363.0|             41.86|            -87.73|             41.86|            -87.73|         member|       32|\n",
       "|53B5A87A76E6D0CD|      classic|2022-12-02 18:53:43|2022-12-02 19:52:01|   CLARK ST & ELM ST|    TA1307000039|MCCLURG CT & OHIO ST|  TA1306000029|         41.902973|         -87.63128|41.892592119709725|-87.61728912591934|         member|       58|\n",
       "|FA85E9AFDA4C9546|      classic|2022-12-14 16:00:41|2022-12-14 16:31:52| WABASH AVE & 9TH ST|    TA1309000010|MCCLURG CT & OHIO ST|  TA1306000029|         41.870769|        -87.625734|41.892592119709725|-87.61728912591934|         casual|       31|\n",
       "|C8F349D6915E4DA9|     electric|2022-12-06 21:26:45|2022-12-06 22:00:34|CLINTON ST & ROOS...|          WL-008|HARPER AVE & 59TH ST|  KA1503000070|      41.867166281|     -87.640986681|    41.78794281287|    -87.5883151702|         member|       33|\n",
       "|AF6AAA5E35677295|      classic|2022-12-10 15:53:59|2022-12-10 16:29:30|KNOX AVE & MONTRO...|             592|     KOSCIUSZKO PARK|         15643|         41.960631|        -87.745359|    41.93058537138|    -87.7237773635|         member|       35|\n",
       "|FDB81E3F29E407BB|     electric|2022-12-14 20:30:18|2022-12-14 21:02:26|ROCKWELL ST & EAS...|    KA1504000093|NARRAGANSETT AVE ...|           397|41.965886166666664|       -87.6936685|             41.94|            -87.79|         member|       32|\n",
       "|745D9CD955D207BE|      classic|2022-12-02 10:04:29|2022-12-02 10:53:36|FRANKLIN ST & MON...|    TA1309000007|LASALLE ST & ILLI...|         13430|         41.880317|        -87.635185|         41.890762|        -87.631697|         casual|       49|\n",
       "|167166C68E829326|     electric|2022-12-03 17:42:39|2022-12-03 18:17:26|CENTRAL AVE & HAR...|           16915|PUBLIC RACK - CEN...|           789|41.873051333333336|-87.76450083333333|             41.87|            -87.76|         casual|       34|\n",
       "|7D0064FBE6863121|      classic|2022-12-28 12:30:48|2022-12-28 13:02:52|FORT DEARBORN DR ...|    TA1307000048|UNIVERSITY AVE & ...|  KA1503000071|         41.838556|        -87.608218|         41.791478|        -87.599861|         member|       32|\n",
       "|D4E092D89EA3B514|      classic|2022-12-27 21:25:31|2022-12-28 11:21:39|WOLCOTT AVE & POL...|    TA1309000064|LOOMIS ST & LEXIN...|         13332|         41.871262|        -87.673688| 41.87222873224032|-87.66136385500431|         member|      836|\n",
       "|E0CA3B9CB834130A|      classic|2022-12-09 20:36:27|2022-12-09 21:13:29|WOLCOTT AVE & POL...|    TA1309000064|LOOMIS ST & LEXIN...|         13332|         41.871262|        -87.673688| 41.87222873224032|-87.66136385500431|         member|       37|\n",
       "|32C8A1192D0CD5CC|      classic|2022-12-09 20:34:34|2022-12-09 21:13:18|WOLCOTT AVE & POL...|    TA1309000064|LOOMIS ST & LEXIN...|         13332|         41.871262|        -87.673688| 41.87222873224032|-87.66136385500431|         member|       38|\n",
       "|9E9ECE668D988826|      classic|2022-12-03 16:35:43|2022-12-03 17:17:56|EAST END AVE & 87...|           20231|BENNETT AVE & 79T...|         16970| 41.73681521440671|-87.58280128240585|         41.751785|        -87.578496|         casual|       42|\n",
       "|8F177401D18D980E|      classic|2022-12-15 08:40:54|2022-12-15 09:15:51|SHERIDAN RD & BUE...|    TA1309000027|FIELD BLVD & SOUT...|         15534|         41.958494|        -87.654966|    41.88634906269|    -87.6175165471|         member|       34|\n",
       "+----------------+-------------+-------------------+-------------------+--------------------+----------------+--------------------+--------------+------------------+------------------+------------------+------------------+---------------+---------+\n",
       "only showing top 20 rows"
      ]
     },
     "metadata": {},
     "output_type": "display_data"
    }
   ],
   "source": [
    "display(df_maior_30_min)"
   ]
  },
  {
   "cell_type": "code",
   "execution_count": 11,
   "id": "0703e6c7-91a4-4031-967c-302443a4e9fe",
   "metadata": {},
   "outputs": [],
   "source": [
    "from pyspark.sql.functions import col"
   ]
  },
  {
   "cell_type": "code",
   "execution_count": 12,
   "id": "323ee89e-94dd-4a72-99fa-9c6f08f32bab",
   "metadata": {},
   "outputs": [
    {
     "data": {
      "text/html": [
       "<table border='1'>\n",
       "<tr><th>ride_id</th><th>rideable_type</th><th>started_at</th><th>ended_at</th><th>start_station_name</th><th>start_station_id</th><th>end_station_name</th><th>end_station_id</th><th>start_lat</th><th>start_lng</th><th>end_lat</th><th>end_lng</th><th>member_category</th><th>trip_time</th></tr>\n",
       "<tr><td>B1D52B01956FFC46</td><td>electric</td><td>2022-12-01 01:01:09</td><td>2022-12-01 01:32:11</td><td>NULL</td><td>NULL</td><td>NULL</td><td>NULL</td><td>41.77</td><td>-87.57</td><td>41.74</td><td>-87.68</td><td>member</td><td>31</td></tr>\n",
       "<tr><td>9ED6246AE12FF95D</td><td>electric</td><td>2022-12-01 03:42:34</td><td>2022-12-01 04:42:42</td><td>NULL</td><td>NULL</td><td>ASHLAND AVE &amp; LAK...</td><td>13073</td><td>41.88</td><td>-87.67</td><td>41.88592</td><td>-87.66717</td><td>casual</td><td>60</td></tr>\n",
       "<tr><td>A005B5A8068DDD18</td><td>electric</td><td>2022-12-01 03:53:06</td><td>2022-12-01 04:29:04</td><td>NULL</td><td>NULL</td><td>NULL</td><td>NULL</td><td>41.99</td><td>-87.66</td><td>41.99</td><td>-87.66</td><td>member</td><td>35</td></tr>\n",
       "<tr><td>736CED10A7020EFD</td><td>electric</td><td>2022-12-01 06:10:39</td><td>2022-12-01 07:02:40</td><td>NULL</td><td>NULL</td><td>NULL</td><td>NULL</td><td>41.8</td><td>-87.6</td><td>41.79</td><td>-87.59</td><td>member</td><td>52</td></tr>\n",
       "<tr><td>2F5B64527AEC3DF8</td><td>electric</td><td>2022-12-01 07:18:39</td><td>2022-12-01 08:09:37</td><td>NULL</td><td>NULL</td><td>DESPLAINES ST &amp; J...</td><td>15539</td><td>41.99</td><td>-87.67</td><td>41.87811890091227</td><td>-87.64394760131836</td><td>member</td><td>50</td></tr>\n",
       "<tr><td>F390EDB71035C820</td><td>electric</td><td>2022-12-01 07:25:31</td><td>2022-12-01 08:00:16</td><td>NULL</td><td>NULL</td><td>SHERIDAN RD &amp; IRV...</td><td>13063</td><td>41.92</td><td>-87.76</td><td>41.954245</td><td>-87.654406</td><td>member</td><td>34</td></tr>\n",
       "<tr><td>0C5FA74D7CFB6328</td><td>electric</td><td>2022-12-01 07:40:53</td><td>2022-12-01 08:12:31</td><td>ASHLAND AVE &amp; BLA...</td><td>13224</td><td>NULL</td><td>NULL</td><td>41.907081723</td><td>-87.667278647</td><td>41.88</td><td>-87.64</td><td>member</td><td>31</td></tr>\n",
       "<tr><td>A81704545E70797B</td><td>electric</td><td>2022-12-01 09:02:23</td><td>2022-12-01 09:42:19</td><td>NULL</td><td>NULL</td><td>HERMITAGE AVE &amp; P...</td><td>13080</td><td>41.95</td><td>-87.65</td><td>41.871514</td><td>-87.669886</td><td>member</td><td>39</td></tr>\n",
       "<tr><td>83B378A01809EAD8</td><td>electric</td><td>2022-12-01 09:09:55</td><td>2022-12-01 09:51:31</td><td>NULL</td><td>NULL</td><td>LARRABEE ST &amp; ARM...</td><td>TA1309000006</td><td>42.0</td><td>-87.67</td><td>41.918084</td><td>-87.643749</td><td>member</td><td>41</td></tr>\n",
       "<tr><td>60E446FC5975E758</td><td>electric</td><td>2022-12-01 09:46:43</td><td>2022-12-01 10:34:07</td><td>PUBLIC RACK - LON...</td><td>899</td><td>HOMEWOOD AVE &amp; 11...</td><td>20206</td><td>41.69</td><td>-87.67</td><td>41.684595072026184</td><td>-87.67070800065994</td><td>member</td><td>47</td></tr>\n",
       "<tr><td>A5298081FEAA4E54</td><td>electric</td><td>2022-12-01 09:48:04</td><td>2022-12-01 10:27:37</td><td>SOUTHPORT AVE &amp; R...</td><td>13071</td><td>NULL</td><td>NULL</td><td>41.943814516</td><td>-87.66387701</td><td>41.89</td><td>-87.63</td><td>member</td><td>39</td></tr>\n",
       "<tr><td>7531272DD107E1B9</td><td>electric</td><td>2022-12-01 09:51:23</td><td>2022-12-01 10:54:31</td><td>DUSABLE LAKE SHOR...</td><td>13300</td><td>MUSEUM OF SCIENCE...</td><td>KA1503000074</td><td>41.88097633333334</td><td>-87.616785</td><td>41.79172820953</td><td>-87.583945009</td><td>casual</td><td>63</td></tr>\n",
       "<tr><td>623AF686E28E713D</td><td>electric</td><td>2022-12-01 09:54:52</td><td>2022-12-01 10:48:53</td><td>MARINE DR &amp; AINSL...</td><td>KA1504000171</td><td>SHERIDAN RD &amp; ARG...</td><td>13059</td><td>41.971619833333335</td><td>-87.6502555</td><td>41.97328682025979</td><td>-87.65475958585739</td><td>casual</td><td>54</td></tr>\n",
       "<tr><td>1E2FCBB5AE89BEB0</td><td>electric</td><td>2022-12-01 10:12:01</td><td>2022-12-01 10:44:38</td><td>CLARK ST &amp; NORTH AVE</td><td>13128</td><td>NULL</td><td>NULL</td><td>41.911952853</td><td>-87.631932855</td><td>41.89</td><td>-87.63</td><td>member</td><td>32</td></tr>\n",
       "<tr><td>54E4E178A6017BB5</td><td>electric</td><td>2022-12-01 11:04:02</td><td>2022-12-01 12:08:39</td><td>DALEY CENTER PLAZA</td><td>TA1306000010</td><td>NULL</td><td>NULL</td><td>41.884212255</td><td>-87.629626751</td><td>41.89</td><td>-87.64</td><td>member</td><td>64</td></tr>\n",
       "<tr><td>894CBA6327F941DD</td><td>electric</td><td>2022-12-01 11:06:35</td><td>2022-12-01 14:30:29</td><td>ASHLAND AVE &amp; DIV...</td><td>13061</td><td>STATE ST &amp; CHICAG...</td><td>21544</td><td>41.90337683333333</td><td>-87.66781283333333</td><td>41.89661720040753</td><td>-87.62857854366302</td><td>member</td><td>203</td></tr>\n",
       "<tr><td>4418BE463318F607</td><td>electric</td><td>2022-12-01 11:29:14</td><td>2022-12-01 14:35:12</td><td>WABASH AVE &amp; GRAN...</td><td>TA1307000117</td><td>STATE ST &amp; CHICAG...</td><td>21544</td><td>41.892062664</td><td>-87.62677753</td><td>41.89661720040753</td><td>-87.62857854366302</td><td>member</td><td>185</td></tr>\n",
       "<tr><td>D70886A14C614A7B</td><td>electric</td><td>2022-12-01 11:42:27</td><td>2022-12-01 13:48:18</td><td>NULL</td><td>NULL</td><td>NULL</td><td>NULL</td><td>41.74</td><td>-87.6</td><td>41.74</td><td>-87.6</td><td>member</td><td>125</td></tr>\n",
       "<tr><td>F9ADFFC7A4DD981D</td><td>electric</td><td>2022-12-01 12:09:23</td><td>2022-12-01 17:08:59</td><td>NULL</td><td>NULL</td><td>NULL</td><td>NULL</td><td>41.89</td><td>-87.64</td><td>41.91</td><td>-87.67</td><td>member</td><td>299</td></tr>\n",
       "<tr><td>C8938166ACDC9B98</td><td>electric</td><td>2022-12-01 12:28:48</td><td>2022-12-01 13:12:54</td><td>MILLENNIUM PARK</td><td>13008</td><td>FRANKLIN ST &amp; ADA...</td><td>TA1309000008</td><td>41.881330848</td><td>-87.624179959</td><td>41.87943409140013</td><td>-87.63550400733948</td><td>casual</td><td>44</td></tr>\n",
       "</table>\n",
       "only showing top 20 rows\n"
      ],
      "text/plain": [
       "+----------------+-------------+-------------------+-------------------+--------------------+----------------+--------------------+--------------+------------------+------------------+------------------+------------------+---------------+---------+\n",
       "|         ride_id|rideable_type|         started_at|           ended_at|  start_station_name|start_station_id|    end_station_name|end_station_id|         start_lat|         start_lng|           end_lat|           end_lng|member_category|trip_time|\n",
       "+----------------+-------------+-------------------+-------------------+--------------------+----------------+--------------------+--------------+------------------+------------------+------------------+------------------+---------------+---------+\n",
       "|B1D52B01956FFC46|     electric|2022-12-01 01:01:09|2022-12-01 01:32:11|                NULL|            NULL|                NULL|          NULL|             41.77|            -87.57|             41.74|            -87.68|         member|       31|\n",
       "|9ED6246AE12FF95D|     electric|2022-12-01 03:42:34|2022-12-01 04:42:42|                NULL|            NULL|ASHLAND AVE & LAK...|         13073|             41.88|            -87.67|          41.88592|         -87.66717|         casual|       60|\n",
       "|A005B5A8068DDD18|     electric|2022-12-01 03:53:06|2022-12-01 04:29:04|                NULL|            NULL|                NULL|          NULL|             41.99|            -87.66|             41.99|            -87.66|         member|       35|\n",
       "|736CED10A7020EFD|     electric|2022-12-01 06:10:39|2022-12-01 07:02:40|                NULL|            NULL|                NULL|          NULL|              41.8|             -87.6|             41.79|            -87.59|         member|       52|\n",
       "|2F5B64527AEC3DF8|     electric|2022-12-01 07:18:39|2022-12-01 08:09:37|                NULL|            NULL|DESPLAINES ST & J...|         15539|             41.99|            -87.67| 41.87811890091227|-87.64394760131836|         member|       50|\n",
       "|F390EDB71035C820|     electric|2022-12-01 07:25:31|2022-12-01 08:00:16|                NULL|            NULL|SHERIDAN RD & IRV...|         13063|             41.92|            -87.76|         41.954245|        -87.654406|         member|       34|\n",
       "|0C5FA74D7CFB6328|     electric|2022-12-01 07:40:53|2022-12-01 08:12:31|ASHLAND AVE & BLA...|           13224|                NULL|          NULL|      41.907081723|     -87.667278647|             41.88|            -87.64|         member|       31|\n",
       "|A81704545E70797B|     electric|2022-12-01 09:02:23|2022-12-01 09:42:19|                NULL|            NULL|HERMITAGE AVE & P...|         13080|             41.95|            -87.65|         41.871514|        -87.669886|         member|       39|\n",
       "|83B378A01809EAD8|     electric|2022-12-01 09:09:55|2022-12-01 09:51:31|                NULL|            NULL|LARRABEE ST & ARM...|  TA1309000006|              42.0|            -87.67|         41.918084|        -87.643749|         member|       41|\n",
       "|60E446FC5975E758|     electric|2022-12-01 09:46:43|2022-12-01 10:34:07|PUBLIC RACK - LON...|             899|HOMEWOOD AVE & 11...|         20206|             41.69|            -87.67|41.684595072026184|-87.67070800065994|         member|       47|\n",
       "|A5298081FEAA4E54|     electric|2022-12-01 09:48:04|2022-12-01 10:27:37|SOUTHPORT AVE & R...|           13071|                NULL|          NULL|      41.943814516|      -87.66387701|             41.89|            -87.63|         member|       39|\n",
       "|7531272DD107E1B9|     electric|2022-12-01 09:51:23|2022-12-01 10:54:31|DUSABLE LAKE SHOR...|           13300|MUSEUM OF SCIENCE...|  KA1503000074| 41.88097633333334|        -87.616785|    41.79172820953|     -87.583945009|         casual|       63|\n",
       "|623AF686E28E713D|     electric|2022-12-01 09:54:52|2022-12-01 10:48:53|MARINE DR & AINSL...|    KA1504000171|SHERIDAN RD & ARG...|         13059|41.971619833333335|       -87.6502555| 41.97328682025979|-87.65475958585739|         casual|       54|\n",
       "|1E2FCBB5AE89BEB0|     electric|2022-12-01 10:12:01|2022-12-01 10:44:38|CLARK ST & NORTH AVE|           13128|                NULL|          NULL|      41.911952853|     -87.631932855|             41.89|            -87.63|         member|       32|\n",
       "|54E4E178A6017BB5|     electric|2022-12-01 11:04:02|2022-12-01 12:08:39|  DALEY CENTER PLAZA|    TA1306000010|                NULL|          NULL|      41.884212255|     -87.629626751|             41.89|            -87.64|         member|       64|\n",
       "|894CBA6327F941DD|     electric|2022-12-01 11:06:35|2022-12-01 14:30:29|ASHLAND AVE & DIV...|           13061|STATE ST & CHICAG...|         21544| 41.90337683333333|-87.66781283333333| 41.89661720040753|-87.62857854366302|         member|      203|\n",
       "|4418BE463318F607|     electric|2022-12-01 11:29:14|2022-12-01 14:35:12|WABASH AVE & GRAN...|    TA1307000117|STATE ST & CHICAG...|         21544|      41.892062664|      -87.62677753| 41.89661720040753|-87.62857854366302|         member|      185|\n",
       "|D70886A14C614A7B|     electric|2022-12-01 11:42:27|2022-12-01 13:48:18|                NULL|            NULL|                NULL|          NULL|             41.74|             -87.6|             41.74|             -87.6|         member|      125|\n",
       "|F9ADFFC7A4DD981D|     electric|2022-12-01 12:09:23|2022-12-01 17:08:59|                NULL|            NULL|                NULL|          NULL|             41.89|            -87.64|             41.91|            -87.67|         member|      299|\n",
       "|C8938166ACDC9B98|     electric|2022-12-01 12:28:48|2022-12-01 13:12:54|     MILLENNIUM PARK|           13008|FRANKLIN ST & ADA...|  TA1309000008|      41.881330848|     -87.624179959| 41.87943409140013|-87.63550400733948|         casual|       44|\n",
       "+----------------+-------------+-------------------+-------------------+--------------------+----------------+--------------------+--------------+------------------+------------------+------------------+------------------+---------------+---------+\n",
       "only showing top 20 rows"
      ]
     },
     "metadata": {},
     "output_type": "display_data"
    }
   ],
   "source": [
    "df_electric = (\n",
    "    df_maior_30_min.filter(col(\"rideable_type\") == \"electric\").orderBy(\"started_at\")\n",
    ")\n",
    "\n",
    "display(df_electric)"
   ]
  },
  {
   "cell_type": "code",
   "execution_count": 13,
   "id": "5b9dacbd-9661-46c3-8e3d-3a6054bb7f14",
   "metadata": {},
   "outputs": [
    {
     "data": {
      "text/html": [
       "<table border='1'>\n",
       "<tr><th>ride_id</th><th>rideable_type</th><th>started_at</th><th>ended_at</th><th>start_station_name</th><th>start_station_id</th><th>end_station_name</th><th>end_station_id</th><th>start_lat</th><th>start_lng</th><th>end_lat</th><th>end_lng</th><th>member_category</th><th>trip_time</th></tr>\n",
       "<tr><td>5042C02FA60D3D30</td><td>classic</td><td>2022-12-01 00:57:33</td><td>2022-12-01 01:28:35</td><td>ST. LOUIS AVE &amp; F...</td><td>KA1504000090</td><td>KINGSBURY ST &amp; KI...</td><td>KA1503000043</td><td>41.92481559681187</td><td>-87.71449506282805</td><td>41.88917683258</td><td>-87.6385057718</td><td>casual</td><td>31</td></tr>\n",
       "<tr><td>59C8309C280E95E5</td><td>classic</td><td>2022-12-01 06:51:25</td><td>2022-12-01 07:28:31</td><td>BROADWAY &amp; CORNEL...</td><td>13278</td><td>WESTERN AVE &amp; MON...</td><td>15667</td><td>41.945529</td><td>-87.646439</td><td>41.8797877089</td><td>-87.686112808</td><td>member</td><td>37</td></tr>\n",
       "<tr><td>EDB08365EDAFAC2B</td><td>classic</td><td>2022-12-01 07:03:22</td><td>2022-12-01 07:37:47</td><td>HALSTED ST &amp; WRIG...</td><td>TA1309000061</td><td>WOLCOTT AVE &amp; POL...</td><td>TA1309000064</td><td>41.929143</td><td>-87.649077</td><td>41.871262</td><td>-87.673688</td><td>member</td><td>34</td></tr>\n",
       "<tr><td>0314A4E50FD16BA1</td><td>classic</td><td>2022-12-01 07:06:28</td><td>2022-12-01 07:38:52</td><td>CLARK ST &amp; SCHILL...</td><td>TA1309000024</td><td>MICHIGAN AVE &amp; 8T...</td><td>623</td><td>41.907993</td><td>-87.631501</td><td>41.872773</td><td>-87.623981</td><td>member</td><td>32</td></tr>\n",
       "<tr><td>146DB3EC88A9CD75</td><td>classic</td><td>2022-12-01 07:08:34</td><td>2022-12-01 07:43:20</td><td>CLARENDON AVE &amp; G...</td><td>13379</td><td>ST. CLAIR ST &amp; ER...</td><td>13016</td><td>41.95786652415174</td><td>-87.64950513839722</td><td>41.89434513742426</td><td>-87.62279838323593</td><td>member</td><td>34</td></tr>\n",
       "<tr><td>E1AA6E1DAF164AD9</td><td>classic</td><td>2022-12-01 07:24:32</td><td>2022-12-01 07:57:12</td><td>SHERIDAN RD &amp; BUE...</td><td>TA1309000027</td><td>STATE ST &amp; VAN BU...</td><td>TA1305000035</td><td>41.958494</td><td>-87.654966</td><td>41.877181</td><td>-87.627844</td><td>member</td><td>32</td></tr>\n",
       "<tr><td>31B4FE39146EA449</td><td>classic</td><td>2022-12-01 07:30:09</td><td>2022-12-01 08:01:29</td><td>CANAL ST &amp; ADAMS ST</td><td>13011</td><td>LINCOLN AVE &amp; FUL...</td><td>TA1309000058</td><td>41.879255</td><td>-87.639904</td><td>41.924161029067626</td><td>-87.64638036489487</td><td>member</td><td>31</td></tr>\n",
       "<tr><td>6BC767B34FC83904</td><td>classic</td><td>2022-12-01 07:38:13</td><td>2022-12-01 09:17:48</td><td>LOOMIS ST &amp; 89TH ST</td><td>20102</td><td>LOOMIS ST &amp; 89TH ST</td><td>20102</td><td>41.73237975329554</td><td>-87.65806943178177</td><td>41.73237975329554</td><td>-87.65806943178177</td><td>casual</td><td>99</td></tr>\n",
       "<tr><td>556D6650BB4DBD3A</td><td>classic</td><td>2022-12-01 07:44:11</td><td>2022-12-02 08:43:57</td><td>AUSTIN BLVD &amp; CHI...</td><td>16921</td><td>NULL</td><td>NULL</td><td>41.894887</td><td>-87.774704</td><td>NULL</td><td>NULL</td><td>member</td><td>1499</td></tr>\n",
       "<tr><td>E3453155C603E8EB</td><td>classic</td><td>2022-12-01 07:55:12</td><td>2022-12-01 08:32:49</td><td>WILTON AVE &amp; DIVE...</td><td>chargingstx0</td><td>DEARBORN ST &amp; MON...</td><td>TA1305000006</td><td>41.932418</td><td>-87.652705</td><td>41.881319815</td><td>-87.6295209193</td><td>member</td><td>37</td></tr>\n",
       "<tr><td>6A9428F66520BC65</td><td>classic</td><td>2022-12-01 07:57:15</td><td>2022-12-01 08:29:25</td><td>SOUTHPORT AVE &amp; I...</td><td>TA1309000043</td><td>WELLS ST &amp; HURON ST</td><td>TA1306000012</td><td>41.954177</td><td>-87.664358</td><td>41.894722</td><td>-87.634362</td><td>member</td><td>32</td></tr>\n",
       "<tr><td>FF6B9F0095D25F3F</td><td>classic</td><td>2022-12-01 08:09:50</td><td>2022-12-01 08:48:31</td><td>SHEFFIELD AVE &amp; W...</td><td>TA1309000033</td><td>MILLENNIUM PARK</td><td>13008</td><td>41.92154</td><td>-87.653818</td><td>41.8810317</td><td>-87.62408432</td><td>member</td><td>38</td></tr>\n",
       "<tr><td>0286A3917954E22C</td><td>classic</td><td>2022-12-01 08:17:50</td><td>2022-12-01 08:58:22</td><td>LEAVITT ST &amp; ADDI...</td><td>KA1504000143</td><td>CITYFRONT PLAZA D...</td><td>13427</td><td>41.946655</td><td>-87.683359</td><td>41.890573</td><td>-87.622072</td><td>member</td><td>40</td></tr>\n",
       "<tr><td>06F9A8A2995F9F2C</td><td>classic</td><td>2022-12-01 08:22:11</td><td>2022-12-01 09:02:12</td><td>INDIANA AVE &amp; 31S...</td><td>TA1308000036</td><td>MIES VAN DER ROHE...</td><td>15529</td><td>41.838842</td><td>-87.621857</td><td>41.8985866514</td><td>-87.6219152258</td><td>member</td><td>40</td></tr>\n",
       "<tr><td>A96217797D7809FC</td><td>classic</td><td>2022-12-01 08:26:24</td><td>2022-12-01 09:01:41</td><td>SOUTHPORT AVE &amp; I...</td><td>TA1309000043</td><td>MICHIGAN AVE &amp; LA...</td><td>TA1305000011</td><td>41.954177</td><td>-87.664358</td><td>41.886024</td><td>-87.624117</td><td>member</td><td>35</td></tr>\n",
       "<tr><td>BB8C68DF47646CFA</td><td>classic</td><td>2022-12-01 08:34:15</td><td>2022-12-01 09:12:36</td><td>CALIFORNIA AVE &amp; ...</td><td>17660</td><td>ASHLAND AVE &amp; WEL...</td><td>13269</td><td>41.900363</td><td>-87.696704</td><td>41.936083</td><td>-87.669807</td><td>member</td><td>38</td></tr>\n",
       "<tr><td>249E0828E37F1E73</td><td>classic</td><td>2022-12-01 08:37:22</td><td>2022-12-01 09:49:22</td><td>MUSEUM OF SCIENCE...</td><td>KA1503000074</td><td>DUSABLE LAKE SHOR...</td><td>13300</td><td>41.79172820953</td><td>-87.583945009</td><td>41.880958</td><td>-87.616743</td><td>casual</td><td>72</td></tr>\n",
       "<tr><td>99A6795F95CB4081</td><td>classic</td><td>2022-12-01 08:41:41</td><td>2022-12-01 09:29:38</td><td>CLARK ST &amp; WELLIN...</td><td>TA1307000136</td><td>STATE ST &amp; 29TH ST</td><td>13213</td><td>41.9364968219</td><td>-87.6475386582</td><td>41.841707</td><td>-87.626938</td><td>member</td><td>47</td></tr>\n",
       "<tr><td>E9A5D68D6304CDEE</td><td>classic</td><td>2022-12-01 09:02:31</td><td>2022-12-01 09:46:11</td><td>RAVENSWOOD AVE &amp; ...</td><td>TA1309000066</td><td>CLARK ST &amp; LELAND...</td><td>TA1309000014</td><td>41.96909</td><td>-87.674237</td><td>41.96708783918421</td><td>-87.66729086637497</td><td>member</td><td>43</td></tr>\n",
       "<tr><td>DF76AC0DACCC4ED4</td><td>classic</td><td>2022-12-01 09:46:16</td><td>2022-12-01 13:20:07</td><td>MICHIGAN AVE &amp; 8T...</td><td>623</td><td>CLARK ST &amp; LAKE ST</td><td>KA1503000012</td><td>41.872773</td><td>-87.623981</td><td>41.88602082773</td><td>-87.6308760584</td><td>member</td><td>213</td></tr>\n",
       "</table>\n",
       "only showing top 20 rows\n"
      ],
      "text/plain": [
       "+----------------+-------------+-------------------+-------------------+--------------------+----------------+--------------------+--------------+-----------------+------------------+------------------+------------------+---------------+---------+\n",
       "|         ride_id|rideable_type|         started_at|           ended_at|  start_station_name|start_station_id|    end_station_name|end_station_id|        start_lat|         start_lng|           end_lat|           end_lng|member_category|trip_time|\n",
       "+----------------+-------------+-------------------+-------------------+--------------------+----------------+--------------------+--------------+-----------------+------------------+------------------+------------------+---------------+---------+\n",
       "|5042C02FA60D3D30|      classic|2022-12-01 00:57:33|2022-12-01 01:28:35|ST. LOUIS AVE & F...|    KA1504000090|KINGSBURY ST & KI...|  KA1503000043|41.92481559681187|-87.71449506282805|    41.88917683258|    -87.6385057718|         casual|       31|\n",
       "|59C8309C280E95E5|      classic|2022-12-01 06:51:25|2022-12-01 07:28:31|BROADWAY & CORNEL...|           13278|WESTERN AVE & MON...|         15667|        41.945529|        -87.646439|     41.8797877089|     -87.686112808|         member|       37|\n",
       "|EDB08365EDAFAC2B|      classic|2022-12-01 07:03:22|2022-12-01 07:37:47|HALSTED ST & WRIG...|    TA1309000061|WOLCOTT AVE & POL...|  TA1309000064|        41.929143|        -87.649077|         41.871262|        -87.673688|         member|       34|\n",
       "|0314A4E50FD16BA1|      classic|2022-12-01 07:06:28|2022-12-01 07:38:52|CLARK ST & SCHILL...|    TA1309000024|MICHIGAN AVE & 8T...|           623|        41.907993|        -87.631501|         41.872773|        -87.623981|         member|       32|\n",
       "|146DB3EC88A9CD75|      classic|2022-12-01 07:08:34|2022-12-01 07:43:20|CLARENDON AVE & G...|           13379|ST. CLAIR ST & ER...|         13016|41.95786652415174|-87.64950513839722| 41.89434513742426|-87.62279838323593|         member|       34|\n",
       "|E1AA6E1DAF164AD9|      classic|2022-12-01 07:24:32|2022-12-01 07:57:12|SHERIDAN RD & BUE...|    TA1309000027|STATE ST & VAN BU...|  TA1305000035|        41.958494|        -87.654966|         41.877181|        -87.627844|         member|       32|\n",
       "|31B4FE39146EA449|      classic|2022-12-01 07:30:09|2022-12-01 08:01:29| CANAL ST & ADAMS ST|           13011|LINCOLN AVE & FUL...|  TA1309000058|        41.879255|        -87.639904|41.924161029067626|-87.64638036489487|         member|       31|\n",
       "|6BC767B34FC83904|      classic|2022-12-01 07:38:13|2022-12-01 09:17:48| LOOMIS ST & 89TH ST|           20102| LOOMIS ST & 89TH ST|         20102|41.73237975329554|-87.65806943178177| 41.73237975329554|-87.65806943178177|         casual|       99|\n",
       "|556D6650BB4DBD3A|      classic|2022-12-01 07:44:11|2022-12-02 08:43:57|AUSTIN BLVD & CHI...|           16921|                NULL|          NULL|        41.894887|        -87.774704|              NULL|              NULL|         member|     1499|\n",
       "|E3453155C603E8EB|      classic|2022-12-01 07:55:12|2022-12-01 08:32:49|WILTON AVE & DIVE...|    chargingstx0|DEARBORN ST & MON...|  TA1305000006|        41.932418|        -87.652705|      41.881319815|    -87.6295209193|         member|       37|\n",
       "|6A9428F66520BC65|      classic|2022-12-01 07:57:15|2022-12-01 08:29:25|SOUTHPORT AVE & I...|    TA1309000043| WELLS ST & HURON ST|  TA1306000012|        41.954177|        -87.664358|         41.894722|        -87.634362|         member|       32|\n",
       "|FF6B9F0095D25F3F|      classic|2022-12-01 08:09:50|2022-12-01 08:48:31|SHEFFIELD AVE & W...|    TA1309000033|     MILLENNIUM PARK|         13008|         41.92154|        -87.653818|        41.8810317|      -87.62408432|         member|       38|\n",
       "|0286A3917954E22C|      classic|2022-12-01 08:17:50|2022-12-01 08:58:22|LEAVITT ST & ADDI...|    KA1504000143|CITYFRONT PLAZA D...|         13427|        41.946655|        -87.683359|         41.890573|        -87.622072|         member|       40|\n",
       "|06F9A8A2995F9F2C|      classic|2022-12-01 08:22:11|2022-12-01 09:02:12|INDIANA AVE & 31S...|    TA1308000036|MIES VAN DER ROHE...|         15529|        41.838842|        -87.621857|     41.8985866514|    -87.6219152258|         member|       40|\n",
       "|A96217797D7809FC|      classic|2022-12-01 08:26:24|2022-12-01 09:01:41|SOUTHPORT AVE & I...|    TA1309000043|MICHIGAN AVE & LA...|  TA1305000011|        41.954177|        -87.664358|         41.886024|        -87.624117|         member|       35|\n",
       "|BB8C68DF47646CFA|      classic|2022-12-01 08:34:15|2022-12-01 09:12:36|CALIFORNIA AVE & ...|           17660|ASHLAND AVE & WEL...|         13269|        41.900363|        -87.696704|         41.936083|        -87.669807|         member|       38|\n",
       "|249E0828E37F1E73|      classic|2022-12-01 08:37:22|2022-12-01 09:49:22|MUSEUM OF SCIENCE...|    KA1503000074|DUSABLE LAKE SHOR...|         13300|   41.79172820953|     -87.583945009|         41.880958|        -87.616743|         casual|       72|\n",
       "|99A6795F95CB4081|      classic|2022-12-01 08:41:41|2022-12-01 09:29:38|CLARK ST & WELLIN...|    TA1307000136|  STATE ST & 29TH ST|         13213|    41.9364968219|    -87.6475386582|         41.841707|        -87.626938|         member|       47|\n",
       "|E9A5D68D6304CDEE|      classic|2022-12-01 09:02:31|2022-12-01 09:46:11|RAVENSWOOD AVE & ...|    TA1309000066|CLARK ST & LELAND...|  TA1309000014|         41.96909|        -87.674237| 41.96708783918421|-87.66729086637497|         member|       43|\n",
       "|DF76AC0DACCC4ED4|      classic|2022-12-01 09:46:16|2022-12-01 13:20:07|MICHIGAN AVE & 8T...|             623|  CLARK ST & LAKE ST|  KA1503000012|        41.872773|        -87.623981|    41.88602082773|    -87.6308760584|         member|      213|\n",
       "+----------------+-------------+-------------------+-------------------+--------------------+----------------+--------------------+--------------+-----------------+------------------+------------------+------------------+---------------+---------+\n",
       "only showing top 20 rows"
      ]
     },
     "metadata": {},
     "output_type": "display_data"
    }
   ],
   "source": [
    "df_classic = (\n",
    "    df_maior_30_min.filter(col(\"rideable_type\") == \"classic\").orderBy(\"started_at\")\n",
    ")\n",
    "\n",
    "display(df_classic)"
   ]
  },
  {
   "cell_type": "markdown",
   "id": "b34aec97-af8c-42e8-9ad9-b35874a1899d",
   "metadata": {},
   "source": [
    "# Utilizando SQL"
   ]
  },
  {
   "cell_type": "code",
   "execution_count": 14,
   "id": "eddd3366-67d0-432e-a14b-cd47ab11ca3d",
   "metadata": {},
   "outputs": [],
   "source": [
    "df = spark.read.option(\"header\", \"true\").csv(file_path)\n",
    "df.createOrReplaceTempView(\"bike_shared\")"
   ]
  },
  {
   "cell_type": "code",
   "execution_count": 15,
   "id": "45e9e739-8d3e-40bf-b473-6364f41048ea",
   "metadata": {},
   "outputs": [
    {
     "data": {
      "text/html": [
       "<table border='1'>\n",
       "<tr><th>started_at</th><th>ride_id</th><th>start_station_name</th><th>end_station_name</th><th>trip_time</th><th>rideable_type</th><th>member_category</th></tr>\n",
       "<tr><td>2022-12-05 10:47:18</td><td>65DBD2F447EC51C2</td><td>CLIFTON AVE &amp; ARM...</td><td>SEDGWICK ST &amp; WEB...</td><td>9.266666666666667</td><td>electric</td><td>member</td></tr>\n",
       "<tr><td>2022-12-18 06:42:33</td><td>0C201AA7EA0EA1AD</td><td>BROADWAY &amp; BELMON...</td><td>SEDGWICK ST &amp; WEB...</td><td>26.183333333333334</td><td>classic</td><td>casual</td></tr>\n",
       "<tr><td>2022-12-13 08:47:45</td><td>E0B148CCB358A49D</td><td>SANGAMON ST &amp; LAK...</td><td>ST. CLAIR ST &amp; ER...</td><td>12.1</td><td>electric</td><td>member</td></tr>\n",
       "<tr><td>2022-12-13 18:50:47</td><td>54C5775D2B7C9188</td><td>SHIELDS AVE &amp; 31S...</td><td>DAMEN AVE &amp; MADIS...</td><td>29.016666666666666</td><td>classic</td><td>member</td></tr>\n",
       "<tr><td>2022-12-14 16:13:39</td><td>A4891F78776D35DF</td><td>ASHLAND AVE &amp; CHI...</td><td>DAMEN AVE &amp; CHARL...</td><td>14.183333333333334</td><td>classic</td><td>casual</td></tr>\n",
       "<tr><td>2022-12-02 15:24:47</td><td>DB91D9B8DFACA07A</td><td>WABASH AVE &amp; 9TH ST</td><td>WACKER DR &amp; WASHI...</td><td>9.45</td><td>electric</td><td>member</td></tr>\n",
       "<tr><td>2022-12-20 09:02:03</td><td>6AD396C5760CC992</td><td>LEAVITT ST &amp; CHIC...</td><td>WACKER DR &amp; WASHI...</td><td>17.85</td><td>classic</td><td>member</td></tr>\n",
       "<tr><td>2022-12-13 14:19:49</td><td>8D736E35E0075504</td><td>HUMBOLDT BLVD &amp; A...</td><td>SPAULDING AVE &amp; A...</td><td>8.65</td><td>classic</td><td>member</td></tr>\n",
       "<tr><td>2022-12-13 07:38:07</td><td>DDAB881F96C51DC8</td><td>CANAL ST &amp; ADAMS ST</td><td>ST. CLAIR ST &amp; ER...</td><td>18.9</td><td>classic</td><td>member</td></tr>\n",
       "<tr><td>2022-12-21 08:57:42</td><td>8DDBAE51E55DAEEF</td><td>GREENVIEW AVE &amp; F...</td><td>SOUTHPORT AVE &amp; W...</td><td>13.283333333333333</td><td>classic</td><td>member</td></tr>\n",
       "<tr><td>2022-12-12 17:56:26</td><td>37BCF0C0B553F0A1</td><td>CANAL ST &amp; ADAMS ST</td><td>SANGAMON ST &amp; WAS...</td><td>6.25</td><td>classic</td><td>member</td></tr>\n",
       "<tr><td>2022-12-06 17:07:34</td><td>1B133362A3F86A2C</td><td>CANAL ST &amp; ADAMS ST</td><td>SANGAMON ST &amp; WAS...</td><td>6.8</td><td>classic</td><td>member</td></tr>\n",
       "<tr><td>2022-12-29 17:46:08</td><td>DF0DC4C1FF01E3EF</td><td>CANAL ST &amp; ADAMS ST</td><td>SANGAMON ST &amp; WAS...</td><td>6.433333333333334</td><td>classic</td><td>member</td></tr>\n",
       "<tr><td>2022-12-01 21:38:56</td><td>0D58B8FC23315D59</td><td>CANAL ST &amp; ADAMS ST</td><td>SANGAMON ST &amp; WAS...</td><td>7.15</td><td>classic</td><td>member</td></tr>\n",
       "<tr><td>2022-12-03 15:52:58</td><td>462D7A9C0323B0C9</td><td>HUMBOLDT BLVD &amp; A...</td><td>SPAULDING AVE &amp; A...</td><td>3.466666666666667</td><td>classic</td><td>member</td></tr>\n",
       "<tr><td>2022-12-01 07:08:13</td><td>9F827DE27022F311</td><td>ASHLAND AVE &amp; CHI...</td><td>WACKER DR &amp; WASHI...</td><td>9.85</td><td>electric</td><td>member</td></tr>\n",
       "<tr><td>2022-12-28 22:01:54</td><td>58E5482C771A98BE</td><td>BROADWAY &amp; BELMON...</td><td>SOUTHPORT AVE &amp; W...</td><td>9.183333333333334</td><td>classic</td><td>member</td></tr>\n",
       "<tr><td>2022-12-19 11:28:51</td><td>46FD5C26A4020ED1</td><td>SEDGWICK ST &amp; NOR...</td><td>ST. CLAIR ST &amp; ER...</td><td>23.95</td><td>classic</td><td>member</td></tr>\n",
       "<tr><td>2022-12-21 16:51:20</td><td>F27780BD0F2E0C01</td><td>MALCOLM X COLLEGE</td><td>SANGAMON ST &amp; WAS...</td><td>8.9</td><td>classic</td><td>member</td></tr>\n",
       "<tr><td>2022-12-26 10:46:06</td><td>995F741523A9DEAD</td><td>ASHLAND AVE &amp; CHI...</td><td>ST. CLAIR ST &amp; ER...</td><td>26.4</td><td>classic</td><td>member</td></tr>\n",
       "</table>\n",
       "only showing top 20 rows\n"
      ],
      "text/plain": [
       "+-------------------+----------------+--------------------+--------------------+------------------+-------------+---------------+\n",
       "|         started_at|         ride_id|  start_station_name|    end_station_name|         trip_time|rideable_type|member_category|\n",
       "+-------------------+----------------+--------------------+--------------------+------------------+-------------+---------------+\n",
       "|2022-12-05 10:47:18|65DBD2F447EC51C2|CLIFTON AVE & ARM...|SEDGWICK ST & WEB...| 9.266666666666667|     electric|         member|\n",
       "|2022-12-18 06:42:33|0C201AA7EA0EA1AD|BROADWAY & BELMON...|SEDGWICK ST & WEB...|26.183333333333334|      classic|         casual|\n",
       "|2022-12-13 08:47:45|E0B148CCB358A49D|SANGAMON ST & LAK...|ST. CLAIR ST & ER...|              12.1|     electric|         member|\n",
       "|2022-12-13 18:50:47|54C5775D2B7C9188|SHIELDS AVE & 31S...|DAMEN AVE & MADIS...|29.016666666666666|      classic|         member|\n",
       "|2022-12-14 16:13:39|A4891F78776D35DF|ASHLAND AVE & CHI...|DAMEN AVE & CHARL...|14.183333333333334|      classic|         casual|\n",
       "|2022-12-02 15:24:47|DB91D9B8DFACA07A| WABASH AVE & 9TH ST|WACKER DR & WASHI...|              9.45|     electric|         member|\n",
       "|2022-12-20 09:02:03|6AD396C5760CC992|LEAVITT ST & CHIC...|WACKER DR & WASHI...|             17.85|      classic|         member|\n",
       "|2022-12-13 14:19:49|8D736E35E0075504|HUMBOLDT BLVD & A...|SPAULDING AVE & A...|              8.65|      classic|         member|\n",
       "|2022-12-13 07:38:07|DDAB881F96C51DC8| CANAL ST & ADAMS ST|ST. CLAIR ST & ER...|              18.9|      classic|         member|\n",
       "|2022-12-21 08:57:42|8DDBAE51E55DAEEF|GREENVIEW AVE & F...|SOUTHPORT AVE & W...|13.283333333333333|      classic|         member|\n",
       "|2022-12-12 17:56:26|37BCF0C0B553F0A1| CANAL ST & ADAMS ST|SANGAMON ST & WAS...|              6.25|      classic|         member|\n",
       "|2022-12-06 17:07:34|1B133362A3F86A2C| CANAL ST & ADAMS ST|SANGAMON ST & WAS...|               6.8|      classic|         member|\n",
       "|2022-12-29 17:46:08|DF0DC4C1FF01E3EF| CANAL ST & ADAMS ST|SANGAMON ST & WAS...| 6.433333333333334|      classic|         member|\n",
       "|2022-12-01 21:38:56|0D58B8FC23315D59| CANAL ST & ADAMS ST|SANGAMON ST & WAS...|              7.15|      classic|         member|\n",
       "|2022-12-03 15:52:58|462D7A9C0323B0C9|HUMBOLDT BLVD & A...|SPAULDING AVE & A...| 3.466666666666667|      classic|         member|\n",
       "|2022-12-01 07:08:13|9F827DE27022F311|ASHLAND AVE & CHI...|WACKER DR & WASHI...|              9.85|     electric|         member|\n",
       "|2022-12-28 22:01:54|58E5482C771A98BE|BROADWAY & BELMON...|SOUTHPORT AVE & W...| 9.183333333333334|      classic|         member|\n",
       "|2022-12-19 11:28:51|46FD5C26A4020ED1|SEDGWICK ST & NOR...|ST. CLAIR ST & ER...|             23.95|      classic|         member|\n",
       "|2022-12-21 16:51:20|F27780BD0F2E0C01|   MALCOLM X COLLEGE|SANGAMON ST & WAS...|               8.9|      classic|         member|\n",
       "|2022-12-26 10:46:06|995F741523A9DEAD|ASHLAND AVE & CHI...|ST. CLAIR ST & ER...|              26.4|      classic|         member|\n",
       "+-------------------+----------------+--------------------+--------------------+------------------+-------------+---------------+\n",
       "only showing top 20 rows"
      ]
     },
     "metadata": {},
     "output_type": "display_data"
    }
   ],
   "source": [
    "# Reescrevendo a transformação acima com SPARK SQL\n",
    "result_df_sql = spark.sql(\"\"\"\n",
    "    SELECT\n",
    "        started_at,\n",
    "        ride_id,\n",
    "        upper(start_station_name) AS start_station_name,\n",
    "        upper(end_station_name) AS end_station_name,\n",
    "        (unix_timestamp(ended_at) - unix_timestamp(started_at)) / 60 AS trip_time,\n",
    "        split(rideable_type, '_')[0] AS rideable_type,\n",
    "        member_casual AS member_category\n",
    "    FROM\n",
    "        bike_shared\n",
    "\"\"\")\n",
    "\n",
    "display(result_df_sql)"
   ]
  },
  {
   "cell_type": "code",
   "execution_count": 16,
   "id": "27b67d12-9be6-4498-a966-1af6cbeda551",
   "metadata": {},
   "outputs": [],
   "source": [
    "result_df_sql.createOrReplaceTempView(\"bike_trip_time\")"
   ]
  },
  {
   "cell_type": "code",
   "execution_count": 17,
   "id": "3b261356-2347-46e9-9fd8-6be3e614d3b1",
   "metadata": {},
   "outputs": [
    {
     "data": {
      "text/html": [
       "<table border='1'>\n",
       "<tr><th>started_at</th><th>ride_id</th><th>start_station_name</th><th>end_station_name</th><th>trip_time</th><th>rideable_type</th><th>member_category</th></tr>\n",
       "<tr><td>2022-12-10 09:49:06</td><td>7D451A9C489FE4D2</td><td>BROADWAY &amp; BELMON...</td><td>ST. CLAIR ST &amp; ER...</td><td>30.183333333333334</td><td>classic</td><td>member</td></tr>\n",
       "<tr><td>2022-12-06 17:43:11</td><td>E1DCD2C3B9471006</td><td>CLINTON ST &amp; ROOS...</td><td>ST. CLAIR ST &amp; ER...</td><td>86.83333333333333</td><td>electric</td><td>member</td></tr>\n",
       "<tr><td>2022-12-20 10:19:56</td><td>0B4AC802FF1F65A6</td><td>WESTERN AVE &amp; LEL...</td><td>SOUTHPORT AVE &amp; W...</td><td>174.01666666666668</td><td>classic</td><td>casual</td></tr>\n",
       "<tr><td>2022-12-05 18:12:40</td><td>DB68885CB978F021</td><td>CLINTON ST &amp; ROOS...</td><td>WABASH AVE &amp; 16TH ST</td><td>70.68333333333334</td><td>electric</td><td>member</td></tr>\n",
       "<tr><td>2022-12-19 12:07:51</td><td>8602A572ADB87616</td><td>ROCKWELL ST &amp; EAS...</td><td>ROCKWELL ST &amp; EAS...</td><td>38.416666666666664</td><td>classic</td><td>member</td></tr>\n",
       "<tr><td>2022-12-28 17:07:56</td><td>C05F37F09125FF03</td><td>CANAL ST &amp; ADAMS ST</td><td>WABASH AVE &amp; 16TH ST</td><td>42.71666666666667</td><td>docked</td><td>casual</td></tr>\n",
       "<tr><td>2022-12-04 14:37:03</td><td>35CFF1597C070CD2</td><td>WABASH AVE &amp; 16TH ST</td><td>WABASH AVE &amp; 16TH ST</td><td>33.766666666666666</td><td>classic</td><td>member</td></tr>\n",
       "<tr><td>2022-12-19 23:11:36</td><td>DB0C8326DA0608C4</td><td>TRIPP AVE &amp; 15TH ST</td><td>TRIPP AVE &amp; 15TH ST</td><td>32.6</td><td>electric</td><td>member</td></tr>\n",
       "<tr><td>2022-12-02 18:53:43</td><td>53B5A87A76E6D0CD</td><td>CLARK ST &amp; ELM ST</td><td>MCCLURG CT &amp; OHIO ST</td><td>58.3</td><td>classic</td><td>member</td></tr>\n",
       "<tr><td>2022-12-14 16:00:41</td><td>FA85E9AFDA4C9546</td><td>WABASH AVE &amp; 9TH ST</td><td>MCCLURG CT &amp; OHIO ST</td><td>31.183333333333334</td><td>classic</td><td>casual</td></tr>\n",
       "<tr><td>2022-12-06 21:26:45</td><td>C8F349D6915E4DA9</td><td>CLINTON ST &amp; ROOS...</td><td>HARPER AVE &amp; 59TH ST</td><td>33.81666666666667</td><td>electric</td><td>member</td></tr>\n",
       "<tr><td>2022-12-10 15:53:59</td><td>AF6AAA5E35677295</td><td>KNOX AVE &amp; MONTRO...</td><td>KOSCIUSZKO PARK</td><td>35.516666666666666</td><td>classic</td><td>member</td></tr>\n",
       "<tr><td>2022-12-14 20:30:18</td><td>FDB81E3F29E407BB</td><td>ROCKWELL ST &amp; EAS...</td><td>NARRAGANSETT AVE ...</td><td>32.13333333333333</td><td>electric</td><td>member</td></tr>\n",
       "<tr><td>2022-12-02 10:04:29</td><td>745D9CD955D207BE</td><td>FRANKLIN ST &amp; MON...</td><td>LASALLE ST &amp; ILLI...</td><td>49.11666666666667</td><td>classic</td><td>casual</td></tr>\n",
       "<tr><td>2022-12-03 17:42:39</td><td>167166C68E829326</td><td>CENTRAL AVE &amp; HAR...</td><td>PUBLIC RACK - CEN...</td><td>34.78333333333333</td><td>electric</td><td>casual</td></tr>\n",
       "<tr><td>2022-12-28 12:30:48</td><td>7D0064FBE6863121</td><td>FORT DEARBORN DR ...</td><td>UNIVERSITY AVE &amp; ...</td><td>32.06666666666667</td><td>classic</td><td>member</td></tr>\n",
       "<tr><td>2022-12-28 12:32:51</td><td>D33763623291426A</td><td>FORT DEARBORN DR ...</td><td>UNIVERSITY AVE &amp; ...</td><td>30.116666666666667</td><td>electric</td><td>casual</td></tr>\n",
       "<tr><td>2022-12-27 21:25:31</td><td>D4E092D89EA3B514</td><td>WOLCOTT AVE &amp; POL...</td><td>LOOMIS ST &amp; LEXIN...</td><td>836.1333333333333</td><td>classic</td><td>member</td></tr>\n",
       "<tr><td>2022-12-09 20:36:27</td><td>E0CA3B9CB834130A</td><td>WOLCOTT AVE &amp; POL...</td><td>LOOMIS ST &amp; LEXIN...</td><td>37.03333333333333</td><td>classic</td><td>member</td></tr>\n",
       "<tr><td>2022-12-09 20:34:34</td><td>32C8A1192D0CD5CC</td><td>WOLCOTT AVE &amp; POL...</td><td>LOOMIS ST &amp; LEXIN...</td><td>38.733333333333334</td><td>classic</td><td>member</td></tr>\n",
       "</table>\n",
       "only showing top 20 rows\n"
      ],
      "text/plain": [
       "+-------------------+----------------+--------------------+--------------------+------------------+-------------+---------------+\n",
       "|         started_at|         ride_id|  start_station_name|    end_station_name|         trip_time|rideable_type|member_category|\n",
       "+-------------------+----------------+--------------------+--------------------+------------------+-------------+---------------+\n",
       "|2022-12-10 09:49:06|7D451A9C489FE4D2|BROADWAY & BELMON...|ST. CLAIR ST & ER...|30.183333333333334|      classic|         member|\n",
       "|2022-12-06 17:43:11|E1DCD2C3B9471006|CLINTON ST & ROOS...|ST. CLAIR ST & ER...| 86.83333333333333|     electric|         member|\n",
       "|2022-12-20 10:19:56|0B4AC802FF1F65A6|WESTERN AVE & LEL...|SOUTHPORT AVE & W...|174.01666666666668|      classic|         casual|\n",
       "|2022-12-05 18:12:40|DB68885CB978F021|CLINTON ST & ROOS...|WABASH AVE & 16TH ST| 70.68333333333334|     electric|         member|\n",
       "|2022-12-19 12:07:51|8602A572ADB87616|ROCKWELL ST & EAS...|ROCKWELL ST & EAS...|38.416666666666664|      classic|         member|\n",
       "|2022-12-28 17:07:56|C05F37F09125FF03| CANAL ST & ADAMS ST|WABASH AVE & 16TH ST| 42.71666666666667|       docked|         casual|\n",
       "|2022-12-04 14:37:03|35CFF1597C070CD2|WABASH AVE & 16TH ST|WABASH AVE & 16TH ST|33.766666666666666|      classic|         member|\n",
       "|2022-12-19 23:11:36|DB0C8326DA0608C4| TRIPP AVE & 15TH ST| TRIPP AVE & 15TH ST|              32.6|     electric|         member|\n",
       "|2022-12-02 18:53:43|53B5A87A76E6D0CD|   CLARK ST & ELM ST|MCCLURG CT & OHIO ST|              58.3|      classic|         member|\n",
       "|2022-12-14 16:00:41|FA85E9AFDA4C9546| WABASH AVE & 9TH ST|MCCLURG CT & OHIO ST|31.183333333333334|      classic|         casual|\n",
       "|2022-12-06 21:26:45|C8F349D6915E4DA9|CLINTON ST & ROOS...|HARPER AVE & 59TH ST| 33.81666666666667|     electric|         member|\n",
       "|2022-12-10 15:53:59|AF6AAA5E35677295|KNOX AVE & MONTRO...|     KOSCIUSZKO PARK|35.516666666666666|      classic|         member|\n",
       "|2022-12-14 20:30:18|FDB81E3F29E407BB|ROCKWELL ST & EAS...|NARRAGANSETT AVE ...| 32.13333333333333|     electric|         member|\n",
       "|2022-12-02 10:04:29|745D9CD955D207BE|FRANKLIN ST & MON...|LASALLE ST & ILLI...| 49.11666666666667|      classic|         casual|\n",
       "|2022-12-03 17:42:39|167166C68E829326|CENTRAL AVE & HAR...|PUBLIC RACK - CEN...| 34.78333333333333|     electric|         casual|\n",
       "|2022-12-28 12:30:48|7D0064FBE6863121|FORT DEARBORN DR ...|UNIVERSITY AVE & ...| 32.06666666666667|      classic|         member|\n",
       "|2022-12-28 12:32:51|D33763623291426A|FORT DEARBORN DR ...|UNIVERSITY AVE & ...|30.116666666666667|     electric|         casual|\n",
       "|2022-12-27 21:25:31|D4E092D89EA3B514|WOLCOTT AVE & POL...|LOOMIS ST & LEXIN...| 836.1333333333333|      classic|         member|\n",
       "|2022-12-09 20:36:27|E0CA3B9CB834130A|WOLCOTT AVE & POL...|LOOMIS ST & LEXIN...| 37.03333333333333|      classic|         member|\n",
       "|2022-12-09 20:34:34|32C8A1192D0CD5CC|WOLCOTT AVE & POL...|LOOMIS ST & LEXIN...|38.733333333333334|      classic|         member|\n",
       "+-------------------+----------------+--------------------+--------------------+------------------+-------------+---------------+\n",
       "only showing top 20 rows"
      ]
     },
     "metadata": {},
     "output_type": "display_data"
    }
   ],
   "source": [
    "df_maior_30_min_sql = spark.sql(\"select * from bike_trip_time where trip_time > 30\")\n",
    "display(df_maior_30_min_sql)"
   ]
  },
  {
   "cell_type": "code",
   "execution_count": 18,
   "id": "459c1783-7473-48e4-b66d-8cb449dd4e30",
   "metadata": {},
   "outputs": [
    {
     "data": {
      "text/html": [
       "<table border='1'>\n",
       "<tr><th>started_at</th><th>ride_id</th><th>start_station_name</th><th>end_station_name</th><th>trip_time</th><th>rideable_type</th><th>member_category</th></tr>\n",
       "<tr><td>2022-12-01 01:01:09</td><td>B1D52B01956FFC46</td><td>NULL</td><td>NULL</td><td>31.033333333333335</td><td>electric</td><td>member</td></tr>\n",
       "<tr><td>2022-12-01 03:42:34</td><td>9ED6246AE12FF95D</td><td>NULL</td><td>ASHLAND AVE &amp; LAK...</td><td>60.13333333333333</td><td>electric</td><td>casual</td></tr>\n",
       "<tr><td>2022-12-01 03:53:06</td><td>A005B5A8068DDD18</td><td>NULL</td><td>NULL</td><td>35.96666666666667</td><td>electric</td><td>member</td></tr>\n",
       "<tr><td>2022-12-01 06:10:39</td><td>736CED10A7020EFD</td><td>NULL</td><td>NULL</td><td>52.016666666666666</td><td>electric</td><td>member</td></tr>\n",
       "<tr><td>2022-12-01 07:18:39</td><td>2F5B64527AEC3DF8</td><td>NULL</td><td>DESPLAINES ST &amp; J...</td><td>50.96666666666667</td><td>electric</td><td>member</td></tr>\n",
       "<tr><td>2022-12-01 07:25:31</td><td>F390EDB71035C820</td><td>NULL</td><td>SHERIDAN RD &amp; IRV...</td><td>34.75</td><td>electric</td><td>member</td></tr>\n",
       "<tr><td>2022-12-01 07:40:53</td><td>0C5FA74D7CFB6328</td><td>ASHLAND AVE &amp; BLA...</td><td>NULL</td><td>31.633333333333333</td><td>electric</td><td>member</td></tr>\n",
       "<tr><td>2022-12-01 09:02:23</td><td>A81704545E70797B</td><td>NULL</td><td>HERMITAGE AVE &amp; P...</td><td>39.93333333333333</td><td>electric</td><td>member</td></tr>\n",
       "<tr><td>2022-12-01 09:09:55</td><td>83B378A01809EAD8</td><td>NULL</td><td>LARRABEE ST &amp; ARM...</td><td>41.6</td><td>electric</td><td>member</td></tr>\n",
       "<tr><td>2022-12-01 09:46:43</td><td>60E446FC5975E758</td><td>PUBLIC RACK - LON...</td><td>HOMEWOOD AVE &amp; 11...</td><td>47.4</td><td>electric</td><td>member</td></tr>\n",
       "<tr><td>2022-12-01 09:48:04</td><td>A5298081FEAA4E54</td><td>SOUTHPORT AVE &amp; R...</td><td>NULL</td><td>39.55</td><td>electric</td><td>member</td></tr>\n",
       "<tr><td>2022-12-01 09:51:23</td><td>7531272DD107E1B9</td><td>DUSABLE LAKE SHOR...</td><td>MUSEUM OF SCIENCE...</td><td>63.13333333333333</td><td>electric</td><td>casual</td></tr>\n",
       "<tr><td>2022-12-01 09:54:52</td><td>623AF686E28E713D</td><td>MARINE DR &amp; AINSL...</td><td>SHERIDAN RD &amp; ARG...</td><td>54.016666666666666</td><td>electric</td><td>casual</td></tr>\n",
       "<tr><td>2022-12-01 10:12:01</td><td>1E2FCBB5AE89BEB0</td><td>CLARK ST &amp; NORTH AVE</td><td>NULL</td><td>32.61666666666667</td><td>electric</td><td>member</td></tr>\n",
       "<tr><td>2022-12-01 11:04:02</td><td>54E4E178A6017BB5</td><td>DALEY CENTER PLAZA</td><td>NULL</td><td>64.61666666666666</td><td>electric</td><td>member</td></tr>\n",
       "<tr><td>2022-12-01 11:06:35</td><td>894CBA6327F941DD</td><td>ASHLAND AVE &amp; DIV...</td><td>STATE ST &amp; CHICAG...</td><td>203.9</td><td>electric</td><td>member</td></tr>\n",
       "<tr><td>2022-12-01 11:14:14</td><td>FF8CE41FB4A706AB</td><td>ORLEANS ST &amp; MERC...</td><td>ORLEANS ST &amp; MERC...</td><td>30.633333333333333</td><td>electric</td><td>casual</td></tr>\n",
       "<tr><td>2022-12-01 11:29:14</td><td>4418BE463318F607</td><td>WABASH AVE &amp; GRAN...</td><td>STATE ST &amp; CHICAG...</td><td>185.96666666666667</td><td>electric</td><td>member</td></tr>\n",
       "<tr><td>2022-12-01 11:42:27</td><td>D70886A14C614A7B</td><td>NULL</td><td>NULL</td><td>125.85</td><td>electric</td><td>member</td></tr>\n",
       "<tr><td>2022-12-01 12:03:13</td><td>92DAF81ED52A5A53</td><td>CLARENDON AVE &amp; L...</td><td>WOOD ST &amp; MILWAUK...</td><td>30.816666666666666</td><td>electric</td><td>casual</td></tr>\n",
       "</table>\n",
       "only showing top 20 rows\n"
      ],
      "text/plain": [
       "+-------------------+----------------+--------------------+--------------------+------------------+-------------+---------------+\n",
       "|         started_at|         ride_id|  start_station_name|    end_station_name|         trip_time|rideable_type|member_category|\n",
       "+-------------------+----------------+--------------------+--------------------+------------------+-------------+---------------+\n",
       "|2022-12-01 01:01:09|B1D52B01956FFC46|                NULL|                NULL|31.033333333333335|     electric|         member|\n",
       "|2022-12-01 03:42:34|9ED6246AE12FF95D|                NULL|ASHLAND AVE & LAK...| 60.13333333333333|     electric|         casual|\n",
       "|2022-12-01 03:53:06|A005B5A8068DDD18|                NULL|                NULL| 35.96666666666667|     electric|         member|\n",
       "|2022-12-01 06:10:39|736CED10A7020EFD|                NULL|                NULL|52.016666666666666|     electric|         member|\n",
       "|2022-12-01 07:18:39|2F5B64527AEC3DF8|                NULL|DESPLAINES ST & J...| 50.96666666666667|     electric|         member|\n",
       "|2022-12-01 07:25:31|F390EDB71035C820|                NULL|SHERIDAN RD & IRV...|             34.75|     electric|         member|\n",
       "|2022-12-01 07:40:53|0C5FA74D7CFB6328|ASHLAND AVE & BLA...|                NULL|31.633333333333333|     electric|         member|\n",
       "|2022-12-01 09:02:23|A81704545E70797B|                NULL|HERMITAGE AVE & P...| 39.93333333333333|     electric|         member|\n",
       "|2022-12-01 09:09:55|83B378A01809EAD8|                NULL|LARRABEE ST & ARM...|              41.6|     electric|         member|\n",
       "|2022-12-01 09:46:43|60E446FC5975E758|PUBLIC RACK - LON...|HOMEWOOD AVE & 11...|              47.4|     electric|         member|\n",
       "|2022-12-01 09:48:04|A5298081FEAA4E54|SOUTHPORT AVE & R...|                NULL|             39.55|     electric|         member|\n",
       "|2022-12-01 09:51:23|7531272DD107E1B9|DUSABLE LAKE SHOR...|MUSEUM OF SCIENCE...| 63.13333333333333|     electric|         casual|\n",
       "|2022-12-01 09:54:52|623AF686E28E713D|MARINE DR & AINSL...|SHERIDAN RD & ARG...|54.016666666666666|     electric|         casual|\n",
       "|2022-12-01 10:12:01|1E2FCBB5AE89BEB0|CLARK ST & NORTH AVE|                NULL| 32.61666666666667|     electric|         member|\n",
       "|2022-12-01 11:04:02|54E4E178A6017BB5|  DALEY CENTER PLAZA|                NULL| 64.61666666666666|     electric|         member|\n",
       "|2022-12-01 11:06:35|894CBA6327F941DD|ASHLAND AVE & DIV...|STATE ST & CHICAG...|             203.9|     electric|         member|\n",
       "|2022-12-01 11:14:14|FF8CE41FB4A706AB|ORLEANS ST & MERC...|ORLEANS ST & MERC...|30.633333333333333|     electric|         casual|\n",
       "|2022-12-01 11:29:14|4418BE463318F607|WABASH AVE & GRAN...|STATE ST & CHICAG...|185.96666666666667|     electric|         member|\n",
       "|2022-12-01 11:42:27|D70886A14C614A7B|                NULL|                NULL|            125.85|     electric|         member|\n",
       "|2022-12-01 12:03:13|92DAF81ED52A5A53|CLARENDON AVE & L...|WOOD ST & MILWAUK...|30.816666666666666|     electric|         casual|\n",
       "+-------------------+----------------+--------------------+--------------------+------------------+-------------+---------------+\n",
       "only showing top 20 rows"
      ]
     },
     "metadata": {},
     "output_type": "display_data"
    }
   ],
   "source": [
    "df_maior_30_min_sql.createOrReplaceTempView(\"bike_trip_greather_than_30\")\n",
    "df_eletric = spark.sql(\"select * from bike_trip_greather_than_30 where rideable_type == 'electric' order by started_at\")\n",
    "display(df_eletric)"
   ]
  },
  {
   "cell_type": "code",
   "execution_count": 19,
   "id": "340ff2a4-fa6c-4533-8a11-705248f91473",
   "metadata": {},
   "outputs": [
    {
     "data": {
      "text/html": [
       "<table border='1'>\n",
       "<tr><th>started_at</th><th>ride_id</th><th>start_station_name</th><th>end_station_name</th><th>trip_time</th><th>rideable_type</th><th>member_category</th></tr>\n",
       "<tr><td>2022-12-01 00:57:33</td><td>5042C02FA60D3D30</td><td>ST. LOUIS AVE &amp; F...</td><td>KINGSBURY ST &amp; KI...</td><td>31.033333333333335</td><td>classic</td><td>casual</td></tr>\n",
       "<tr><td>2022-12-01 06:23:00</td><td>FA5F010ECFACC85C</td><td>MICHIGAN AVE &amp; 8T...</td><td>INDIANA AVE &amp; ROO...</td><td>30.033333333333335</td><td>classic</td><td>member</td></tr>\n",
       "<tr><td>2022-12-01 06:51:25</td><td>59C8309C280E95E5</td><td>BROADWAY &amp; CORNEL...</td><td>WESTERN AVE &amp; MON...</td><td>37.1</td><td>classic</td><td>member</td></tr>\n",
       "<tr><td>2022-12-01 07:03:22</td><td>EDB08365EDAFAC2B</td><td>HALSTED ST &amp; WRIG...</td><td>WOLCOTT AVE &amp; POL...</td><td>34.416666666666664</td><td>classic</td><td>member</td></tr>\n",
       "<tr><td>2022-12-01 07:06:28</td><td>0314A4E50FD16BA1</td><td>CLARK ST &amp; SCHILL...</td><td>MICHIGAN AVE &amp; 8T...</td><td>32.4</td><td>classic</td><td>member</td></tr>\n",
       "<tr><td>2022-12-01 07:08:34</td><td>146DB3EC88A9CD75</td><td>CLARENDON AVE &amp; G...</td><td>ST. CLAIR ST &amp; ER...</td><td>34.766666666666666</td><td>classic</td><td>member</td></tr>\n",
       "<tr><td>2022-12-01 07:24:32</td><td>E1AA6E1DAF164AD9</td><td>SHERIDAN RD &amp; BUE...</td><td>STATE ST &amp; VAN BU...</td><td>32.666666666666664</td><td>classic</td><td>member</td></tr>\n",
       "<tr><td>2022-12-01 07:30:09</td><td>31B4FE39146EA449</td><td>CANAL ST &amp; ADAMS ST</td><td>LINCOLN AVE &amp; FUL...</td><td>31.333333333333332</td><td>classic</td><td>member</td></tr>\n",
       "<tr><td>2022-12-01 07:38:13</td><td>6BC767B34FC83904</td><td>LOOMIS ST &amp; 89TH ST</td><td>LOOMIS ST &amp; 89TH ST</td><td>99.58333333333333</td><td>classic</td><td>casual</td></tr>\n",
       "<tr><td>2022-12-01 07:44:11</td><td>556D6650BB4DBD3A</td><td>AUSTIN BLVD &amp; CHI...</td><td>NULL</td><td>1499.7666666666667</td><td>classic</td><td>member</td></tr>\n",
       "<tr><td>2022-12-01 07:55:12</td><td>E3453155C603E8EB</td><td>WILTON AVE &amp; DIVE...</td><td>DEARBORN ST &amp; MON...</td><td>37.61666666666667</td><td>classic</td><td>member</td></tr>\n",
       "<tr><td>2022-12-01 07:57:15</td><td>6A9428F66520BC65</td><td>SOUTHPORT AVE &amp; I...</td><td>WELLS ST &amp; HURON ST</td><td>32.166666666666664</td><td>classic</td><td>member</td></tr>\n",
       "<tr><td>2022-12-01 08:02:10</td><td>B15108F01B157683</td><td>CANAL ST &amp; JACKSO...</td><td>RUSH ST &amp; SUPERIO...</td><td>30.65</td><td>classic</td><td>member</td></tr>\n",
       "<tr><td>2022-12-01 08:09:50</td><td>FF6B9F0095D25F3F</td><td>SHEFFIELD AVE &amp; W...</td><td>MILLENNIUM PARK</td><td>38.68333333333333</td><td>classic</td><td>member</td></tr>\n",
       "<tr><td>2022-12-01 08:17:50</td><td>0286A3917954E22C</td><td>LEAVITT ST &amp; ADDI...</td><td>CITYFRONT PLAZA D...</td><td>40.53333333333333</td><td>classic</td><td>member</td></tr>\n",
       "<tr><td>2022-12-01 08:22:11</td><td>06F9A8A2995F9F2C</td><td>INDIANA AVE &amp; 31S...</td><td>MIES VAN DER ROHE...</td><td>40.016666666666666</td><td>classic</td><td>member</td></tr>\n",
       "<tr><td>2022-12-01 08:26:24</td><td>A96217797D7809FC</td><td>SOUTHPORT AVE &amp; I...</td><td>MICHIGAN AVE &amp; LA...</td><td>35.28333333333333</td><td>classic</td><td>member</td></tr>\n",
       "<tr><td>2022-12-01 08:34:15</td><td>BB8C68DF47646CFA</td><td>CALIFORNIA AVE &amp; ...</td><td>ASHLAND AVE &amp; WEL...</td><td>38.35</td><td>classic</td><td>member</td></tr>\n",
       "<tr><td>2022-12-01 08:37:22</td><td>249E0828E37F1E73</td><td>MUSEUM OF SCIENCE...</td><td>DUSABLE LAKE SHOR...</td><td>72.0</td><td>classic</td><td>casual</td></tr>\n",
       "<tr><td>2022-12-01 08:41:41</td><td>99A6795F95CB4081</td><td>CLARK ST &amp; WELLIN...</td><td>STATE ST &amp; 29TH ST</td><td>47.95</td><td>classic</td><td>member</td></tr>\n",
       "</table>\n",
       "only showing top 20 rows\n"
      ],
      "text/plain": [
       "+-------------------+----------------+--------------------+--------------------+------------------+-------------+---------------+\n",
       "|         started_at|         ride_id|  start_station_name|    end_station_name|         trip_time|rideable_type|member_category|\n",
       "+-------------------+----------------+--------------------+--------------------+------------------+-------------+---------------+\n",
       "|2022-12-01 00:57:33|5042C02FA60D3D30|ST. LOUIS AVE & F...|KINGSBURY ST & KI...|31.033333333333335|      classic|         casual|\n",
       "|2022-12-01 06:23:00|FA5F010ECFACC85C|MICHIGAN AVE & 8T...|INDIANA AVE & ROO...|30.033333333333335|      classic|         member|\n",
       "|2022-12-01 06:51:25|59C8309C280E95E5|BROADWAY & CORNEL...|WESTERN AVE & MON...|              37.1|      classic|         member|\n",
       "|2022-12-01 07:03:22|EDB08365EDAFAC2B|HALSTED ST & WRIG...|WOLCOTT AVE & POL...|34.416666666666664|      classic|         member|\n",
       "|2022-12-01 07:06:28|0314A4E50FD16BA1|CLARK ST & SCHILL...|MICHIGAN AVE & 8T...|              32.4|      classic|         member|\n",
       "|2022-12-01 07:08:34|146DB3EC88A9CD75|CLARENDON AVE & G...|ST. CLAIR ST & ER...|34.766666666666666|      classic|         member|\n",
       "|2022-12-01 07:24:32|E1AA6E1DAF164AD9|SHERIDAN RD & BUE...|STATE ST & VAN BU...|32.666666666666664|      classic|         member|\n",
       "|2022-12-01 07:30:09|31B4FE39146EA449| CANAL ST & ADAMS ST|LINCOLN AVE & FUL...|31.333333333333332|      classic|         member|\n",
       "|2022-12-01 07:38:13|6BC767B34FC83904| LOOMIS ST & 89TH ST| LOOMIS ST & 89TH ST| 99.58333333333333|      classic|         casual|\n",
       "|2022-12-01 07:44:11|556D6650BB4DBD3A|AUSTIN BLVD & CHI...|                NULL|1499.7666666666667|      classic|         member|\n",
       "|2022-12-01 07:55:12|E3453155C603E8EB|WILTON AVE & DIVE...|DEARBORN ST & MON...| 37.61666666666667|      classic|         member|\n",
       "|2022-12-01 07:57:15|6A9428F66520BC65|SOUTHPORT AVE & I...| WELLS ST & HURON ST|32.166666666666664|      classic|         member|\n",
       "|2022-12-01 08:02:10|B15108F01B157683|CANAL ST & JACKSO...|RUSH ST & SUPERIO...|             30.65|      classic|         member|\n",
       "|2022-12-01 08:09:50|FF6B9F0095D25F3F|SHEFFIELD AVE & W...|     MILLENNIUM PARK| 38.68333333333333|      classic|         member|\n",
       "|2022-12-01 08:17:50|0286A3917954E22C|LEAVITT ST & ADDI...|CITYFRONT PLAZA D...| 40.53333333333333|      classic|         member|\n",
       "|2022-12-01 08:22:11|06F9A8A2995F9F2C|INDIANA AVE & 31S...|MIES VAN DER ROHE...|40.016666666666666|      classic|         member|\n",
       "|2022-12-01 08:26:24|A96217797D7809FC|SOUTHPORT AVE & I...|MICHIGAN AVE & LA...| 35.28333333333333|      classic|         member|\n",
       "|2022-12-01 08:34:15|BB8C68DF47646CFA|CALIFORNIA AVE & ...|ASHLAND AVE & WEL...|             38.35|      classic|         member|\n",
       "|2022-12-01 08:37:22|249E0828E37F1E73|MUSEUM OF SCIENCE...|DUSABLE LAKE SHOR...|              72.0|      classic|         casual|\n",
       "|2022-12-01 08:41:41|99A6795F95CB4081|CLARK ST & WELLIN...|  STATE ST & 29TH ST|             47.95|      classic|         member|\n",
       "+-------------------+----------------+--------------------+--------------------+------------------+-------------+---------------+\n",
       "only showing top 20 rows"
      ]
     },
     "metadata": {},
     "output_type": "display_data"
    }
   ],
   "source": [
    "df_classic = spark.sql(\"select * from bike_trip_greather_than_30 where rideable_type == 'classic' order by started_at\")\n",
    "display(df_classic)"
   ]
  },
  {
   "cell_type": "code",
   "execution_count": null,
   "id": "90742576-a89e-44fd-801c-e833673987f7",
   "metadata": {},
   "outputs": [],
   "source": []
  }
 ],
 "metadata": {
  "kernelspec": {
   "display_name": "Python 3 (ipykernel)",
   "language": "python",
   "name": "python3"
  },
  "language_info": {
   "codemirror_mode": {
    "name": "ipython",
    "version": 3
   },
   "file_extension": ".py",
   "mimetype": "text/x-python",
   "name": "python",
   "nbconvert_exporter": "python",
   "pygments_lexer": "ipython3",
   "version": "3.11.6"
  }
 },
 "nbformat": 4,
 "nbformat_minor": 5
}
