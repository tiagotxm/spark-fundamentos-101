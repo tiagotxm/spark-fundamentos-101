{
 "cells": [
  {
   "cell_type": "code",
   "execution_count": 17,
   "id": "12f73def-bd81-42de-a76b-ecec625f92bf",
   "metadata": {},
   "outputs": [],
   "source": [
    "station_risk_csv=\"/home/jovyan/work/data/output/bike_station_risk_csv\"\n",
    "station_risk_parquet=\"/home/jovyan/work/data/output/bike_station_risk_parquet\""
   ]
  },
  {
   "cell_type": "code",
   "execution_count": 18,
   "id": "3ae492c1-e890-482c-af0a-0380aa2c0618",
   "metadata": {},
   "outputs": [],
   "source": [
    "from pyspark.sql import SparkSession\n",
    "from pyspark.sql.functions import when\n",
    "import time\n",
    "\n",
    "spark = SparkSession.builder \\\n",
    "    .appName(\"aula-08\") \\\n",
    "    .getOrCreate()\n"
   ]
  },
  {
   "cell_type": "code",
   "execution_count": 19,
   "id": "38ae70f0-fadb-46e4-8c31-9edc170de4c0",
   "metadata": {},
   "outputs": [
    {
     "name": "stdout",
     "output_type": "stream",
     "text": [
      "Tempo de leitura CSV: 0.08897137641906738 segundos\n"
     ]
    }
   ],
   "source": [
    "inicio_leitura_csv = time.time()\n",
    "df_csv = spark.read.csv(station_risk_csv, header=True)\n",
    "fim_leitura_csv = time.time()\n",
    "tempo_leitura_csv = fim_leitura_csv - inicio_leitura_csv\n",
    "print(f\"Tempo de leitura CSV: {tempo_leitura_csv} segundos\")"
   ]
  },
  {
   "cell_type": "code",
   "execution_count": 20,
   "id": "6e097f5e-42e5-4f8a-bb8c-ad50f703c885",
   "metadata": {},
   "outputs": [
    {
     "name": "stdout",
     "output_type": "stream",
     "text": [
      "Tempo de leitura Parquet: 0.04474520683288574 segundos\n"
     ]
    }
   ],
   "source": [
    "inicio_leitura_parquet = time.time()\n",
    "df_parquet = spark.read.parquet(station_risk_parquet)\n",
    "fim_leitura_parquet = time.time()\n",
    "tempo_leitura_parquet = fim_leitura_parquet - inicio_leitura_parquet\n",
    "print(f\"Tempo de leitura Parquet: {tempo_leitura_parquet} segundos\")"
   ]
  },
  {
   "cell_type": "code",
   "execution_count": null,
   "id": "58db7f19-6b8d-41b7-a2c8-7b49fd072e03",
   "metadata": {},
   "outputs": [],
   "source": []
  }
 ],
 "metadata": {
  "kernelspec": {
   "display_name": "Python 3 (ipykernel)",
   "language": "python",
   "name": "python3"
  },
  "language_info": {
   "codemirror_mode": {
    "name": "ipython",
    "version": 3
   },
   "file_extension": ".py",
   "mimetype": "text/x-python",
   "name": "python",
   "nbconvert_exporter": "python",
   "pygments_lexer": "ipython3",
   "version": "3.11.6"
  }
 },
 "nbformat": 4,
 "nbformat_minor": 5
}
