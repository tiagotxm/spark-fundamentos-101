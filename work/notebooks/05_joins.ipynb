{
 "cells": [
  {
   "cell_type": "markdown",
   "id": "b5714096-96b1-49b7-8661-26a4edf14c83",
   "metadata": {},
   "source": [
    "- Criar um dataframe contendo informações de risco de roubo\n",
    "- Avaliar o risco da estação(baixo, medio, alto)\n",
    "    score < 500 = low\n",
    "    score > 500 & < 700 = medium\n",
    "    score > 700 = high"
   ]
  },
  {
   "cell_type": "code",
   "execution_count": 13,
   "id": "3ae492c1-e890-482c-af0a-0380aa2c0618",
   "metadata": {},
   "outputs": [],
   "source": [
    "file_path=\"/home/jovyan/work/data/202212_divvy_tripdata.csv\"\n",
    "score_path = \"/home/jovyan/work/data/station_scores.csv\"\n",
    "\n",
    "\n",
    "from pyspark.sql import SparkSession\n",
    "from pyspark.sql.functions import when\n",
    "\n",
    "spark = SparkSession.builder \\\n",
    "    .appName(\"aula-05\") \\\n",
    "    .getOrCreate()\n",
    "\n",
    "spark.conf.set(\"spark.sql.repl.eagerEval.enabled\", True)\n",
    "\n",
    "df_trip = spark.read.option(\"header\", \"true\").csv(file_path)\n",
    "\n",
    "df_bike_share = df_trip.withColumn('end_station_name', when(df_trip['end_station_name'].isNull(), 'unknown').otherwise(df_trip['end_station_name']))"
   ]
  },
  {
   "cell_type": "code",
   "execution_count": 14,
   "id": "38ae70f0-fadb-46e4-8c31-9edc170de4c0",
   "metadata": {},
   "outputs": [
    {
     "data": {
      "text/html": [
       "<table border='1'>\n",
       "<tr><th>end_station_id</th><th>score</th></tr>\n",
       "<tr><td>KA1504000162</td><td>404</td></tr>\n",
       "<tr><td>15634</td><td>653</td></tr>\n",
       "<tr><td>691</td><td>394</td></tr>\n",
       "<tr><td>13192</td><td>234</td></tr>\n",
       "<tr><td>15539</td><td>237</td></tr>\n",
       "<tr><td>KA1503000075</td><td>313</td></tr>\n",
       "<tr><td>TA1305000022</td><td>799</td></tr>\n",
       "<tr><td>20244</td><td>667</td></tr>\n",
       "<tr><td>KA1504000135</td><td>444</td></tr>\n",
       "<tr><td>TA1305000009</td><td>470</td></tr>\n",
       "<tr><td>TA1309000002</td><td>475</td></tr>\n",
       "<tr><td>13276</td><td>191</td></tr>\n",
       "<tr><td>475</td><td>287</td></tr>\n",
       "<tr><td>13071</td><td>719</td></tr>\n",
       "<tr><td>577</td><td>392</td></tr>\n",
       "<tr><td>RP-001</td><td>205</td></tr>\n",
       "<tr><td>442</td><td>882</td></tr>\n",
       "<tr><td>462</td><td>213</td></tr>\n",
       "<tr><td>TA1308000046</td><td>278</td></tr>\n",
       "<tr><td>TA1307000134</td><td>919</td></tr>\n",
       "</table>\n",
       "only showing top 20 rows\n"
      ],
      "text/plain": [
       "+--------------+-----+\n",
       "|end_station_id|score|\n",
       "+--------------+-----+\n",
       "|  KA1504000162|  404|\n",
       "|         15634|  653|\n",
       "|           691|  394|\n",
       "|         13192|  234|\n",
       "|         15539|  237|\n",
       "|  KA1503000075|  313|\n",
       "|  TA1305000022|  799|\n",
       "|         20244|  667|\n",
       "|  KA1504000135|  444|\n",
       "|  TA1305000009|  470|\n",
       "|  TA1309000002|  475|\n",
       "|         13276|  191|\n",
       "|           475|  287|\n",
       "|         13071|  719|\n",
       "|           577|  392|\n",
       "|        RP-001|  205|\n",
       "|           442|  882|\n",
       "|           462|  213|\n",
       "|  TA1308000046|  278|\n",
       "|  TA1307000134|  919|\n",
       "+--------------+-----+\n",
       "only showing top 20 rows"
      ]
     },
     "metadata": {},
     "output_type": "display_data"
    }
   ],
   "source": [
    "df_station_score = spark.read.option(\"header\", \"true\").csv(station_score_path)\n",
    "display(df_station_score)"
   ]
  },
  {
   "cell_type": "code",
   "execution_count": 16,
   "id": "1643f0a3-14af-4f4a-bf10-34bc5f768db8",
   "metadata": {},
   "outputs": [
    {
     "data": {
      "text/html": [
       "<table border='1'>\n",
       "<tr><th>end_station_id</th><th>ride_id</th><th>rideable_type</th><th>started_at</th><th>ended_at</th><th>start_station_name</th><th>start_station_id</th><th>end_station_name</th><th>start_lat</th><th>start_lng</th><th>end_lat</th><th>end_lng</th><th>member_casual</th><th>score</th></tr>\n",
       "<tr><td>13191</td><td>65DBD2F447EC51C2</td><td>electric_bike</td><td>2022-12-05 10:47:18</td><td>2022-12-05 10:56:34</td><td>Clifton Ave &amp; Arm...</td><td>TA1307000163</td><td>Sedgwick St &amp; Web...</td><td>41.9182435</td><td>-87.65711466666667</td><td>41.922167</td><td>-87.638888</td><td>member</td><td>29</td></tr>\n",
       "<tr><td>13191</td><td>0C201AA7EA0EA1AD</td><td>classic_bike</td><td>2022-12-18 06:42:33</td><td>2022-12-18 07:08:44</td><td>Broadway &amp; Belmon...</td><td>13277</td><td>Sedgwick St &amp; Web...</td><td>41.940106</td><td>-87.645451</td><td>41.922167</td><td>-87.638888</td><td>casual</td><td>29</td></tr>\n",
       "<tr><td>13016</td><td>E0B148CCB358A49D</td><td>electric_bike</td><td>2022-12-13 08:47:45</td><td>2022-12-13 08:59:51</td><td>Sangamon St &amp; Lak...</td><td>TA1306000015</td><td>St. Clair St &amp; Er...</td><td>41.885918856</td><td>-87.65113318</td><td>41.89434513742426</td><td>-87.62279838323593</td><td>member</td><td>884</td></tr>\n",
       "<tr><td>13134</td><td>54C5775D2B7C9188</td><td>classic_bike</td><td>2022-12-13 18:50:47</td><td>2022-12-13 19:19:48</td><td>Shields Ave &amp; 31s...</td><td>KA1503000038</td><td>Damen Ave &amp; Madis...</td><td>41.838464</td><td>-87.635406</td><td>41.88137</td><td>-87.67493</td><td>member</td><td>794</td></tr>\n",
       "<tr><td>13288</td><td>A4891F78776D35DF</td><td>classic_bike</td><td>2022-12-14 16:13:39</td><td>2022-12-14 16:27:50</td><td>Ashland Ave &amp; Chi...</td><td>13247</td><td>Damen Ave &amp; Charl...</td><td>41.89595435734305</td><td>-87.6677280664444</td><td>41.920082</td><td>-87.677855</td><td>casual</td><td>92</td></tr>\n",
       "<tr><td>KA1503000072</td><td>DB91D9B8DFACA07A</td><td>electric_bike</td><td>2022-12-02 15:24:47</td><td>2022-12-02 15:34:14</td><td>Wabash Ave &amp; 9th St</td><td>TA1309000010</td><td>Wacker Dr &amp; Washi...</td><td>41.870683551</td><td>-87.625706077</td><td>41.88314336439022</td><td>-87.63724207878113</td><td>member</td><td>503</td></tr>\n",
       "<tr><td>KA1503000072</td><td>6AD396C5760CC992</td><td>classic_bike</td><td>2022-12-20 09:02:03</td><td>2022-12-20 09:19:54</td><td>Leavitt St &amp; Chic...</td><td>18058</td><td>Wacker Dr &amp; Washi...</td><td>41.895501</td><td>-87.682017</td><td>41.88314336439022</td><td>-87.63724207878113</td><td>member</td><td>503</td></tr>\n",
       "<tr><td>15650</td><td>8D736E35E0075504</td><td>classic_bike</td><td>2022-12-13 14:19:49</td><td>2022-12-13 14:28:28</td><td>Humboldt Blvd &amp; A...</td><td>15651</td><td>Spaulding Ave &amp; A...</td><td>41.91751339399</td><td>-87.7018089555</td><td>41.917108034789315</td><td>-87.71022096276283</td><td>member</td><td>609</td></tr>\n",
       "<tr><td>13016</td><td>DDAB881F96C51DC8</td><td>classic_bike</td><td>2022-12-13 07:38:07</td><td>2022-12-13 07:57:01</td><td>Canal St &amp; Adams St</td><td>13011</td><td>St. Clair St &amp; Er...</td><td>41.879255</td><td>-87.639904</td><td>41.89434513742426</td><td>-87.62279838323593</td><td>member</td><td>884</td></tr>\n",
       "<tr><td>13235</td><td>8DDBAE51E55DAEEF</td><td>classic_bike</td><td>2022-12-21 08:57:42</td><td>2022-12-21 09:10:59</td><td>Greenview Ave &amp; F...</td><td>TA1307000001</td><td>Southport Ave &amp; W...</td><td>41.92533</td><td>-87.6658</td><td>41.94815</td><td>-87.66394</td><td>member</td><td>922</td></tr>\n",
       "<tr><td>13409</td><td>37BCF0C0B553F0A1</td><td>classic_bike</td><td>2022-12-12 17:56:26</td><td>2022-12-12 18:02:41</td><td>Canal St &amp; Adams St</td><td>13011</td><td>Sangamon St &amp; Was...</td><td>41.879255</td><td>-87.639904</td><td>41.883165</td><td>-87.6511</td><td>member</td><td>548</td></tr>\n",
       "<tr><td>13409</td><td>1B133362A3F86A2C</td><td>classic_bike</td><td>2022-12-06 17:07:34</td><td>2022-12-06 17:14:22</td><td>Canal St &amp; Adams St</td><td>13011</td><td>Sangamon St &amp; Was...</td><td>41.879255</td><td>-87.639904</td><td>41.883165</td><td>-87.6511</td><td>member</td><td>548</td></tr>\n",
       "<tr><td>13409</td><td>DF0DC4C1FF01E3EF</td><td>classic_bike</td><td>2022-12-29 17:46:08</td><td>2022-12-29 17:52:34</td><td>Canal St &amp; Adams St</td><td>13011</td><td>Sangamon St &amp; Was...</td><td>41.879255</td><td>-87.639904</td><td>41.883165</td><td>-87.6511</td><td>member</td><td>548</td></tr>\n",
       "<tr><td>13409</td><td>0D58B8FC23315D59</td><td>classic_bike</td><td>2022-12-01 21:38:56</td><td>2022-12-01 21:46:05</td><td>Canal St &amp; Adams St</td><td>13011</td><td>Sangamon St &amp; Was...</td><td>41.879255</td><td>-87.639904</td><td>41.883165</td><td>-87.6511</td><td>member</td><td>548</td></tr>\n",
       "<tr><td>15650</td><td>462D7A9C0323B0C9</td><td>classic_bike</td><td>2022-12-03 15:52:58</td><td>2022-12-03 15:56:26</td><td>Humboldt Blvd &amp; A...</td><td>15651</td><td>Spaulding Ave &amp; A...</td><td>41.91751339399</td><td>-87.7018089555</td><td>41.917108034789315</td><td>-87.71022096276283</td><td>member</td><td>609</td></tr>\n",
       "<tr><td>KA1503000072</td><td>9F827DE27022F311</td><td>electric_bike</td><td>2022-12-01 07:08:13</td><td>2022-12-01 07:18:04</td><td>Ashland Ave &amp; Chi...</td><td>13247</td><td>Wacker Dr &amp; Washi...</td><td>41.8959825</td><td>-87.667694</td><td>41.88314336439022</td><td>-87.63724207878113</td><td>member</td><td>503</td></tr>\n",
       "<tr><td>13235</td><td>58E5482C771A98BE</td><td>classic_bike</td><td>2022-12-28 22:01:54</td><td>2022-12-28 22:11:05</td><td>Broadway &amp; Belmon...</td><td>13277</td><td>Southport Ave &amp; W...</td><td>41.940106</td><td>-87.645451</td><td>41.94815</td><td>-87.66394</td><td>member</td><td>922</td></tr>\n",
       "<tr><td>13016</td><td>46FD5C26A4020ED1</td><td>classic_bike</td><td>2022-12-19 11:28:51</td><td>2022-12-19 11:52:48</td><td>Sedgwick St &amp; Nor...</td><td>TA1307000038</td><td>St. Clair St &amp; Er...</td><td>41.911386</td><td>-87.638677</td><td>41.89434513742426</td><td>-87.62279838323593</td><td>member</td><td>884</td></tr>\n",
       "<tr><td>13409</td><td>F27780BD0F2E0C01</td><td>classic_bike</td><td>2022-12-21 16:51:20</td><td>2022-12-21 17:00:14</td><td>Malcolm X College</td><td>631</td><td>Sangamon St &amp; Was...</td><td>41.877618</td><td>-87.673895</td><td>41.883165</td><td>-87.6511</td><td>member</td><td>548</td></tr>\n",
       "<tr><td>13016</td><td>995F741523A9DEAD</td><td>classic_bike</td><td>2022-12-26 10:46:06</td><td>2022-12-26 11:12:30</td><td>Ashland Ave &amp; Chi...</td><td>13247</td><td>St. Clair St &amp; Er...</td><td>41.89595435734305</td><td>-87.6677280664444</td><td>41.89434513742426</td><td>-87.62279838323593</td><td>member</td><td>884</td></tr>\n",
       "</table>\n",
       "only showing top 20 rows\n"
      ],
      "text/plain": [
       "+--------------+----------------+-------------+-------------------+-------------------+--------------------+----------------+--------------------+-----------------+------------------+------------------+------------------+-------------+-----+\n",
       "|end_station_id|         ride_id|rideable_type|         started_at|           ended_at|  start_station_name|start_station_id|    end_station_name|        start_lat|         start_lng|           end_lat|           end_lng|member_casual|score|\n",
       "+--------------+----------------+-------------+-------------------+-------------------+--------------------+----------------+--------------------+-----------------+------------------+------------------+------------------+-------------+-----+\n",
       "|         13191|65DBD2F447EC51C2|electric_bike|2022-12-05 10:47:18|2022-12-05 10:56:34|Clifton Ave & Arm...|    TA1307000163|Sedgwick St & Web...|       41.9182435|-87.65711466666667|         41.922167|        -87.638888|       member|   29|\n",
       "|         13191|0C201AA7EA0EA1AD| classic_bike|2022-12-18 06:42:33|2022-12-18 07:08:44|Broadway & Belmon...|           13277|Sedgwick St & Web...|        41.940106|        -87.645451|         41.922167|        -87.638888|       casual|   29|\n",
       "|         13016|E0B148CCB358A49D|electric_bike|2022-12-13 08:47:45|2022-12-13 08:59:51|Sangamon St & Lak...|    TA1306000015|St. Clair St & Er...|     41.885918856|      -87.65113318| 41.89434513742426|-87.62279838323593|       member|  884|\n",
       "|         13134|54C5775D2B7C9188| classic_bike|2022-12-13 18:50:47|2022-12-13 19:19:48|Shields Ave & 31s...|    KA1503000038|Damen Ave & Madis...|        41.838464|        -87.635406|          41.88137|         -87.67493|       member|  794|\n",
       "|         13288|A4891F78776D35DF| classic_bike|2022-12-14 16:13:39|2022-12-14 16:27:50|Ashland Ave & Chi...|           13247|Damen Ave & Charl...|41.89595435734305| -87.6677280664444|         41.920082|        -87.677855|       casual|   92|\n",
       "|  KA1503000072|DB91D9B8DFACA07A|electric_bike|2022-12-02 15:24:47|2022-12-02 15:34:14| Wabash Ave & 9th St|    TA1309000010|Wacker Dr & Washi...|     41.870683551|     -87.625706077| 41.88314336439022|-87.63724207878113|       member|  503|\n",
       "|  KA1503000072|6AD396C5760CC992| classic_bike|2022-12-20 09:02:03|2022-12-20 09:19:54|Leavitt St & Chic...|           18058|Wacker Dr & Washi...|        41.895501|        -87.682017| 41.88314336439022|-87.63724207878113|       member|  503|\n",
       "|         15650|8D736E35E0075504| classic_bike|2022-12-13 14:19:49|2022-12-13 14:28:28|Humboldt Blvd & A...|           15651|Spaulding Ave & A...|   41.91751339399|    -87.7018089555|41.917108034789315|-87.71022096276283|       member|  609|\n",
       "|         13016|DDAB881F96C51DC8| classic_bike|2022-12-13 07:38:07|2022-12-13 07:57:01| Canal St & Adams St|           13011|St. Clair St & Er...|        41.879255|        -87.639904| 41.89434513742426|-87.62279838323593|       member|  884|\n",
       "|         13235|8DDBAE51E55DAEEF| classic_bike|2022-12-21 08:57:42|2022-12-21 09:10:59|Greenview Ave & F...|    TA1307000001|Southport Ave & W...|         41.92533|          -87.6658|          41.94815|         -87.66394|       member|  922|\n",
       "|         13409|37BCF0C0B553F0A1| classic_bike|2022-12-12 17:56:26|2022-12-12 18:02:41| Canal St & Adams St|           13011|Sangamon St & Was...|        41.879255|        -87.639904|         41.883165|          -87.6511|       member|  548|\n",
       "|         13409|1B133362A3F86A2C| classic_bike|2022-12-06 17:07:34|2022-12-06 17:14:22| Canal St & Adams St|           13011|Sangamon St & Was...|        41.879255|        -87.639904|         41.883165|          -87.6511|       member|  548|\n",
       "|         13409|DF0DC4C1FF01E3EF| classic_bike|2022-12-29 17:46:08|2022-12-29 17:52:34| Canal St & Adams St|           13011|Sangamon St & Was...|        41.879255|        -87.639904|         41.883165|          -87.6511|       member|  548|\n",
       "|         13409|0D58B8FC23315D59| classic_bike|2022-12-01 21:38:56|2022-12-01 21:46:05| Canal St & Adams St|           13011|Sangamon St & Was...|        41.879255|        -87.639904|         41.883165|          -87.6511|       member|  548|\n",
       "|         15650|462D7A9C0323B0C9| classic_bike|2022-12-03 15:52:58|2022-12-03 15:56:26|Humboldt Blvd & A...|           15651|Spaulding Ave & A...|   41.91751339399|    -87.7018089555|41.917108034789315|-87.71022096276283|       member|  609|\n",
       "|  KA1503000072|9F827DE27022F311|electric_bike|2022-12-01 07:08:13|2022-12-01 07:18:04|Ashland Ave & Chi...|           13247|Wacker Dr & Washi...|       41.8959825|        -87.667694| 41.88314336439022|-87.63724207878113|       member|  503|\n",
       "|         13235|58E5482C771A98BE| classic_bike|2022-12-28 22:01:54|2022-12-28 22:11:05|Broadway & Belmon...|           13277|Southport Ave & W...|        41.940106|        -87.645451|          41.94815|         -87.66394|       member|  922|\n",
       "|         13016|46FD5C26A4020ED1| classic_bike|2022-12-19 11:28:51|2022-12-19 11:52:48|Sedgwick St & Nor...|    TA1307000038|St. Clair St & Er...|        41.911386|        -87.638677| 41.89434513742426|-87.62279838323593|       member|  884|\n",
       "|         13409|F27780BD0F2E0C01| classic_bike|2022-12-21 16:51:20|2022-12-21 17:00:14|   Malcolm X College|             631|Sangamon St & Was...|        41.877618|        -87.673895|         41.883165|          -87.6511|       member|  548|\n",
       "|         13016|995F741523A9DEAD| classic_bike|2022-12-26 10:46:06|2022-12-26 11:12:30|Ashland Ave & Chi...|           13247|St. Clair St & Er...|41.89595435734305| -87.6677280664444| 41.89434513742426|-87.62279838323593|       member|  884|\n",
       "+--------------+----------------+-------------+-------------------+-------------------+--------------------+----------------+--------------------+-----------------+------------------+------------------+------------------+-------------+-----+\n",
       "only showing top 20 rows"
      ]
     },
     "metadata": {},
     "output_type": "display_data"
    }
   ],
   "source": [
    "df_station_scores = df_bike_share.join(df_station_score, on=\"end_station_id\", how=\"inner\")\n",
    "display(df_station_scores)"
   ]
  },
  {
   "cell_type": "code",
   "execution_count": 17,
   "id": "24bc7f20-f12c-4d8a-a30e-cbe9911541ec",
   "metadata": {},
   "outputs": [
    {
     "data": {
      "text/html": [
       "<table border='1'>\n",
       "<tr><th>end_station_id</th><th>ride_id</th><th>rideable_type</th><th>started_at</th><th>ended_at</th><th>start_station_name</th><th>start_station_id</th><th>end_station_name</th><th>start_lat</th><th>start_lng</th><th>end_lat</th><th>end_lng</th><th>member_casual</th><th>score</th><th>risk</th></tr>\n",
       "<tr><td>13191</td><td>65DBD2F447EC51C2</td><td>electric_bike</td><td>2022-12-05 10:47:18</td><td>2022-12-05 10:56:34</td><td>Clifton Ave &amp; Arm...</td><td>TA1307000163</td><td>Sedgwick St &amp; Web...</td><td>41.9182435</td><td>-87.65711466666667</td><td>41.922167</td><td>-87.638888</td><td>member</td><td>29</td><td>low</td></tr>\n",
       "<tr><td>13191</td><td>0C201AA7EA0EA1AD</td><td>classic_bike</td><td>2022-12-18 06:42:33</td><td>2022-12-18 07:08:44</td><td>Broadway &amp; Belmon...</td><td>13277</td><td>Sedgwick St &amp; Web...</td><td>41.940106</td><td>-87.645451</td><td>41.922167</td><td>-87.638888</td><td>casual</td><td>29</td><td>low</td></tr>\n",
       "<tr><td>13016</td><td>E0B148CCB358A49D</td><td>electric_bike</td><td>2022-12-13 08:47:45</td><td>2022-12-13 08:59:51</td><td>Sangamon St &amp; Lak...</td><td>TA1306000015</td><td>St. Clair St &amp; Er...</td><td>41.885918856</td><td>-87.65113318</td><td>41.89434513742426</td><td>-87.62279838323593</td><td>member</td><td>884</td><td>high</td></tr>\n",
       "<tr><td>13134</td><td>54C5775D2B7C9188</td><td>classic_bike</td><td>2022-12-13 18:50:47</td><td>2022-12-13 19:19:48</td><td>Shields Ave &amp; 31s...</td><td>KA1503000038</td><td>Damen Ave &amp; Madis...</td><td>41.838464</td><td>-87.635406</td><td>41.88137</td><td>-87.67493</td><td>member</td><td>794</td><td>high</td></tr>\n",
       "<tr><td>13288</td><td>A4891F78776D35DF</td><td>classic_bike</td><td>2022-12-14 16:13:39</td><td>2022-12-14 16:27:50</td><td>Ashland Ave &amp; Chi...</td><td>13247</td><td>Damen Ave &amp; Charl...</td><td>41.89595435734305</td><td>-87.6677280664444</td><td>41.920082</td><td>-87.677855</td><td>casual</td><td>92</td><td>low</td></tr>\n",
       "<tr><td>KA1503000072</td><td>DB91D9B8DFACA07A</td><td>electric_bike</td><td>2022-12-02 15:24:47</td><td>2022-12-02 15:34:14</td><td>Wabash Ave &amp; 9th St</td><td>TA1309000010</td><td>Wacker Dr &amp; Washi...</td><td>41.870683551</td><td>-87.625706077</td><td>41.88314336439022</td><td>-87.63724207878113</td><td>member</td><td>503</td><td>medium</td></tr>\n",
       "<tr><td>KA1503000072</td><td>6AD396C5760CC992</td><td>classic_bike</td><td>2022-12-20 09:02:03</td><td>2022-12-20 09:19:54</td><td>Leavitt St &amp; Chic...</td><td>18058</td><td>Wacker Dr &amp; Washi...</td><td>41.895501</td><td>-87.682017</td><td>41.88314336439022</td><td>-87.63724207878113</td><td>member</td><td>503</td><td>medium</td></tr>\n",
       "<tr><td>15650</td><td>8D736E35E0075504</td><td>classic_bike</td><td>2022-12-13 14:19:49</td><td>2022-12-13 14:28:28</td><td>Humboldt Blvd &amp; A...</td><td>15651</td><td>Spaulding Ave &amp; A...</td><td>41.91751339399</td><td>-87.7018089555</td><td>41.917108034789315</td><td>-87.71022096276283</td><td>member</td><td>609</td><td>medium</td></tr>\n",
       "<tr><td>13016</td><td>DDAB881F96C51DC8</td><td>classic_bike</td><td>2022-12-13 07:38:07</td><td>2022-12-13 07:57:01</td><td>Canal St &amp; Adams St</td><td>13011</td><td>St. Clair St &amp; Er...</td><td>41.879255</td><td>-87.639904</td><td>41.89434513742426</td><td>-87.62279838323593</td><td>member</td><td>884</td><td>high</td></tr>\n",
       "<tr><td>13235</td><td>8DDBAE51E55DAEEF</td><td>classic_bike</td><td>2022-12-21 08:57:42</td><td>2022-12-21 09:10:59</td><td>Greenview Ave &amp; F...</td><td>TA1307000001</td><td>Southport Ave &amp; W...</td><td>41.92533</td><td>-87.6658</td><td>41.94815</td><td>-87.66394</td><td>member</td><td>922</td><td>high</td></tr>\n",
       "<tr><td>13409</td><td>37BCF0C0B553F0A1</td><td>classic_bike</td><td>2022-12-12 17:56:26</td><td>2022-12-12 18:02:41</td><td>Canal St &amp; Adams St</td><td>13011</td><td>Sangamon St &amp; Was...</td><td>41.879255</td><td>-87.639904</td><td>41.883165</td><td>-87.6511</td><td>member</td><td>548</td><td>medium</td></tr>\n",
       "<tr><td>13409</td><td>1B133362A3F86A2C</td><td>classic_bike</td><td>2022-12-06 17:07:34</td><td>2022-12-06 17:14:22</td><td>Canal St &amp; Adams St</td><td>13011</td><td>Sangamon St &amp; Was...</td><td>41.879255</td><td>-87.639904</td><td>41.883165</td><td>-87.6511</td><td>member</td><td>548</td><td>medium</td></tr>\n",
       "<tr><td>13409</td><td>DF0DC4C1FF01E3EF</td><td>classic_bike</td><td>2022-12-29 17:46:08</td><td>2022-12-29 17:52:34</td><td>Canal St &amp; Adams St</td><td>13011</td><td>Sangamon St &amp; Was...</td><td>41.879255</td><td>-87.639904</td><td>41.883165</td><td>-87.6511</td><td>member</td><td>548</td><td>medium</td></tr>\n",
       "<tr><td>13409</td><td>0D58B8FC23315D59</td><td>classic_bike</td><td>2022-12-01 21:38:56</td><td>2022-12-01 21:46:05</td><td>Canal St &amp; Adams St</td><td>13011</td><td>Sangamon St &amp; Was...</td><td>41.879255</td><td>-87.639904</td><td>41.883165</td><td>-87.6511</td><td>member</td><td>548</td><td>medium</td></tr>\n",
       "<tr><td>15650</td><td>462D7A9C0323B0C9</td><td>classic_bike</td><td>2022-12-03 15:52:58</td><td>2022-12-03 15:56:26</td><td>Humboldt Blvd &amp; A...</td><td>15651</td><td>Spaulding Ave &amp; A...</td><td>41.91751339399</td><td>-87.7018089555</td><td>41.917108034789315</td><td>-87.71022096276283</td><td>member</td><td>609</td><td>medium</td></tr>\n",
       "<tr><td>KA1503000072</td><td>9F827DE27022F311</td><td>electric_bike</td><td>2022-12-01 07:08:13</td><td>2022-12-01 07:18:04</td><td>Ashland Ave &amp; Chi...</td><td>13247</td><td>Wacker Dr &amp; Washi...</td><td>41.8959825</td><td>-87.667694</td><td>41.88314336439022</td><td>-87.63724207878113</td><td>member</td><td>503</td><td>medium</td></tr>\n",
       "<tr><td>13235</td><td>58E5482C771A98BE</td><td>classic_bike</td><td>2022-12-28 22:01:54</td><td>2022-12-28 22:11:05</td><td>Broadway &amp; Belmon...</td><td>13277</td><td>Southport Ave &amp; W...</td><td>41.940106</td><td>-87.645451</td><td>41.94815</td><td>-87.66394</td><td>member</td><td>922</td><td>high</td></tr>\n",
       "<tr><td>13016</td><td>46FD5C26A4020ED1</td><td>classic_bike</td><td>2022-12-19 11:28:51</td><td>2022-12-19 11:52:48</td><td>Sedgwick St &amp; Nor...</td><td>TA1307000038</td><td>St. Clair St &amp; Er...</td><td>41.911386</td><td>-87.638677</td><td>41.89434513742426</td><td>-87.62279838323593</td><td>member</td><td>884</td><td>high</td></tr>\n",
       "<tr><td>13409</td><td>F27780BD0F2E0C01</td><td>classic_bike</td><td>2022-12-21 16:51:20</td><td>2022-12-21 17:00:14</td><td>Malcolm X College</td><td>631</td><td>Sangamon St &amp; Was...</td><td>41.877618</td><td>-87.673895</td><td>41.883165</td><td>-87.6511</td><td>member</td><td>548</td><td>medium</td></tr>\n",
       "<tr><td>13016</td><td>995F741523A9DEAD</td><td>classic_bike</td><td>2022-12-26 10:46:06</td><td>2022-12-26 11:12:30</td><td>Ashland Ave &amp; Chi...</td><td>13247</td><td>St. Clair St &amp; Er...</td><td>41.89595435734305</td><td>-87.6677280664444</td><td>41.89434513742426</td><td>-87.62279838323593</td><td>member</td><td>884</td><td>high</td></tr>\n",
       "</table>\n",
       "only showing top 20 rows\n"
      ],
      "text/plain": [
       "+--------------+----------------+-------------+-------------------+-------------------+--------------------+----------------+--------------------+-----------------+------------------+------------------+------------------+-------------+-----+------+\n",
       "|end_station_id|         ride_id|rideable_type|         started_at|           ended_at|  start_station_name|start_station_id|    end_station_name|        start_lat|         start_lng|           end_lat|           end_lng|member_casual|score|  risk|\n",
       "+--------------+----------------+-------------+-------------------+-------------------+--------------------+----------------+--------------------+-----------------+------------------+------------------+------------------+-------------+-----+------+\n",
       "|         13191|65DBD2F447EC51C2|electric_bike|2022-12-05 10:47:18|2022-12-05 10:56:34|Clifton Ave & Arm...|    TA1307000163|Sedgwick St & Web...|       41.9182435|-87.65711466666667|         41.922167|        -87.638888|       member|   29|   low|\n",
       "|         13191|0C201AA7EA0EA1AD| classic_bike|2022-12-18 06:42:33|2022-12-18 07:08:44|Broadway & Belmon...|           13277|Sedgwick St & Web...|        41.940106|        -87.645451|         41.922167|        -87.638888|       casual|   29|   low|\n",
       "|         13016|E0B148CCB358A49D|electric_bike|2022-12-13 08:47:45|2022-12-13 08:59:51|Sangamon St & Lak...|    TA1306000015|St. Clair St & Er...|     41.885918856|      -87.65113318| 41.89434513742426|-87.62279838323593|       member|  884|  high|\n",
       "|         13134|54C5775D2B7C9188| classic_bike|2022-12-13 18:50:47|2022-12-13 19:19:48|Shields Ave & 31s...|    KA1503000038|Damen Ave & Madis...|        41.838464|        -87.635406|          41.88137|         -87.67493|       member|  794|  high|\n",
       "|         13288|A4891F78776D35DF| classic_bike|2022-12-14 16:13:39|2022-12-14 16:27:50|Ashland Ave & Chi...|           13247|Damen Ave & Charl...|41.89595435734305| -87.6677280664444|         41.920082|        -87.677855|       casual|   92|   low|\n",
       "|  KA1503000072|DB91D9B8DFACA07A|electric_bike|2022-12-02 15:24:47|2022-12-02 15:34:14| Wabash Ave & 9th St|    TA1309000010|Wacker Dr & Washi...|     41.870683551|     -87.625706077| 41.88314336439022|-87.63724207878113|       member|  503|medium|\n",
       "|  KA1503000072|6AD396C5760CC992| classic_bike|2022-12-20 09:02:03|2022-12-20 09:19:54|Leavitt St & Chic...|           18058|Wacker Dr & Washi...|        41.895501|        -87.682017| 41.88314336439022|-87.63724207878113|       member|  503|medium|\n",
       "|         15650|8D736E35E0075504| classic_bike|2022-12-13 14:19:49|2022-12-13 14:28:28|Humboldt Blvd & A...|           15651|Spaulding Ave & A...|   41.91751339399|    -87.7018089555|41.917108034789315|-87.71022096276283|       member|  609|medium|\n",
       "|         13016|DDAB881F96C51DC8| classic_bike|2022-12-13 07:38:07|2022-12-13 07:57:01| Canal St & Adams St|           13011|St. Clair St & Er...|        41.879255|        -87.639904| 41.89434513742426|-87.62279838323593|       member|  884|  high|\n",
       "|         13235|8DDBAE51E55DAEEF| classic_bike|2022-12-21 08:57:42|2022-12-21 09:10:59|Greenview Ave & F...|    TA1307000001|Southport Ave & W...|         41.92533|          -87.6658|          41.94815|         -87.66394|       member|  922|  high|\n",
       "|         13409|37BCF0C0B553F0A1| classic_bike|2022-12-12 17:56:26|2022-12-12 18:02:41| Canal St & Adams St|           13011|Sangamon St & Was...|        41.879255|        -87.639904|         41.883165|          -87.6511|       member|  548|medium|\n",
       "|         13409|1B133362A3F86A2C| classic_bike|2022-12-06 17:07:34|2022-12-06 17:14:22| Canal St & Adams St|           13011|Sangamon St & Was...|        41.879255|        -87.639904|         41.883165|          -87.6511|       member|  548|medium|\n",
       "|         13409|DF0DC4C1FF01E3EF| classic_bike|2022-12-29 17:46:08|2022-12-29 17:52:34| Canal St & Adams St|           13011|Sangamon St & Was...|        41.879255|        -87.639904|         41.883165|          -87.6511|       member|  548|medium|\n",
       "|         13409|0D58B8FC23315D59| classic_bike|2022-12-01 21:38:56|2022-12-01 21:46:05| Canal St & Adams St|           13011|Sangamon St & Was...|        41.879255|        -87.639904|         41.883165|          -87.6511|       member|  548|medium|\n",
       "|         15650|462D7A9C0323B0C9| classic_bike|2022-12-03 15:52:58|2022-12-03 15:56:26|Humboldt Blvd & A...|           15651|Spaulding Ave & A...|   41.91751339399|    -87.7018089555|41.917108034789315|-87.71022096276283|       member|  609|medium|\n",
       "|  KA1503000072|9F827DE27022F311|electric_bike|2022-12-01 07:08:13|2022-12-01 07:18:04|Ashland Ave & Chi...|           13247|Wacker Dr & Washi...|       41.8959825|        -87.667694| 41.88314336439022|-87.63724207878113|       member|  503|medium|\n",
       "|         13235|58E5482C771A98BE| classic_bike|2022-12-28 22:01:54|2022-12-28 22:11:05|Broadway & Belmon...|           13277|Southport Ave & W...|        41.940106|        -87.645451|          41.94815|         -87.66394|       member|  922|  high|\n",
       "|         13016|46FD5C26A4020ED1| classic_bike|2022-12-19 11:28:51|2022-12-19 11:52:48|Sedgwick St & Nor...|    TA1307000038|St. Clair St & Er...|        41.911386|        -87.638677| 41.89434513742426|-87.62279838323593|       member|  884|  high|\n",
       "|         13409|F27780BD0F2E0C01| classic_bike|2022-12-21 16:51:20|2022-12-21 17:00:14|   Malcolm X College|             631|Sangamon St & Was...|        41.877618|        -87.673895|         41.883165|          -87.6511|       member|  548|medium|\n",
       "|         13016|995F741523A9DEAD| classic_bike|2022-12-26 10:46:06|2022-12-26 11:12:30|Ashland Ave & Chi...|           13247|St. Clair St & Er...|41.89595435734305| -87.6677280664444| 41.89434513742426|-87.62279838323593|       member|  884|  high|\n",
       "+--------------+----------------+-------------+-------------------+-------------------+--------------------+----------------+--------------------+-----------------+------------------+------------------+------------------+-------------+-----+------+\n",
       "only showing top 20 rows"
      ]
     },
     "execution_count": 17,
     "metadata": {},
     "output_type": "execute_result"
    }
   ],
   "source": [
    "df_station_scores.withColumn(\"risk\",\n",
    "                            when((df_station_scores[\"score\"] < 500), \"low\")\n",
    "                            .when((df_station_scores[\"score\"] > 500) & (df_station_scores[\"score\"] < 700), \"medium\")\n",
    "                            .when((df_station_scores[\"score\"] > 700), \"high\")\n",
    "                            )"
   ]
  },
  {
   "cell_type": "code",
   "execution_count": null,
   "id": "51494bb1-1f53-4e1a-a2cc-9f2b2f6c36b2",
   "metadata": {},
   "outputs": [],
   "source": []
  }
 ],
 "metadata": {
  "kernelspec": {
   "display_name": "Python 3 (ipykernel)",
   "language": "python",
   "name": "python3"
  },
  "language_info": {
   "codemirror_mode": {
    "name": "ipython",
    "version": 3
   },
   "file_extension": ".py",
   "mimetype": "text/x-python",
   "name": "python",
   "nbconvert_exporter": "python",
   "pygments_lexer": "ipython3",
   "version": "3.11.6"
  }
 },
 "nbformat": 4,
 "nbformat_minor": 5
}
