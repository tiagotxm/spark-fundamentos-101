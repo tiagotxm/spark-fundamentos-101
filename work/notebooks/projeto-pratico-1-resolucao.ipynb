{
 "cells": [
  {
   "cell_type": "code",
   "execution_count": 31,
   "id": "64eca59e-c0a7-46cc-b72f-92d9420669e5",
   "metadata": {},
   "outputs": [],
   "source": [
    "file_path = '/home/jovyan/work/data/car_prices-v2.csv'"
   ]
  },
  {
   "cell_type": "code",
   "execution_count": 39,
   "id": "84556438-3bea-49b3-b1e7-02f3a28ad98f",
   "metadata": {},
   "outputs": [],
   "source": [
    "from pyspark.sql import SparkSession\n",
    "from pyspark.sql.functions import when\n",
    "\n",
    "spark = SparkSession.builder \\\n",
    "    .appName(\"projeto-pratico-1\") \\\n",
    "    .getOrCreate()\n",
    "\n",
    "spark.conf.set(\"spark.sql.repl.eagerEval.enabled\", True)"
   ]
  },
  {
   "cell_type": "code",
   "execution_count": 56,
   "id": "74d1f528-c0e9-4580-8727-efc63d1b763d",
   "metadata": {},
   "outputs": [],
   "source": [
    "from pyspark.sql.types import StructType, StructField, StringType, IntegerType, DoubleType\n",
    "schema = StructType([\n",
    "    StructField(\"year\", IntegerType(), True),\n",
    "    StructField(\"make\", StringType(), True),\n",
    "    StructField(\"model\", StringType(), True),\n",
    "    StructField(\"trim\", StringType(), True),\n",
    "    StructField(\"body\", StringType(), True),\n",
    "    StructField(\"transmission\", StringType(), True),\n",
    "    StructField(\"vin\", StringType(), True),\n",
    "    StructField(\"state\", StringType(), True),\n",
    "    StructField(\"condition\", IntegerType(), True),\n",
    "    StructField(\"odometer\", IntegerType(), True),\n",
    "    StructField(\"color\", StringType(), True),\n",
    "    StructField(\"interior\", StringType(), True),\n",
    "    StructField(\"seller\", StringType(), True),\n",
    "    StructField(\"mmr\", IntegerType(), True),\n",
    "    StructField(\"sellingprice\", IntegerType(), True),\n",
    "    StructField(\"salemonth\", IntegerType(), True),\n",
    "    StructField(\"saleyear\", IntegerType(), True) \n",
    "])\n",
    "df = spark.read.option(\"header\", \"true\").csv(file_path, schema=schema)"
   ]
  },
  {
   "cell_type": "markdown",
   "id": "4ac99186-a130-4653-847b-2b40793d8627",
   "metadata": {},
   "source": [
    "## Quantos veículos foram vendidos e a receita total no ano de 2014?"
   ]
  },
  {
   "cell_type": "code",
   "execution_count": 57,
   "id": "8faf0e1c-0cac-4117-9b85-59b30a98d3c2",
   "metadata": {},
   "outputs": [
    {
     "name": "stdout",
     "output_type": "stream",
     "text": [
      "root\n",
      " |-- year: integer (nullable = true)\n",
      " |-- make: string (nullable = true)\n",
      " |-- model: string (nullable = true)\n",
      " |-- trim: string (nullable = true)\n",
      " |-- body: string (nullable = true)\n",
      " |-- transmission: string (nullable = true)\n",
      " |-- vin: string (nullable = true)\n",
      " |-- state: string (nullable = true)\n",
      " |-- condition: integer (nullable = true)\n",
      " |-- odometer: integer (nullable = true)\n",
      " |-- color: string (nullable = true)\n",
      " |-- interior: string (nullable = true)\n",
      " |-- seller: string (nullable = true)\n",
      " |-- mmr: integer (nullable = true)\n",
      " |-- sellingprice: integer (nullable = true)\n",
      " |-- salemonth: integer (nullable = true)\n",
      " |-- saleyear: integer (nullable = true)\n",
      "\n"
     ]
    }
   ],
   "source": [
    "df.printSchema()"
   ]
  },
  {
   "cell_type": "code",
   "execution_count": 66,
   "id": "a7786edb-15a8-4f51-9442-9431c284f7b2",
   "metadata": {},
   "outputs": [
    {
     "data": {
      "text/html": [
       "<table border='1'>\n",
       "<tr><th>saleyear</th><th>sales_amount</th><th>sales_total</th></tr>\n",
       "<tr><td>2014</td><td>236490972</td><td>21476</td></tr>\n",
       "</table>\n"
      ],
      "text/plain": [
       "+--------+------------+-----------+\n",
       "|saleyear|sales_amount|sales_total|\n",
       "+--------+------------+-----------+\n",
       "|    2014|   236490972|      21476|\n",
       "+--------+------------+-----------+"
      ]
     },
     "execution_count": 66,
     "metadata": {},
     "output_type": "execute_result"
    }
   ],
   "source": [
    "from pyspark.sql.functions import sum, count\n",
    "\n",
    "df.filter(df.saleyear == 2014).groupBy(\"saleyear\").agg(sum(\"sellingprice\").alias(\"sales_amount\"), count(\"vin\").alias(\"sales_total\"))"
   ]
  },
  {
   "cell_type": "markdown",
   "id": "32f2c743-0d01-45f3-a5ff-0596ea4acfbf",
   "metadata": {},
   "source": [
    "## Quais são os 5 carros mais vendidos até então? e os 5 menos vendidos?"
   ]
  },
  {
   "cell_type": "code",
   "execution_count": 87,
   "id": "13403b79-48ce-465d-aad2-372b6294d14f",
   "metadata": {},
   "outputs": [
    {
     "data": {
      "text/html": [
       "<table border='1'>\n",
       "<tr><th>model</th><th>count</th></tr>\n",
       "<tr><td>F-150</td><td>642</td></tr>\n",
       "<tr><td>3 Series</td><td>574</td></tr>\n",
       "<tr><td>Accord</td><td>403</td></tr>\n",
       "<tr><td>Altima</td><td>397</td></tr>\n",
       "<tr><td>Escape</td><td>379</td></tr>\n",
       "</table>\n"
      ],
      "text/plain": [
       "+--------+-----+\n",
       "|   model|count|\n",
       "+--------+-----+\n",
       "|   F-150|  642|\n",
       "|3 Series|  574|\n",
       "|  Accord|  403|\n",
       "|  Altima|  397|\n",
       "|  Escape|  379|\n",
       "+--------+-----+"
      ]
     },
     "execution_count": 87,
     "metadata": {},
     "output_type": "execute_result"
    }
   ],
   "source": [
    "from pyspark.sql.functions import desc\n",
    "car_sales_ordered = df.groupBy(\"model\").count().orderBy(desc(\"count\"))\n",
    "car_sales_ordered.limit(5)"
   ]
  },
  {
   "cell_type": "code",
   "execution_count": 83,
   "id": "840f561e-4b3c-46af-b7f5-c427627f606c",
   "metadata": {},
   "outputs": [
    {
     "data": {
      "text/plain": [
       "[Row(model='Cooper Roadster', count=1),\n",
       " Row(model='SC 300', count=1),\n",
       " Row(model='Millenia', count=1),\n",
       " Row(model='Tahoe Limited/Z71', count=1),\n",
       " Row(model='NV200', count=1)]"
      ]
     },
     "execution_count": 83,
     "metadata": {},
     "output_type": "execute_result"
    }
   ],
   "source": [
    "top_5_cars = car_sales_ordered.tail(5)\n",
    "top_5_cars"
   ]
  },
  {
   "cell_type": "markdown",
   "id": "c23db8a3-d7c8-49f7-acd3-cb403db48693",
   "metadata": {},
   "source": [
    "## Qual o veículo com maior quilometragem marcada no odômetro?"
   ]
  },
  {
   "cell_type": "code",
   "execution_count": 91,
   "id": "cc6eb0c5-83ad-4de3-ae38-b23b25a79d19",
   "metadata": {},
   "outputs": [
    {
     "data": {
      "text/html": [
       "<table border='1'>\n",
       "<tr><th>max_odometer</th></tr>\n",
       "<tr><td>999999</td></tr>\n",
       "</table>\n"
      ],
      "text/plain": [
       "+------------+\n",
       "|max_odometer|\n",
       "+------------+\n",
       "|      999999|\n",
       "+------------+"
      ]
     },
     "execution_count": 91,
     "metadata": {},
     "output_type": "execute_result"
    }
   ],
   "source": [
    "from pyspark.sql.functions import max\n",
    "df_cars_max_odometer = df.agg(max(\"odometer\").alias(\"max_odometer\"))\n",
    "df_cars_max_odometer"
   ]
  },
  {
   "cell_type": "markdown",
   "id": "8ad46603-c573-4360-81d0-0babc171f535",
   "metadata": {},
   "source": [
    "## Quais os 5 estados com o menor número de vendas?"
   ]
  },
  {
   "cell_type": "code",
   "execution_count": 96,
   "id": "06a7da37-7793-45d6-9493-0893d66af784",
   "metadata": {},
   "outputs": [
    {
     "data": {
      "text/html": [
       "<table border='1'>\n",
       "<tr><th>state</th><th>count</th></tr>\n",
       "<tr><td>nm</td><td>1</td></tr>\n",
       "<tr><td>ms</td><td>1</td></tr>\n",
       "<tr><td>qc</td><td>12</td></tr>\n",
       "<tr><td>or</td><td>13</td></tr>\n",
       "<tr><td>ok</td><td>16</td></tr>\n",
       "</table>\n"
      ],
      "text/plain": [
       "+-----+-----+\n",
       "|state|count|\n",
       "+-----+-----+\n",
       "|   nm|    1|\n",
       "|   ms|    1|\n",
       "|   qc|   12|\n",
       "|   or|   13|\n",
       "|   ok|   16|\n",
       "+-----+-----+"
      ]
     },
     "execution_count": 96,
     "metadata": {},
     "output_type": "execute_result"
    }
   ],
   "source": [
    "from pyspark.sql.functions import col\n",
    "\n",
    "df_cars_max_state_sales = df.groupBy(\"state\").count()\n",
    "df_state_min = df_cars_max_state_sales.orderBy(col(\"count\")).limit(5)\n",
    "df_state_min"
   ]
  },
  {
   "cell_type": "code",
   "execution_count": null,
   "id": "8fea08ff-6c42-4ada-bf2e-2d26e354473c",
   "metadata": {},
   "outputs": [],
   "source": []
  }
 ],
 "metadata": {
  "kernelspec": {
   "display_name": "Python 3 (ipykernel)",
   "language": "python",
   "name": "python3"
  },
  "language_info": {
   "codemirror_mode": {
    "name": "ipython",
    "version": 3
   },
   "file_extension": ".py",
   "mimetype": "text/x-python",
   "name": "python",
   "nbconvert_exporter": "python",
   "pygments_lexer": "ipython3",
   "version": "3.11.6"
  }
 },
 "nbformat": 4,
 "nbformat_minor": 5
}
