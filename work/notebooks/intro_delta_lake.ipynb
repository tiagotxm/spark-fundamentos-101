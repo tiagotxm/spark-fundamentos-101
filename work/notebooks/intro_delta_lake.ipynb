{
 "cells": [
  {
   "cell_type": "code",
   "execution_count": 1,
   "id": "11f5ad0d-f8d7-4967-95c5-1ce3e6dc551d",
   "metadata": {},
   "outputs": [],
   "source": [
    "import pyspark\n",
    "from delta import *\n",
    "\n",
    "builder = pyspark.sql.SparkSession.builder.appName(\"intro-delta\") \\\n",
    "    .config(\"spark.sql.extensions\", \"io.delta.sql.DeltaSparkSessionExtension\") \\\n",
    "    .config(\"spark.sql.catalog.spark_catalog\", \"org.apache.spark.sql.delta.catalog.DeltaCatalog\")\n",
    "\n",
    "spark = configure_spark_with_delta_pip(builder).getOrCreate()"
   ]
  },
  {
   "cell_type": "code",
   "execution_count": 4,
   "id": "3351339a-13e0-4cc6-9868-81e221ff9b23",
   "metadata": {},
   "outputs": [
    {
     "name": "stdout",
     "output_type": "stream",
     "text": [
      "+------------------+-------+--------------------+--------------------+\n",
      "|         user_name|user_id|        user_address|          user_phone|\n",
      "+------------------+-------+--------------------+--------------------+\n",
      "|        Pam Spears|    960|7482 Rodriguez Lo...|  755.332.6478x51272|\n",
      "|      Tina Jackson|    402|71524 Claudia Pin...|   690.524.3343x5649|\n",
      "|   Curtis Gonzalez|    231|05876 Flores Rest...|          6282265777|\n",
      "|      Julie Oliver|    442|1415 Kelly Falls\\...|    942-899-2282x361|\n",
      "|     Jill Martinez|    762|1130 Patricia Uni...|        341-431-5639|\n",
      "|      Manuel Gomez|    719|8036 Miller Rapid...|    001-897-442-7130|\n",
      "|    Tammy Anderson|    232|7175 Bob Place\\nG...|    001-324-935-6446|\n",
      "|   Marissa Rodgers|    992|8671 Stacey Mount...|    982.632.3107x188|\n",
      "|        Max Brooks|    612|Unit 3598 Box 407...| +1-723-660-2053x115|\n",
      "|     Robert Walker|    900|2496 Timothy Glen...|       (386)894-1409|\n",
      "|       Nancy Reyes|    937|USNV Michael\\nFPO...|+1-963-623-2987x8...|\n",
      "|    Kristen Newton|    592|624 Alexander Cap...|  693.833.9514x86955|\n",
      "|        Erin Foley|    308|128 Timothy Camp ...|001-991-782-7059x...|\n",
      "|    Jonathan Clark|    696|24577 Tammy Spurs...|+1-702-608-2383x9091|\n",
      "|     Kent Peterson|    912|51873 Erik Union\\...|001-747-319-5548x...|\n",
      "|      Dylan Castro|    628|238 Jordan Alley\\...|    001-989-904-8720|\n",
      "|     Bailey Farmer|    459|055 Smith Common ...|   (812)685-8261x147|\n",
      "|  Johnathan Garner|     13|54903 Collins Bro...|       (815)315-0640|\n",
      "|Christopher Hardin|    480|4251 Green Pass A...|  536-215-9081x33059|\n",
      "|       Maria Woods|    743|1117 Middleton Ci...|    674.340.4580x901|\n",
      "+------------------+-------+--------------------+--------------------+\n",
      "only showing top 20 rows\n",
      "\n"
     ]
    }
   ],
   "source": [
    "input_path=\"/home/jovyan/work/data/users.parquet\"\n",
    "df = spark.read.parquet(input_path)\n",
    "df.show()"
   ]
  },
  {
   "cell_type": "code",
   "execution_count": 7,
   "id": "aac36956-838e-47d5-9c59-7549a77747ff",
   "metadata": {},
   "outputs": [
    {
     "name": "stderr",
     "output_type": "stream",
     "text": [
      "UsageError: Cell magic `%%sparksql` not found.\n"
     ]
    }
   ],
   "source": [
    "# - criar uma tabela delta\n",
    "# - ler uma tabela delta\n",
    "# - appendar 1 registro na tabela\n",
    "# - consultar o history da tabela\n",
    "# - deletar 1 registro na tabela\n",
    "# - time travel\n",
    "# - merge"
   ]
  },
  {
   "cell_type": "code",
   "execution_count": null,
   "id": "d715bb6c-44f7-43f1-8367-1823c245d6de",
   "metadata": {},
   "outputs": [],
   "source": []
  }
 ],
 "metadata": {
  "kernelspec": {
   "display_name": "Python 3 (ipykernel)",
   "language": "python",
   "name": "python3"
  },
  "language_info": {
   "codemirror_mode": {
    "name": "ipython",
    "version": 3
   },
   "file_extension": ".py",
   "mimetype": "text/x-python",
   "name": "python",
   "nbconvert_exporter": "python",
   "pygments_lexer": "ipython3",
   "version": "3.11.6"
  }
 },
 "nbformat": 4,
 "nbformat_minor": 5
}
