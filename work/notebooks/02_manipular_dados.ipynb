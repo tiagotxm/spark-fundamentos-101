{
 "cells": [
  {
   "cell_type": "markdown",
   "metadata": {
    "application/vnd.databricks.v1+cell": {
     "cellMetadata": {},
     "inputWidgets": {},
     "nuid": "5404b524-1fc6-4824-8c89-10590ba84b9d",
     "showTitle": false,
     "title": ""
    }
   },
   "source": [
    "- Padronizar nomes de estação para maisculo\n",
    "- Renomear campo member_casual\n",
    "- Calcular duracao da viagem\n",
    "- Padronizar tipo da bike (eletric ou classic)"
   ]
  },
  {
   "cell_type": "code",
   "execution_count": 33,
   "metadata": {
    "application/vnd.databricks.v1+cell": {
     "cellMetadata": {
      "byteLimit": 2048000,
      "rowLimit": 10000
     },
     "inputWidgets": {},
     "nuid": "b814e73d-3787-47bf-be14-89b4f8b6b354",
     "showTitle": false,
     "title": ""
    }
   },
   "outputs": [],
   "source": [
    "#demonstrar como upar o arquivo no dbfs\n",
    "#file_path=\"dbfs:/FileStore/datasets/202212_divvy_tripdata.csv\"\n",
    "file_path=\"/home/jovyan/work/data/202212_divvy_tripdata.csv\""
   ]
  },
  {
   "cell_type": "code",
   "execution_count": 34,
   "metadata": {},
   "outputs": [],
   "source": [
    "#Cria sessão para ambiente local\n",
    "from pyspark.sql import SparkSession\n",
    "\n",
    "spark = SparkSession.builder \\\n",
    "    .appName(\"manipulando-dados\") \\\n",
    "    .getOrCreate()\n",
    "\n",
    "spark.conf.set(\"spark.sql.repl.eagerEval.enabled\", True)"
   ]
  },
  {
   "cell_type": "code",
   "execution_count": 35,
   "metadata": {
    "application/vnd.databricks.v1+cell": {
     "cellMetadata": {
      "byteLimit": 2048000,
      "rowLimit": 10000
     },
     "inputWidgets": {},
     "nuid": "c46d7afc-6fcb-4d32-94a5-7409cbe208f4",
     "showTitle": false,
     "title": ""
    }
   },
   "outputs": [
    {
     "data": {
      "text/html": [
       "<table border='1'>\n",
       "<tr><th>ride_id</th><th>rideable_type</th><th>started_at</th><th>ended_at</th><th>start_station_name</th><th>start_station_id</th><th>end_station_name</th><th>end_station_id</th><th>start_lat</th><th>start_lng</th><th>end_lat</th><th>end_lng</th><th>member_casual</th></tr>\n",
       "<tr><td>65DBD2F447EC51C2</td><td>electric_bike</td><td>2022-12-05 10:47:18</td><td>2022-12-05 10:56:34</td><td>Clifton Ave &amp; Arm...</td><td>TA1307000163</td><td>Sedgwick St &amp; Web...</td><td>13191</td><td>41.9182435</td><td>-87.65711466666667</td><td>41.922167</td><td>-87.638888</td><td>member</td></tr>\n",
       "<tr><td>0C201AA7EA0EA1AD</td><td>classic_bike</td><td>2022-12-18 06:42:33</td><td>2022-12-18 07:08:44</td><td>Broadway &amp; Belmon...</td><td>13277</td><td>Sedgwick St &amp; Web...</td><td>13191</td><td>41.940106</td><td>-87.645451</td><td>41.922167</td><td>-87.638888</td><td>casual</td></tr>\n",
       "<tr><td>E0B148CCB358A49D</td><td>electric_bike</td><td>2022-12-13 08:47:45</td><td>2022-12-13 08:59:51</td><td>Sangamon St &amp; Lak...</td><td>TA1306000015</td><td>St. Clair St &amp; Er...</td><td>13016</td><td>41.885918856</td><td>-87.65113318</td><td>41.89434513742426</td><td>-87.62279838323593</td><td>member</td></tr>\n",
       "<tr><td>54C5775D2B7C9188</td><td>classic_bike</td><td>2022-12-13 18:50:47</td><td>2022-12-13 19:19:48</td><td>Shields Ave &amp; 31s...</td><td>KA1503000038</td><td>Damen Ave &amp; Madis...</td><td>13134</td><td>41.838464</td><td>-87.635406</td><td>41.88137</td><td>-87.67493</td><td>member</td></tr>\n",
       "<tr><td>A4891F78776D35DF</td><td>classic_bike</td><td>2022-12-14 16:13:39</td><td>2022-12-14 16:27:50</td><td>Ashland Ave &amp; Chi...</td><td>13247</td><td>Damen Ave &amp; Charl...</td><td>13288</td><td>41.89595435734305</td><td>-87.6677280664444</td><td>41.920082</td><td>-87.677855</td><td>casual</td></tr>\n",
       "</table>\n"
      ],
      "text/plain": [
       "+----------------+-------------+-------------------+-------------------+--------------------+----------------+--------------------+--------------+-----------------+------------------+-----------------+------------------+-------------+\n",
       "|         ride_id|rideable_type|         started_at|           ended_at|  start_station_name|start_station_id|    end_station_name|end_station_id|        start_lat|         start_lng|          end_lat|           end_lng|member_casual|\n",
       "+----------------+-------------+-------------------+-------------------+--------------------+----------------+--------------------+--------------+-----------------+------------------+-----------------+------------------+-------------+\n",
       "|65DBD2F447EC51C2|electric_bike|2022-12-05 10:47:18|2022-12-05 10:56:34|Clifton Ave & Arm...|    TA1307000163|Sedgwick St & Web...|         13191|       41.9182435|-87.65711466666667|        41.922167|        -87.638888|       member|\n",
       "|0C201AA7EA0EA1AD| classic_bike|2022-12-18 06:42:33|2022-12-18 07:08:44|Broadway & Belmon...|           13277|Sedgwick St & Web...|         13191|        41.940106|        -87.645451|        41.922167|        -87.638888|       casual|\n",
       "|E0B148CCB358A49D|electric_bike|2022-12-13 08:47:45|2022-12-13 08:59:51|Sangamon St & Lak...|    TA1306000015|St. Clair St & Er...|         13016|     41.885918856|      -87.65113318|41.89434513742426|-87.62279838323593|       member|\n",
       "|54C5775D2B7C9188| classic_bike|2022-12-13 18:50:47|2022-12-13 19:19:48|Shields Ave & 31s...|    KA1503000038|Damen Ave & Madis...|         13134|        41.838464|        -87.635406|         41.88137|         -87.67493|       member|\n",
       "|A4891F78776D35DF| classic_bike|2022-12-14 16:13:39|2022-12-14 16:27:50|Ashland Ave & Chi...|           13247|Damen Ave & Charl...|         13288|41.89595435734305| -87.6677280664444|        41.920082|        -87.677855|       casual|\n",
       "+----------------+-------------+-------------------+-------------------+--------------------+----------------+--------------------+--------------+-----------------+------------------+-----------------+------------------+-------------+"
      ]
     },
     "execution_count": 35,
     "metadata": {},
     "output_type": "execute_result"
    }
   ],
   "source": [
    "# Lendo arquivo CSV especificando cabeçalho\n",
    "df = spark.read.option(\"header\", \"true\").csv(file_path)\n",
    "df.limit(5)"
   ]
  },
  {
   "cell_type": "markdown",
   "metadata": {
    "application/vnd.databricks.v1+cell": {
     "cellMetadata": {},
     "inputWidgets": {},
     "nuid": "0bcab2c8-7481-49d2-ad78-3419dfbd342f",
     "showTitle": false,
     "title": ""
    }
   },
   "source": [
    "# Utilizando Pyspark"
   ]
  },
  {
   "cell_type": "code",
   "execution_count": 36,
   "metadata": {
    "application/vnd.databricks.v1+cell": {
     "cellMetadata": {
      "byteLimit": 2048000,
      "rowLimit": 10000
     },
     "inputWidgets": {},
     "nuid": "27a7afdf-d1a5-4d45-b8dd-e5f90b7d9210",
     "showTitle": false,
     "title": ""
    }
   },
   "outputs": [
    {
     "data": {
      "text/html": [
       "<table border='1'>\n",
       "<tr><th>ride_id</th><th>rideable_type</th><th>started_at</th><th>ended_at</th><th>start_station_name</th><th>start_station_id</th><th>end_station_name</th><th>end_station_id</th><th>start_lat</th><th>start_lng</th><th>end_lat</th><th>end_lng</th><th>member_category</th><th>trip_time</th></tr>\n",
       "<tr><td>65DBD2F447EC51C2</td><td>electric</td><td>2022-12-05 10:47:18</td><td>2022-12-05 10:56:34</td><td>CLIFTON AVE &amp; ARM...</td><td>TA1307000163</td><td>SEDGWICK ST &amp; WEB...</td><td>13191</td><td>41.9182435</td><td>-87.65711466666667</td><td>41.922167</td><td>-87.638888</td><td>member</td><td>9</td></tr>\n",
       "<tr><td>0C201AA7EA0EA1AD</td><td>classic</td><td>2022-12-18 06:42:33</td><td>2022-12-18 07:08:44</td><td>BROADWAY &amp; BELMON...</td><td>13277</td><td>SEDGWICK ST &amp; WEB...</td><td>13191</td><td>41.940106</td><td>-87.645451</td><td>41.922167</td><td>-87.638888</td><td>casual</td><td>26</td></tr>\n",
       "<tr><td>E0B148CCB358A49D</td><td>electric</td><td>2022-12-13 08:47:45</td><td>2022-12-13 08:59:51</td><td>SANGAMON ST &amp; LAK...</td><td>TA1306000015</td><td>ST. CLAIR ST &amp; ER...</td><td>13016</td><td>41.885918856</td><td>-87.65113318</td><td>41.89434513742426</td><td>-87.62279838323593</td><td>member</td><td>12</td></tr>\n",
       "<tr><td>54C5775D2B7C9188</td><td>classic</td><td>2022-12-13 18:50:47</td><td>2022-12-13 19:19:48</td><td>SHIELDS AVE &amp; 31S...</td><td>KA1503000038</td><td>DAMEN AVE &amp; MADIS...</td><td>13134</td><td>41.838464</td><td>-87.635406</td><td>41.88137</td><td>-87.67493</td><td>member</td><td>29</td></tr>\n",
       "<tr><td>A4891F78776D35DF</td><td>classic</td><td>2022-12-14 16:13:39</td><td>2022-12-14 16:27:50</td><td>ASHLAND AVE &amp; CHI...</td><td>13247</td><td>DAMEN AVE &amp; CHARL...</td><td>13288</td><td>41.89595435734305</td><td>-87.6677280664444</td><td>41.920082</td><td>-87.677855</td><td>casual</td><td>14</td></tr>\n",
       "</table>\n"
      ],
      "text/plain": [
       "+----------------+-------------+-------------------+-------------------+--------------------+----------------+--------------------+--------------+-----------------+------------------+-----------------+------------------+---------------+---------+\n",
       "|         ride_id|rideable_type|         started_at|           ended_at|  start_station_name|start_station_id|    end_station_name|end_station_id|        start_lat|         start_lng|          end_lat|           end_lng|member_category|trip_time|\n",
       "+----------------+-------------+-------------------+-------------------+--------------------+----------------+--------------------+--------------+-----------------+------------------+-----------------+------------------+---------------+---------+\n",
       "|65DBD2F447EC51C2|     electric|2022-12-05 10:47:18|2022-12-05 10:56:34|CLIFTON AVE & ARM...|    TA1307000163|SEDGWICK ST & WEB...|         13191|       41.9182435|-87.65711466666667|        41.922167|        -87.638888|         member|        9|\n",
       "|0C201AA7EA0EA1AD|      classic|2022-12-18 06:42:33|2022-12-18 07:08:44|BROADWAY & BELMON...|           13277|SEDGWICK ST & WEB...|         13191|        41.940106|        -87.645451|        41.922167|        -87.638888|         casual|       26|\n",
       "|E0B148CCB358A49D|     electric|2022-12-13 08:47:45|2022-12-13 08:59:51|SANGAMON ST & LAK...|    TA1306000015|ST. CLAIR ST & ER...|         13016|     41.885918856|      -87.65113318|41.89434513742426|-87.62279838323593|         member|       12|\n",
       "|54C5775D2B7C9188|      classic|2022-12-13 18:50:47|2022-12-13 19:19:48|SHIELDS AVE & 31S...|    KA1503000038|DAMEN AVE & MADIS...|         13134|        41.838464|        -87.635406|         41.88137|         -87.67493|         member|       29|\n",
       "|A4891F78776D35DF|      classic|2022-12-14 16:13:39|2022-12-14 16:27:50|ASHLAND AVE & CHI...|           13247|DAMEN AVE & CHARL...|         13288|41.89595435734305| -87.6677280664444|        41.920082|        -87.677855|         casual|       14|\n",
       "+----------------+-------------+-------------------+-------------------+--------------------+----------------+--------------------+--------------+-----------------+------------------+-----------------+------------------+---------------+---------+"
      ]
     },
     "execution_count": 36,
     "metadata": {},
     "output_type": "execute_result"
    }
   ],
   "source": [
    "from pyspark.sql.functions import upper, expr, split\n",
    "\n",
    "result_df_py = (\n",
    "  df\n",
    "  .withColumn(\"start_station_name\", upper(df[\"start_station_name\"]))\n",
    "  .withColumn(\"end_station_name\", upper(df[\"end_station_name\"]))\n",
    "  .withColumn(\"trip_time\", (expr(\"unix_timestamp(ended_at) - unix_timestamp(started_at)\") / 60).cast(\"int\"))\n",
    "  .withColumn(\"rideable_type\", split(\"rideable_type\", \"_\")[0])\n",
    "  .withColumnRenamed(\"member_casual\", \"member_category\")\n",
    "  \n",
    ")\n",
    "\n",
    "result_df_py.limit(5)\n",
    "\n"
   ]
  },
  {
   "cell_type": "code",
   "execution_count": null,
   "metadata": {
    "application/vnd.databricks.v1+cell": {
     "cellMetadata": {
      "byteLimit": 2048000,
      "rowLimit": 10000
     },
     "inputWidgets": {},
     "nuid": "af54e369-e79a-4ce4-91cb-940bf8905842",
     "showTitle": false,
     "title": ""
    }
   },
   "outputs": [],
   "source": [
    "display(df_trip_time.select(\"started_at\", \"ended_at\", \"trip_time\"))"
   ]
  },
  {
   "cell_type": "markdown",
   "metadata": {
    "application/vnd.databricks.v1+cell": {
     "cellMetadata": {},
     "inputWidgets": {},
     "nuid": "a0155cb9-e002-4699-93ce-1fefdcb123bc",
     "showTitle": false,
     "title": ""
    }
   },
   "source": [
    "# Utilizando SQL"
   ]
  },
  {
   "cell_type": "code",
   "execution_count": 40,
   "metadata": {
    "application/vnd.databricks.v1+cell": {
     "cellMetadata": {
      "byteLimit": 2048000,
      "rowLimit": 10000
     },
     "inputWidgets": {},
     "nuid": "133b8e60-7004-4f28-ad14-2b973025f097",
     "showTitle": false,
     "title": ""
    }
   },
   "outputs": [],
   "source": [
    "df = spark.read.option(\"header\", \"true\").csv(file_path)\n",
    "df.createOrReplaceTempView(\"bike_shared_sql\")"
   ]
  },
  {
   "cell_type": "code",
   "execution_count": 41,
   "metadata": {
    "application/vnd.databricks.v1+cell": {
     "cellMetadata": {
      "byteLimit": 2048000,
      "rowLimit": 10000
     },
     "inputWidgets": {},
     "nuid": "54a9f2c0-0491-4b5c-9533-26582d2dcf57",
     "showTitle": false,
     "title": ""
    }
   },
   "outputs": [
    {
     "data": {
      "text/html": [
       "<table border='1'>\n",
       "<tr><th>ride_id</th><th>start_station_name</th><th>end_station_name</th><th>trip_time</th><th>rideable_type</th><th>member_category</th></tr>\n",
       "<tr><td>65DBD2F447EC51C2</td><td>CLIFTON AVE &amp; ARM...</td><td>SEDGWICK ST &amp; WEB...</td><td>9.266666666666667</td><td>electric</td><td>member</td></tr>\n",
       "<tr><td>0C201AA7EA0EA1AD</td><td>BROADWAY &amp; BELMON...</td><td>SEDGWICK ST &amp; WEB...</td><td>26.183333333333334</td><td>classic</td><td>casual</td></tr>\n",
       "<tr><td>E0B148CCB358A49D</td><td>SANGAMON ST &amp; LAK...</td><td>ST. CLAIR ST &amp; ER...</td><td>12.1</td><td>electric</td><td>member</td></tr>\n",
       "<tr><td>54C5775D2B7C9188</td><td>SHIELDS AVE &amp; 31S...</td><td>DAMEN AVE &amp; MADIS...</td><td>29.016666666666666</td><td>classic</td><td>member</td></tr>\n",
       "<tr><td>A4891F78776D35DF</td><td>ASHLAND AVE &amp; CHI...</td><td>DAMEN AVE &amp; CHARL...</td><td>14.183333333333334</td><td>classic</td><td>casual</td></tr>\n",
       "<tr><td>DB91D9B8DFACA07A</td><td>WABASH AVE &amp; 9TH ST</td><td>WACKER DR &amp; WASHI...</td><td>9.45</td><td>electric</td><td>member</td></tr>\n",
       "<tr><td>6AD396C5760CC992</td><td>LEAVITT ST &amp; CHIC...</td><td>WACKER DR &amp; WASHI...</td><td>17.85</td><td>classic</td><td>member</td></tr>\n",
       "<tr><td>8D736E35E0075504</td><td>HUMBOLDT BLVD &amp; A...</td><td>SPAULDING AVE &amp; A...</td><td>8.65</td><td>classic</td><td>member</td></tr>\n",
       "<tr><td>DDAB881F96C51DC8</td><td>CANAL ST &amp; ADAMS ST</td><td>ST. CLAIR ST &amp; ER...</td><td>18.9</td><td>classic</td><td>member</td></tr>\n",
       "<tr><td>8DDBAE51E55DAEEF</td><td>GREENVIEW AVE &amp; F...</td><td>SOUTHPORT AVE &amp; W...</td><td>13.283333333333333</td><td>classic</td><td>member</td></tr>\n",
       "<tr><td>37BCF0C0B553F0A1</td><td>CANAL ST &amp; ADAMS ST</td><td>SANGAMON ST &amp; WAS...</td><td>6.25</td><td>classic</td><td>member</td></tr>\n",
       "<tr><td>1B133362A3F86A2C</td><td>CANAL ST &amp; ADAMS ST</td><td>SANGAMON ST &amp; WAS...</td><td>6.8</td><td>classic</td><td>member</td></tr>\n",
       "<tr><td>DF0DC4C1FF01E3EF</td><td>CANAL ST &amp; ADAMS ST</td><td>SANGAMON ST &amp; WAS...</td><td>6.433333333333334</td><td>classic</td><td>member</td></tr>\n",
       "<tr><td>0D58B8FC23315D59</td><td>CANAL ST &amp; ADAMS ST</td><td>SANGAMON ST &amp; WAS...</td><td>7.15</td><td>classic</td><td>member</td></tr>\n",
       "<tr><td>462D7A9C0323B0C9</td><td>HUMBOLDT BLVD &amp; A...</td><td>SPAULDING AVE &amp; A...</td><td>3.466666666666667</td><td>classic</td><td>member</td></tr>\n",
       "<tr><td>9F827DE27022F311</td><td>ASHLAND AVE &amp; CHI...</td><td>WACKER DR &amp; WASHI...</td><td>9.85</td><td>electric</td><td>member</td></tr>\n",
       "<tr><td>58E5482C771A98BE</td><td>BROADWAY &amp; BELMON...</td><td>SOUTHPORT AVE &amp; W...</td><td>9.183333333333334</td><td>classic</td><td>member</td></tr>\n",
       "<tr><td>46FD5C26A4020ED1</td><td>SEDGWICK ST &amp; NOR...</td><td>ST. CLAIR ST &amp; ER...</td><td>23.95</td><td>classic</td><td>member</td></tr>\n",
       "<tr><td>F27780BD0F2E0C01</td><td>MALCOLM X COLLEGE</td><td>SANGAMON ST &amp; WAS...</td><td>8.9</td><td>classic</td><td>member</td></tr>\n",
       "<tr><td>995F741523A9DEAD</td><td>ASHLAND AVE &amp; CHI...</td><td>ST. CLAIR ST &amp; ER...</td><td>26.4</td><td>classic</td><td>member</td></tr>\n",
       "</table>\n",
       "only showing top 20 rows\n"
      ],
      "text/plain": [
       "+----------------+--------------------+--------------------+------------------+-------------+---------------+\n",
       "|         ride_id|  start_station_name|    end_station_name|         trip_time|rideable_type|member_category|\n",
       "+----------------+--------------------+--------------------+------------------+-------------+---------------+\n",
       "|65DBD2F447EC51C2|CLIFTON AVE & ARM...|SEDGWICK ST & WEB...| 9.266666666666667|     electric|         member|\n",
       "|0C201AA7EA0EA1AD|BROADWAY & BELMON...|SEDGWICK ST & WEB...|26.183333333333334|      classic|         casual|\n",
       "|E0B148CCB358A49D|SANGAMON ST & LAK...|ST. CLAIR ST & ER...|              12.1|     electric|         member|\n",
       "|54C5775D2B7C9188|SHIELDS AVE & 31S...|DAMEN AVE & MADIS...|29.016666666666666|      classic|         member|\n",
       "|A4891F78776D35DF|ASHLAND AVE & CHI...|DAMEN AVE & CHARL...|14.183333333333334|      classic|         casual|\n",
       "|DB91D9B8DFACA07A| WABASH AVE & 9TH ST|WACKER DR & WASHI...|              9.45|     electric|         member|\n",
       "|6AD396C5760CC992|LEAVITT ST & CHIC...|WACKER DR & WASHI...|             17.85|      classic|         member|\n",
       "|8D736E35E0075504|HUMBOLDT BLVD & A...|SPAULDING AVE & A...|              8.65|      classic|         member|\n",
       "|DDAB881F96C51DC8| CANAL ST & ADAMS ST|ST. CLAIR ST & ER...|              18.9|      classic|         member|\n",
       "|8DDBAE51E55DAEEF|GREENVIEW AVE & F...|SOUTHPORT AVE & W...|13.283333333333333|      classic|         member|\n",
       "|37BCF0C0B553F0A1| CANAL ST & ADAMS ST|SANGAMON ST & WAS...|              6.25|      classic|         member|\n",
       "|1B133362A3F86A2C| CANAL ST & ADAMS ST|SANGAMON ST & WAS...|               6.8|      classic|         member|\n",
       "|DF0DC4C1FF01E3EF| CANAL ST & ADAMS ST|SANGAMON ST & WAS...| 6.433333333333334|      classic|         member|\n",
       "|0D58B8FC23315D59| CANAL ST & ADAMS ST|SANGAMON ST & WAS...|              7.15|      classic|         member|\n",
       "|462D7A9C0323B0C9|HUMBOLDT BLVD & A...|SPAULDING AVE & A...| 3.466666666666667|      classic|         member|\n",
       "|9F827DE27022F311|ASHLAND AVE & CHI...|WACKER DR & WASHI...|              9.85|     electric|         member|\n",
       "|58E5482C771A98BE|BROADWAY & BELMON...|SOUTHPORT AVE & W...| 9.183333333333334|      classic|         member|\n",
       "|46FD5C26A4020ED1|SEDGWICK ST & NOR...|ST. CLAIR ST & ER...|             23.95|      classic|         member|\n",
       "|F27780BD0F2E0C01|   MALCOLM X COLLEGE|SANGAMON ST & WAS...|               8.9|      classic|         member|\n",
       "|995F741523A9DEAD|ASHLAND AVE & CHI...|ST. CLAIR ST & ER...|              26.4|      classic|         member|\n",
       "+----------------+--------------------+--------------------+------------------+-------------+---------------+\n",
       "only showing top 20 rows"
      ]
     },
     "metadata": {},
     "output_type": "display_data"
    }
   ],
   "source": [
    "# Reescrevendo a transformação acima com SPARK SQL\n",
    "result_df_sql = spark.sql(\"\"\"\n",
    "    SELECT\n",
    "        ride_id,\n",
    "        upper(start_station_name) AS start_station_name,\n",
    "        upper(end_station_name) AS end_station_name,\n",
    "        (unix_timestamp(ended_at) - unix_timestamp(started_at)) / 60 AS trip_time,\n",
    "        split(rideable_type, '_')[0] AS rideable_type,\n",
    "        member_casual AS member_category\n",
    "    FROM\n",
    "        bike_shared_sql\n",
    "\"\"\")\n",
    "\n",
    "display(result_df_sql)"
   ]
  },
  {
   "cell_type": "code",
   "execution_count": 45,
   "metadata": {
    "application/vnd.databricks.v1+cell": {
     "cellMetadata": {
      "byteLimit": 2048000,
      "rowLimit": 10000
     },
     "inputWidgets": {},
     "nuid": "4a93182c-3d6e-4b44-aade-bf79bdd7ed74",
     "showTitle": false,
     "title": ""
    }
   },
   "outputs": [
    {
     "data": {
      "text/html": [
       "<table border='1'>\n",
       "<tr><th>ride_id</th><th>start_station_name</th></tr>\n",
       "<tr><td>65DBD2F447EC51C2</td><td>Clifton Ave &amp; Arm...</td></tr>\n",
       "<tr><td>0C201AA7EA0EA1AD</td><td>Broadway &amp; Belmon...</td></tr>\n",
       "<tr><td>E0B148CCB358A49D</td><td>Sangamon St &amp; Lak...</td></tr>\n",
       "<tr><td>54C5775D2B7C9188</td><td>Shields Ave &amp; 31s...</td></tr>\n",
       "<tr><td>A4891F78776D35DF</td><td>Ashland Ave &amp; Chi...</td></tr>\n",
       "<tr><td>DB91D9B8DFACA07A</td><td>Wabash Ave &amp; 9th St</td></tr>\n",
       "<tr><td>6AD396C5760CC992</td><td>Leavitt St &amp; Chic...</td></tr>\n",
       "<tr><td>8D736E35E0075504</td><td>Humboldt Blvd &amp; A...</td></tr>\n",
       "<tr><td>DDAB881F96C51DC8</td><td>Canal St &amp; Adams St</td></tr>\n",
       "<tr><td>8DDBAE51E55DAEEF</td><td>Greenview Ave &amp; F...</td></tr>\n",
       "<tr><td>37BCF0C0B553F0A1</td><td>Canal St &amp; Adams St</td></tr>\n",
       "<tr><td>1B133362A3F86A2C</td><td>Canal St &amp; Adams St</td></tr>\n",
       "<tr><td>DF0DC4C1FF01E3EF</td><td>Canal St &amp; Adams St</td></tr>\n",
       "<tr><td>0D58B8FC23315D59</td><td>Canal St &amp; Adams St</td></tr>\n",
       "<tr><td>462D7A9C0323B0C9</td><td>Humboldt Blvd &amp; A...</td></tr>\n",
       "<tr><td>9F827DE27022F311</td><td>Ashland Ave &amp; Chi...</td></tr>\n",
       "<tr><td>58E5482C771A98BE</td><td>Broadway &amp; Belmon...</td></tr>\n",
       "<tr><td>46FD5C26A4020ED1</td><td>Sedgwick St &amp; Nor...</td></tr>\n",
       "<tr><td>F27780BD0F2E0C01</td><td>Malcolm X College</td></tr>\n",
       "<tr><td>995F741523A9DEAD</td><td>Ashland Ave &amp; Chi...</td></tr>\n",
       "</table>\n",
       "only showing top 20 rows\n"
      ],
      "text/plain": [
       "+----------------+--------------------+\n",
       "|         ride_id|  start_station_name|\n",
       "+----------------+--------------------+\n",
       "|65DBD2F447EC51C2|Clifton Ave & Arm...|\n",
       "|0C201AA7EA0EA1AD|Broadway & Belmon...|\n",
       "|E0B148CCB358A49D|Sangamon St & Lak...|\n",
       "|54C5775D2B7C9188|Shields Ave & 31s...|\n",
       "|A4891F78776D35DF|Ashland Ave & Chi...|\n",
       "|DB91D9B8DFACA07A| Wabash Ave & 9th St|\n",
       "|6AD396C5760CC992|Leavitt St & Chic...|\n",
       "|8D736E35E0075504|Humboldt Blvd & A...|\n",
       "|DDAB881F96C51DC8| Canal St & Adams St|\n",
       "|8DDBAE51E55DAEEF|Greenview Ave & F...|\n",
       "|37BCF0C0B553F0A1| Canal St & Adams St|\n",
       "|1B133362A3F86A2C| Canal St & Adams St|\n",
       "|DF0DC4C1FF01E3EF| Canal St & Adams St|\n",
       "|0D58B8FC23315D59| Canal St & Adams St|\n",
       "|462D7A9C0323B0C9|Humboldt Blvd & A...|\n",
       "|9F827DE27022F311|Ashland Ave & Chi...|\n",
       "|58E5482C771A98BE|Broadway & Belmon...|\n",
       "|46FD5C26A4020ED1|Sedgwick St & Nor...|\n",
       "|F27780BD0F2E0C01|   Malcolm X College|\n",
       "|995F741523A9DEAD|Ashland Ave & Chi...|\n",
       "+----------------+--------------------+\n",
       "only showing top 20 rows"
      ]
     },
     "execution_count": 45,
     "metadata": {},
     "output_type": "execute_result"
    }
   ],
   "source": [
    "# Exibindo 2 colunas do dataframe\n",
    "spark.sql(\"select ride_id, start_station_name from bike_shared_sql\")"
   ]
  },
  {
   "cell_type": "code",
   "execution_count": 46,
   "metadata": {
    "application/vnd.databricks.v1+cell": {
     "cellMetadata": {},
     "inputWidgets": {},
     "nuid": "276848e3-2806-4ba4-9de8-d59be9e57431",
     "showTitle": false,
     "title": ""
    }
   },
   "outputs": [],
   "source": [
    "result_df_sql.createOrReplaceTempView(\"bike_shared_sql_transformada\")"
   ]
  },
  {
   "cell_type": "code",
   "execution_count": 48,
   "metadata": {},
   "outputs": [
    {
     "data": {
      "text/html": [
       "<table border='1'>\n",
       "<tr><th>ride_id</th><th>start_station_name</th><th>end_station_name</th><th>trip_time</th><th>rideable_type</th><th>member_category</th></tr>\n",
       "<tr><td>65DBD2F447EC51C2</td><td>CLIFTON AVE &amp; ARM...</td><td>SEDGWICK ST &amp; WEB...</td><td>9.266666666666667</td><td>electric</td><td>member</td></tr>\n",
       "<tr><td>0C201AA7EA0EA1AD</td><td>BROADWAY &amp; BELMON...</td><td>SEDGWICK ST &amp; WEB...</td><td>26.183333333333334</td><td>classic</td><td>casual</td></tr>\n",
       "<tr><td>E0B148CCB358A49D</td><td>SANGAMON ST &amp; LAK...</td><td>ST. CLAIR ST &amp; ER...</td><td>12.1</td><td>electric</td><td>member</td></tr>\n",
       "<tr><td>54C5775D2B7C9188</td><td>SHIELDS AVE &amp; 31S...</td><td>DAMEN AVE &amp; MADIS...</td><td>29.016666666666666</td><td>classic</td><td>member</td></tr>\n",
       "<tr><td>A4891F78776D35DF</td><td>ASHLAND AVE &amp; CHI...</td><td>DAMEN AVE &amp; CHARL...</td><td>14.183333333333334</td><td>classic</td><td>casual</td></tr>\n",
       "<tr><td>DB91D9B8DFACA07A</td><td>WABASH AVE &amp; 9TH ST</td><td>WACKER DR &amp; WASHI...</td><td>9.45</td><td>electric</td><td>member</td></tr>\n",
       "<tr><td>6AD396C5760CC992</td><td>LEAVITT ST &amp; CHIC...</td><td>WACKER DR &amp; WASHI...</td><td>17.85</td><td>classic</td><td>member</td></tr>\n",
       "<tr><td>8D736E35E0075504</td><td>HUMBOLDT BLVD &amp; A...</td><td>SPAULDING AVE &amp; A...</td><td>8.65</td><td>classic</td><td>member</td></tr>\n",
       "<tr><td>DDAB881F96C51DC8</td><td>CANAL ST &amp; ADAMS ST</td><td>ST. CLAIR ST &amp; ER...</td><td>18.9</td><td>classic</td><td>member</td></tr>\n",
       "<tr><td>8DDBAE51E55DAEEF</td><td>GREENVIEW AVE &amp; F...</td><td>SOUTHPORT AVE &amp; W...</td><td>13.283333333333333</td><td>classic</td><td>member</td></tr>\n",
       "<tr><td>37BCF0C0B553F0A1</td><td>CANAL ST &amp; ADAMS ST</td><td>SANGAMON ST &amp; WAS...</td><td>6.25</td><td>classic</td><td>member</td></tr>\n",
       "<tr><td>1B133362A3F86A2C</td><td>CANAL ST &amp; ADAMS ST</td><td>SANGAMON ST &amp; WAS...</td><td>6.8</td><td>classic</td><td>member</td></tr>\n",
       "<tr><td>DF0DC4C1FF01E3EF</td><td>CANAL ST &amp; ADAMS ST</td><td>SANGAMON ST &amp; WAS...</td><td>6.433333333333334</td><td>classic</td><td>member</td></tr>\n",
       "<tr><td>0D58B8FC23315D59</td><td>CANAL ST &amp; ADAMS ST</td><td>SANGAMON ST &amp; WAS...</td><td>7.15</td><td>classic</td><td>member</td></tr>\n",
       "<tr><td>462D7A9C0323B0C9</td><td>HUMBOLDT BLVD &amp; A...</td><td>SPAULDING AVE &amp; A...</td><td>3.466666666666667</td><td>classic</td><td>member</td></tr>\n",
       "<tr><td>9F827DE27022F311</td><td>ASHLAND AVE &amp; CHI...</td><td>WACKER DR &amp; WASHI...</td><td>9.85</td><td>electric</td><td>member</td></tr>\n",
       "<tr><td>58E5482C771A98BE</td><td>BROADWAY &amp; BELMON...</td><td>SOUTHPORT AVE &amp; W...</td><td>9.183333333333334</td><td>classic</td><td>member</td></tr>\n",
       "<tr><td>46FD5C26A4020ED1</td><td>SEDGWICK ST &amp; NOR...</td><td>ST. CLAIR ST &amp; ER...</td><td>23.95</td><td>classic</td><td>member</td></tr>\n",
       "<tr><td>F27780BD0F2E0C01</td><td>MALCOLM X COLLEGE</td><td>SANGAMON ST &amp; WAS...</td><td>8.9</td><td>classic</td><td>member</td></tr>\n",
       "<tr><td>995F741523A9DEAD</td><td>ASHLAND AVE &amp; CHI...</td><td>ST. CLAIR ST &amp; ER...</td><td>26.4</td><td>classic</td><td>member</td></tr>\n",
       "</table>\n",
       "only showing top 20 rows\n"
      ],
      "text/plain": [
       "+----------------+--------------------+--------------------+------------------+-------------+---------------+\n",
       "|         ride_id|  start_station_name|    end_station_name|         trip_time|rideable_type|member_category|\n",
       "+----------------+--------------------+--------------------+------------------+-------------+---------------+\n",
       "|65DBD2F447EC51C2|CLIFTON AVE & ARM...|SEDGWICK ST & WEB...| 9.266666666666667|     electric|         member|\n",
       "|0C201AA7EA0EA1AD|BROADWAY & BELMON...|SEDGWICK ST & WEB...|26.183333333333334|      classic|         casual|\n",
       "|E0B148CCB358A49D|SANGAMON ST & LAK...|ST. CLAIR ST & ER...|              12.1|     electric|         member|\n",
       "|54C5775D2B7C9188|SHIELDS AVE & 31S...|DAMEN AVE & MADIS...|29.016666666666666|      classic|         member|\n",
       "|A4891F78776D35DF|ASHLAND AVE & CHI...|DAMEN AVE & CHARL...|14.183333333333334|      classic|         casual|\n",
       "|DB91D9B8DFACA07A| WABASH AVE & 9TH ST|WACKER DR & WASHI...|              9.45|     electric|         member|\n",
       "|6AD396C5760CC992|LEAVITT ST & CHIC...|WACKER DR & WASHI...|             17.85|      classic|         member|\n",
       "|8D736E35E0075504|HUMBOLDT BLVD & A...|SPAULDING AVE & A...|              8.65|      classic|         member|\n",
       "|DDAB881F96C51DC8| CANAL ST & ADAMS ST|ST. CLAIR ST & ER...|              18.9|      classic|         member|\n",
       "|8DDBAE51E55DAEEF|GREENVIEW AVE & F...|SOUTHPORT AVE & W...|13.283333333333333|      classic|         member|\n",
       "|37BCF0C0B553F0A1| CANAL ST & ADAMS ST|SANGAMON ST & WAS...|              6.25|      classic|         member|\n",
       "|1B133362A3F86A2C| CANAL ST & ADAMS ST|SANGAMON ST & WAS...|               6.8|      classic|         member|\n",
       "|DF0DC4C1FF01E3EF| CANAL ST & ADAMS ST|SANGAMON ST & WAS...| 6.433333333333334|      classic|         member|\n",
       "|0D58B8FC23315D59| CANAL ST & ADAMS ST|SANGAMON ST & WAS...|              7.15|      classic|         member|\n",
       "|462D7A9C0323B0C9|HUMBOLDT BLVD & A...|SPAULDING AVE & A...| 3.466666666666667|      classic|         member|\n",
       "|9F827DE27022F311|ASHLAND AVE & CHI...|WACKER DR & WASHI...|              9.85|     electric|         member|\n",
       "|58E5482C771A98BE|BROADWAY & BELMON...|SOUTHPORT AVE & W...| 9.183333333333334|      classic|         member|\n",
       "|46FD5C26A4020ED1|SEDGWICK ST & NOR...|ST. CLAIR ST & ER...|             23.95|      classic|         member|\n",
       "|F27780BD0F2E0C01|   MALCOLM X COLLEGE|SANGAMON ST & WAS...|               8.9|      classic|         member|\n",
       "|995F741523A9DEAD|ASHLAND AVE & CHI...|ST. CLAIR ST & ER...|              26.4|      classic|         member|\n",
       "+----------------+--------------------+--------------------+------------------+-------------+---------------+\n",
       "only showing top 20 rows"
      ]
     },
     "execution_count": 48,
     "metadata": {},
     "output_type": "execute_result"
    }
   ],
   "source": [
    "spark.sql(\"select * from bike_shared_sql_transformada\")"
   ]
  },
  {
   "cell_type": "code",
   "execution_count": null,
   "metadata": {},
   "outputs": [],
   "source": []
  }
 ],
 "metadata": {
  "application/vnd.databricks.v1+notebook": {
   "dashboards": [],
   "language": "python",
   "notebookMetadata": {
    "pythonIndentUnit": 2
   },
   "notebookName": "02_manipular_dados",
   "widgets": {}
  },
  "kernelspec": {
   "display_name": "Python 3 (ipykernel)",
   "language": "python",
   "name": "python3"
  },
  "language_info": {
   "codemirror_mode": {
    "name": "ipython",
    "version": 3
   },
   "file_extension": ".py",
   "mimetype": "text/x-python",
   "name": "python",
   "nbconvert_exporter": "python",
   "pygments_lexer": "ipython3",
   "version": "3.11.6"
  }
 },
 "nbformat": 4,
 "nbformat_minor": 4
}
