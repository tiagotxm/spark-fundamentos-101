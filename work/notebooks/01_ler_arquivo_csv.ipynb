{
 "cells": [
  {
   "cell_type": "code",
   "execution_count": 31,
   "metadata": {
    "application/vnd.databricks.v1+cell": {
     "cellMetadata": {
      "byteLimit": 2048000,
      "rowLimit": 10000
     },
     "inputWidgets": {},
     "nuid": "b814e73d-3787-47bf-be14-89b4f8b6b354",
     "showTitle": false,
     "title": ""
    }
   },
   "outputs": [],
   "source": [
    "#file_path=\"dbfs:/FileStore/datasets/202212_divvy_tripdata.csv\"\n",
    "file_path=\"/home/jovyan/work/data/202212_divvy_tripdata.csv\""
   ]
  },
  {
   "cell_type": "code",
   "execution_count": 32,
   "metadata": {},
   "outputs": [],
   "source": [
    "#Cria sessão para ambiente local\n",
    "from pyspark.sql import SparkSession\n",
    "\n",
    "spark = SparkSession.builder \\\n",
    "    .appName(\"lendo-csv\") \\\n",
    "    .getOrCreate()\n",
    "spark.conf.set(\"spark.sql.repl.eagerEval.enabled\", True)"
   ]
  },
  {
   "cell_type": "code",
   "execution_count": 36,
   "metadata": {
    "application/vnd.databricks.v1+cell": {
     "cellMetadata": {
      "byteLimit": 2048000,
      "rowLimit": 10000
     },
     "inputWidgets": {},
     "nuid": "48b85e23-ff0c-492a-bc26-673ac7a23616",
     "showTitle": false,
     "title": ""
    }
   },
   "outputs": [
    {
     "data": {
      "text/html": [
       "<table border='1'>\n",
       "<tr><th>_c0</th><th>_c1</th><th>_c2</th><th>_c3</th><th>_c4</th><th>_c5</th><th>_c6</th><th>_c7</th><th>_c8</th><th>_c9</th><th>_c10</th><th>_c11</th><th>_c12</th></tr>\n",
       "<tr><td>ride_id</td><td>rideable_type</td><td>started_at</td><td>ended_at</td><td>start_station_name</td><td>start_station_id</td><td>end_station_name</td><td>end_station_id</td><td>start_lat</td><td>start_lng</td><td>end_lat</td><td>end_lng</td><td>member_casual</td></tr>\n",
       "<tr><td>65DBD2F447EC51C2</td><td>electric_bike</td><td>2022-12-05 10:47:18</td><td>2022-12-05 10:56:34</td><td>Clifton Ave &amp; Arm...</td><td>TA1307000163</td><td>Sedgwick St &amp; Web...</td><td>13191</td><td>41.9182435</td><td>-87.65711466666667</td><td>41.922167</td><td>-87.638888</td><td>member</td></tr>\n",
       "<tr><td>0C201AA7EA0EA1AD</td><td>classic_bike</td><td>2022-12-18 06:42:33</td><td>2022-12-18 07:08:44</td><td>Broadway &amp; Belmon...</td><td>13277</td><td>Sedgwick St &amp; Web...</td><td>13191</td><td>41.940106</td><td>-87.645451</td><td>41.922167</td><td>-87.638888</td><td>casual</td></tr>\n",
       "<tr><td>E0B148CCB358A49D</td><td>electric_bike</td><td>2022-12-13 08:47:45</td><td>2022-12-13 08:59:51</td><td>Sangamon St &amp; Lak...</td><td>TA1306000015</td><td>St. Clair St &amp; Er...</td><td>13016</td><td>41.885918856</td><td>-87.65113318</td><td>41.89434513742426</td><td>-87.62279838323593</td><td>member</td></tr>\n",
       "<tr><td>54C5775D2B7C9188</td><td>classic_bike</td><td>2022-12-13 18:50:47</td><td>2022-12-13 19:19:48</td><td>Shields Ave &amp; 31s...</td><td>KA1503000038</td><td>Damen Ave &amp; Madis...</td><td>13134</td><td>41.838464</td><td>-87.635406</td><td>41.88137</td><td>-87.67493</td><td>member</td></tr>\n",
       "<tr><td>A4891F78776D35DF</td><td>classic_bike</td><td>2022-12-14 16:13:39</td><td>2022-12-14 16:27:50</td><td>Ashland Ave &amp; Chi...</td><td>13247</td><td>Damen Ave &amp; Charl...</td><td>13288</td><td>41.89595435734305</td><td>-87.6677280664444</td><td>41.920082</td><td>-87.677855</td><td>casual</td></tr>\n",
       "<tr><td>DB91D9B8DFACA07A</td><td>electric_bike</td><td>2022-12-02 15:24:47</td><td>2022-12-02 15:34:14</td><td>Wabash Ave &amp; 9th St</td><td>TA1309000010</td><td>Wacker Dr &amp; Washi...</td><td>KA1503000072</td><td>41.870683551</td><td>-87.625706077</td><td>41.88314336439022</td><td>-87.63724207878113</td><td>member</td></tr>\n",
       "<tr><td>6AD396C5760CC992</td><td>classic_bike</td><td>2022-12-20 09:02:03</td><td>2022-12-20 09:19:54</td><td>Leavitt St &amp; Chic...</td><td>18058</td><td>Wacker Dr &amp; Washi...</td><td>KA1503000072</td><td>41.895501</td><td>-87.682017</td><td>41.88314336439022</td><td>-87.63724207878113</td><td>member</td></tr>\n",
       "<tr><td>8D736E35E0075504</td><td>classic_bike</td><td>2022-12-13 14:19:49</td><td>2022-12-13 14:28:28</td><td>Humboldt Blvd &amp; A...</td><td>15651</td><td>Spaulding Ave &amp; A...</td><td>15650</td><td>41.91751339399</td><td>-87.7018089555</td><td>41.917108034789315</td><td>-87.71022096276283</td><td>member</td></tr>\n",
       "<tr><td>DDAB881F96C51DC8</td><td>classic_bike</td><td>2022-12-13 07:38:07</td><td>2022-12-13 07:57:01</td><td>Canal St &amp; Adams St</td><td>13011</td><td>St. Clair St &amp; Er...</td><td>13016</td><td>41.879255</td><td>-87.639904</td><td>41.89434513742426</td><td>-87.62279838323593</td><td>member</td></tr>\n",
       "<tr><td>8DDBAE51E55DAEEF</td><td>classic_bike</td><td>2022-12-21 08:57:42</td><td>2022-12-21 09:10:59</td><td>Greenview Ave &amp; F...</td><td>TA1307000001</td><td>Southport Ave &amp; W...</td><td>13235</td><td>41.92533</td><td>-87.6658</td><td>41.94815</td><td>-87.66394</td><td>member</td></tr>\n",
       "<tr><td>37BCF0C0B553F0A1</td><td>classic_bike</td><td>2022-12-12 17:56:26</td><td>2022-12-12 18:02:41</td><td>Canal St &amp; Adams St</td><td>13011</td><td>Sangamon St &amp; Was...</td><td>13409</td><td>41.879255</td><td>-87.639904</td><td>41.883165</td><td>-87.6511</td><td>member</td></tr>\n",
       "<tr><td>1B133362A3F86A2C</td><td>classic_bike</td><td>2022-12-06 17:07:34</td><td>2022-12-06 17:14:22</td><td>Canal St &amp; Adams St</td><td>13011</td><td>Sangamon St &amp; Was...</td><td>13409</td><td>41.879255</td><td>-87.639904</td><td>41.883165</td><td>-87.6511</td><td>member</td></tr>\n",
       "<tr><td>DF0DC4C1FF01E3EF</td><td>classic_bike</td><td>2022-12-29 17:46:08</td><td>2022-12-29 17:52:34</td><td>Canal St &amp; Adams St</td><td>13011</td><td>Sangamon St &amp; Was...</td><td>13409</td><td>41.879255</td><td>-87.639904</td><td>41.883165</td><td>-87.6511</td><td>member</td></tr>\n",
       "<tr><td>0D58B8FC23315D59</td><td>classic_bike</td><td>2022-12-01 21:38:56</td><td>2022-12-01 21:46:05</td><td>Canal St &amp; Adams St</td><td>13011</td><td>Sangamon St &amp; Was...</td><td>13409</td><td>41.879255</td><td>-87.639904</td><td>41.883165</td><td>-87.6511</td><td>member</td></tr>\n",
       "<tr><td>462D7A9C0323B0C9</td><td>classic_bike</td><td>2022-12-03 15:52:58</td><td>2022-12-03 15:56:26</td><td>Humboldt Blvd &amp; A...</td><td>15651</td><td>Spaulding Ave &amp; A...</td><td>15650</td><td>41.91751339399</td><td>-87.7018089555</td><td>41.917108034789315</td><td>-87.71022096276283</td><td>member</td></tr>\n",
       "<tr><td>9F827DE27022F311</td><td>electric_bike</td><td>2022-12-01 07:08:13</td><td>2022-12-01 07:18:04</td><td>Ashland Ave &amp; Chi...</td><td>13247</td><td>Wacker Dr &amp; Washi...</td><td>KA1503000072</td><td>41.8959825</td><td>-87.667694</td><td>41.88314336439022</td><td>-87.63724207878113</td><td>member</td></tr>\n",
       "<tr><td>58E5482C771A98BE</td><td>classic_bike</td><td>2022-12-28 22:01:54</td><td>2022-12-28 22:11:05</td><td>Broadway &amp; Belmon...</td><td>13277</td><td>Southport Ave &amp; W...</td><td>13235</td><td>41.940106</td><td>-87.645451</td><td>41.94815</td><td>-87.66394</td><td>member</td></tr>\n",
       "<tr><td>46FD5C26A4020ED1</td><td>classic_bike</td><td>2022-12-19 11:28:51</td><td>2022-12-19 11:52:48</td><td>Sedgwick St &amp; Nor...</td><td>TA1307000038</td><td>St. Clair St &amp; Er...</td><td>13016</td><td>41.911386</td><td>-87.638677</td><td>41.89434513742426</td><td>-87.62279838323593</td><td>member</td></tr>\n",
       "<tr><td>F27780BD0F2E0C01</td><td>classic_bike</td><td>2022-12-21 16:51:20</td><td>2022-12-21 17:00:14</td><td>Malcolm X College</td><td>631</td><td>Sangamon St &amp; Was...</td><td>13409</td><td>41.877618</td><td>-87.673895</td><td>41.883165</td><td>-87.6511</td><td>member</td></tr>\n",
       "</table>\n",
       "only showing top 20 rows\n"
      ],
      "text/plain": [
       "+----------------+-------------+-------------------+-------------------+--------------------+----------------+--------------------+--------------+-----------------+------------------+------------------+------------------+-------------+\n",
       "|             _c0|          _c1|                _c2|                _c3|                 _c4|             _c5|                 _c6|           _c7|              _c8|               _c9|              _c10|              _c11|         _c12|\n",
       "+----------------+-------------+-------------------+-------------------+--------------------+----------------+--------------------+--------------+-----------------+------------------+------------------+------------------+-------------+\n",
       "|         ride_id|rideable_type|         started_at|           ended_at|  start_station_name|start_station_id|    end_station_name|end_station_id|        start_lat|         start_lng|           end_lat|           end_lng|member_casual|\n",
       "|65DBD2F447EC51C2|electric_bike|2022-12-05 10:47:18|2022-12-05 10:56:34|Clifton Ave & Arm...|    TA1307000163|Sedgwick St & Web...|         13191|       41.9182435|-87.65711466666667|         41.922167|        -87.638888|       member|\n",
       "|0C201AA7EA0EA1AD| classic_bike|2022-12-18 06:42:33|2022-12-18 07:08:44|Broadway & Belmon...|           13277|Sedgwick St & Web...|         13191|        41.940106|        -87.645451|         41.922167|        -87.638888|       casual|\n",
       "|E0B148CCB358A49D|electric_bike|2022-12-13 08:47:45|2022-12-13 08:59:51|Sangamon St & Lak...|    TA1306000015|St. Clair St & Er...|         13016|     41.885918856|      -87.65113318| 41.89434513742426|-87.62279838323593|       member|\n",
       "|54C5775D2B7C9188| classic_bike|2022-12-13 18:50:47|2022-12-13 19:19:48|Shields Ave & 31s...|    KA1503000038|Damen Ave & Madis...|         13134|        41.838464|        -87.635406|          41.88137|         -87.67493|       member|\n",
       "|A4891F78776D35DF| classic_bike|2022-12-14 16:13:39|2022-12-14 16:27:50|Ashland Ave & Chi...|           13247|Damen Ave & Charl...|         13288|41.89595435734305| -87.6677280664444|         41.920082|        -87.677855|       casual|\n",
       "|DB91D9B8DFACA07A|electric_bike|2022-12-02 15:24:47|2022-12-02 15:34:14| Wabash Ave & 9th St|    TA1309000010|Wacker Dr & Washi...|  KA1503000072|     41.870683551|     -87.625706077| 41.88314336439022|-87.63724207878113|       member|\n",
       "|6AD396C5760CC992| classic_bike|2022-12-20 09:02:03|2022-12-20 09:19:54|Leavitt St & Chic...|           18058|Wacker Dr & Washi...|  KA1503000072|        41.895501|        -87.682017| 41.88314336439022|-87.63724207878113|       member|\n",
       "|8D736E35E0075504| classic_bike|2022-12-13 14:19:49|2022-12-13 14:28:28|Humboldt Blvd & A...|           15651|Spaulding Ave & A...|         15650|   41.91751339399|    -87.7018089555|41.917108034789315|-87.71022096276283|       member|\n",
       "|DDAB881F96C51DC8| classic_bike|2022-12-13 07:38:07|2022-12-13 07:57:01| Canal St & Adams St|           13011|St. Clair St & Er...|         13016|        41.879255|        -87.639904| 41.89434513742426|-87.62279838323593|       member|\n",
       "|8DDBAE51E55DAEEF| classic_bike|2022-12-21 08:57:42|2022-12-21 09:10:59|Greenview Ave & F...|    TA1307000001|Southport Ave & W...|         13235|         41.92533|          -87.6658|          41.94815|         -87.66394|       member|\n",
       "|37BCF0C0B553F0A1| classic_bike|2022-12-12 17:56:26|2022-12-12 18:02:41| Canal St & Adams St|           13011|Sangamon St & Was...|         13409|        41.879255|        -87.639904|         41.883165|          -87.6511|       member|\n",
       "|1B133362A3F86A2C| classic_bike|2022-12-06 17:07:34|2022-12-06 17:14:22| Canal St & Adams St|           13011|Sangamon St & Was...|         13409|        41.879255|        -87.639904|         41.883165|          -87.6511|       member|\n",
       "|DF0DC4C1FF01E3EF| classic_bike|2022-12-29 17:46:08|2022-12-29 17:52:34| Canal St & Adams St|           13011|Sangamon St & Was...|         13409|        41.879255|        -87.639904|         41.883165|          -87.6511|       member|\n",
       "|0D58B8FC23315D59| classic_bike|2022-12-01 21:38:56|2022-12-01 21:46:05| Canal St & Adams St|           13011|Sangamon St & Was...|         13409|        41.879255|        -87.639904|         41.883165|          -87.6511|       member|\n",
       "|462D7A9C0323B0C9| classic_bike|2022-12-03 15:52:58|2022-12-03 15:56:26|Humboldt Blvd & A...|           15651|Spaulding Ave & A...|         15650|   41.91751339399|    -87.7018089555|41.917108034789315|-87.71022096276283|       member|\n",
       "|9F827DE27022F311|electric_bike|2022-12-01 07:08:13|2022-12-01 07:18:04|Ashland Ave & Chi...|           13247|Wacker Dr & Washi...|  KA1503000072|       41.8959825|        -87.667694| 41.88314336439022|-87.63724207878113|       member|\n",
       "|58E5482C771A98BE| classic_bike|2022-12-28 22:01:54|2022-12-28 22:11:05|Broadway & Belmon...|           13277|Southport Ave & W...|         13235|        41.940106|        -87.645451|          41.94815|         -87.66394|       member|\n",
       "|46FD5C26A4020ED1| classic_bike|2022-12-19 11:28:51|2022-12-19 11:52:48|Sedgwick St & Nor...|    TA1307000038|St. Clair St & Er...|         13016|        41.911386|        -87.638677| 41.89434513742426|-87.62279838323593|       member|\n",
       "|F27780BD0F2E0C01| classic_bike|2022-12-21 16:51:20|2022-12-21 17:00:14|   Malcolm X College|             631|Sangamon St & Was...|         13409|        41.877618|        -87.673895|         41.883165|          -87.6511|       member|\n",
       "+----------------+-------------+-------------------+-------------------+--------------------+----------------+--------------------+--------------+-----------------+------------------+------------------+------------------+-------------+\n",
       "only showing top 20 rows"
      ]
     },
     "metadata": {},
     "output_type": "display_data"
    }
   ],
   "source": [
    "# Lendo arquivo no formato CSV\n",
    "df = spark.read.csv(file_path)\n",
    "\n",
    "#df.show()\n",
    "#df\n",
    "display(df)\n"
   ]
  },
  {
   "cell_type": "code",
   "execution_count": 39,
   "metadata": {
    "application/vnd.databricks.v1+cell": {
     "cellMetadata": {
      "byteLimit": 2048000,
      "rowLimit": 10000
     },
     "inputWidgets": {},
     "nuid": "c46d7afc-6fcb-4d32-94a5-7409cbe208f4",
     "showTitle": false,
     "title": ""
    }
   },
   "outputs": [
    {
     "data": {
      "text/html": [
       "<table border='1'>\n",
       "<tr><th>ride_id</th><th>rideable_type</th><th>started_at</th><th>ended_at</th><th>start_station_name</th><th>start_station_id</th><th>end_station_name</th><th>end_station_id</th><th>start_lat</th><th>start_lng</th><th>end_lat</th><th>end_lng</th><th>member_casual</th></tr>\n",
       "<tr><td>65DBD2F447EC51C2</td><td>electric_bike</td><td>2022-12-05 10:47:18</td><td>2022-12-05 10:56:34</td><td>Clifton Ave &amp; Arm...</td><td>TA1307000163</td><td>Sedgwick St &amp; Web...</td><td>13191</td><td>41.9182435</td><td>-87.65711466666667</td><td>41.922167</td><td>-87.638888</td><td>member</td></tr>\n",
       "<tr><td>0C201AA7EA0EA1AD</td><td>classic_bike</td><td>2022-12-18 06:42:33</td><td>2022-12-18 07:08:44</td><td>Broadway &amp; Belmon...</td><td>13277</td><td>Sedgwick St &amp; Web...</td><td>13191</td><td>41.940106</td><td>-87.645451</td><td>41.922167</td><td>-87.638888</td><td>casual</td></tr>\n",
       "<tr><td>E0B148CCB358A49D</td><td>electric_bike</td><td>2022-12-13 08:47:45</td><td>2022-12-13 08:59:51</td><td>Sangamon St &amp; Lak...</td><td>TA1306000015</td><td>St. Clair St &amp; Er...</td><td>13016</td><td>41.885918856</td><td>-87.65113318</td><td>41.89434513742426</td><td>-87.62279838323593</td><td>member</td></tr>\n",
       "<tr><td>54C5775D2B7C9188</td><td>classic_bike</td><td>2022-12-13 18:50:47</td><td>2022-12-13 19:19:48</td><td>Shields Ave &amp; 31s...</td><td>KA1503000038</td><td>Damen Ave &amp; Madis...</td><td>13134</td><td>41.838464</td><td>-87.635406</td><td>41.88137</td><td>-87.67493</td><td>member</td></tr>\n",
       "<tr><td>A4891F78776D35DF</td><td>classic_bike</td><td>2022-12-14 16:13:39</td><td>2022-12-14 16:27:50</td><td>Ashland Ave &amp; Chi...</td><td>13247</td><td>Damen Ave &amp; Charl...</td><td>13288</td><td>41.89595435734305</td><td>-87.6677280664444</td><td>41.920082</td><td>-87.677855</td><td>casual</td></tr>\n",
       "</table>\n"
      ],
      "text/plain": [
       "+----------------+-------------+-------------------+-------------------+--------------------+----------------+--------------------+--------------+-----------------+------------------+-----------------+------------------+-------------+\n",
       "|         ride_id|rideable_type|         started_at|           ended_at|  start_station_name|start_station_id|    end_station_name|end_station_id|        start_lat|         start_lng|          end_lat|           end_lng|member_casual|\n",
       "+----------------+-------------+-------------------+-------------------+--------------------+----------------+--------------------+--------------+-----------------+------------------+-----------------+------------------+-------------+\n",
       "|65DBD2F447EC51C2|electric_bike|2022-12-05 10:47:18|2022-12-05 10:56:34|Clifton Ave & Arm...|    TA1307000163|Sedgwick St & Web...|         13191|       41.9182435|-87.65711466666667|        41.922167|        -87.638888|       member|\n",
       "|0C201AA7EA0EA1AD| classic_bike|2022-12-18 06:42:33|2022-12-18 07:08:44|Broadway & Belmon...|           13277|Sedgwick St & Web...|         13191|        41.940106|        -87.645451|        41.922167|        -87.638888|       casual|\n",
       "|E0B148CCB358A49D|electric_bike|2022-12-13 08:47:45|2022-12-13 08:59:51|Sangamon St & Lak...|    TA1306000015|St. Clair St & Er...|         13016|     41.885918856|      -87.65113318|41.89434513742426|-87.62279838323593|       member|\n",
       "|54C5775D2B7C9188| classic_bike|2022-12-13 18:50:47|2022-12-13 19:19:48|Shields Ave & 31s...|    KA1503000038|Damen Ave & Madis...|         13134|        41.838464|        -87.635406|         41.88137|         -87.67493|       member|\n",
       "|A4891F78776D35DF| classic_bike|2022-12-14 16:13:39|2022-12-14 16:27:50|Ashland Ave & Chi...|           13247|Damen Ave & Charl...|         13288|41.89595435734305| -87.6677280664444|        41.920082|        -87.677855|       casual|\n",
       "+----------------+-------------+-------------------+-------------------+--------------------+----------------+--------------------+--------------+-----------------+------------------+-----------------+------------------+-------------+"
      ]
     },
     "execution_count": 39,
     "metadata": {},
     "output_type": "execute_result"
    }
   ],
   "source": [
    "# Lendo arquivo CSV especificando cabeçalho\n",
    "df_header = spark.read.option(\"header\", \"true\").csv(file_path)\n",
    "#df_header.show()\n",
    "df_header.limit(5)"
   ]
  },
  {
   "cell_type": "markdown",
   "metadata": {
    "application/vnd.databricks.v1+cell": {
     "cellMetadata": {},
     "inputWidgets": {},
     "nuid": "0bcab2c8-7481-49d2-ad78-3419dfbd342f",
     "showTitle": false,
     "title": ""
    }
   },
   "source": [
    "# Utilizando Pyspark"
   ]
  },
  {
   "cell_type": "code",
   "execution_count": 40,
   "metadata": {
    "application/vnd.databricks.v1+cell": {
     "cellMetadata": {
      "byteLimit": 2048000,
      "rowLimit": 10000
     },
     "inputWidgets": {},
     "nuid": "27a7afdf-d1a5-4d45-b8dd-e5f90b7d9210",
     "showTitle": false,
     "title": ""
    }
   },
   "outputs": [
    {
     "data": {
      "text/plain": [
       "['ride_id',\n",
       " 'rideable_type',\n",
       " 'started_at',\n",
       " 'ended_at',\n",
       " 'start_station_name',\n",
       " 'start_station_id',\n",
       " 'end_station_name',\n",
       " 'end_station_id',\n",
       " 'start_lat',\n",
       " 'start_lng',\n",
       " 'end_lat',\n",
       " 'end_lng',\n",
       " 'member_casual']"
      ]
     },
     "execution_count": 40,
     "metadata": {},
     "output_type": "execute_result"
    }
   ],
   "source": [
    "# Verificando as colunas do dataframe\n",
    "df_header.columns"
   ]
  },
  {
   "cell_type": "code",
   "execution_count": 41,
   "metadata": {
    "application/vnd.databricks.v1+cell": {
     "cellMetadata": {
      "byteLimit": 2048000,
      "rowLimit": 10000
     },
     "inputWidgets": {},
     "nuid": "53d55136-3da2-4b70-a2e3-e0fc422ab381",
     "showTitle": false,
     "title": ""
    }
   },
   "outputs": [
    {
     "data": {
      "text/plain": [
       "13"
      ]
     },
     "execution_count": 41,
     "metadata": {},
     "output_type": "execute_result"
    }
   ],
   "source": [
    "# Identificando a quantidade de colunas\n",
    "len(df_header.columns)"
   ]
  },
  {
   "cell_type": "code",
   "execution_count": 43,
   "metadata": {
    "application/vnd.databricks.v1+cell": {
     "cellMetadata": {
      "byteLimit": 2048000,
      "rowLimit": 10000
     },
     "inputWidgets": {},
     "nuid": "63844eed-d8a9-47cb-b684-2ff3fa0c7c90",
     "showTitle": false,
     "title": ""
    }
   },
   "outputs": [
    {
     "data": {
      "text/html": [
       "<table border='1'>\n",
       "<tr><th>ride_id</th><th>start_station_name</th></tr>\n",
       "<tr><td>65DBD2F447EC51C2</td><td>Clifton Ave &amp; Arm...</td></tr>\n",
       "<tr><td>0C201AA7EA0EA1AD</td><td>Broadway &amp; Belmon...</td></tr>\n",
       "<tr><td>E0B148CCB358A49D</td><td>Sangamon St &amp; Lak...</td></tr>\n",
       "<tr><td>54C5775D2B7C9188</td><td>Shields Ave &amp; 31s...</td></tr>\n",
       "<tr><td>A4891F78776D35DF</td><td>Ashland Ave &amp; Chi...</td></tr>\n",
       "<tr><td>DB91D9B8DFACA07A</td><td>Wabash Ave &amp; 9th St</td></tr>\n",
       "<tr><td>6AD396C5760CC992</td><td>Leavitt St &amp; Chic...</td></tr>\n",
       "<tr><td>8D736E35E0075504</td><td>Humboldt Blvd &amp; A...</td></tr>\n",
       "<tr><td>DDAB881F96C51DC8</td><td>Canal St &amp; Adams St</td></tr>\n",
       "<tr><td>8DDBAE51E55DAEEF</td><td>Greenview Ave &amp; F...</td></tr>\n",
       "<tr><td>37BCF0C0B553F0A1</td><td>Canal St &amp; Adams St</td></tr>\n",
       "<tr><td>1B133362A3F86A2C</td><td>Canal St &amp; Adams St</td></tr>\n",
       "<tr><td>DF0DC4C1FF01E3EF</td><td>Canal St &amp; Adams St</td></tr>\n",
       "<tr><td>0D58B8FC23315D59</td><td>Canal St &amp; Adams St</td></tr>\n",
       "<tr><td>462D7A9C0323B0C9</td><td>Humboldt Blvd &amp; A...</td></tr>\n",
       "<tr><td>9F827DE27022F311</td><td>Ashland Ave &amp; Chi...</td></tr>\n",
       "<tr><td>58E5482C771A98BE</td><td>Broadway &amp; Belmon...</td></tr>\n",
       "<tr><td>46FD5C26A4020ED1</td><td>Sedgwick St &amp; Nor...</td></tr>\n",
       "<tr><td>F27780BD0F2E0C01</td><td>Malcolm X College</td></tr>\n",
       "<tr><td>995F741523A9DEAD</td><td>Ashland Ave &amp; Chi...</td></tr>\n",
       "</table>\n",
       "only showing top 20 rows\n"
      ],
      "text/plain": [
       "+----------------+--------------------+\n",
       "|         ride_id|  start_station_name|\n",
       "+----------------+--------------------+\n",
       "|65DBD2F447EC51C2|Clifton Ave & Arm...|\n",
       "|0C201AA7EA0EA1AD|Broadway & Belmon...|\n",
       "|E0B148CCB358A49D|Sangamon St & Lak...|\n",
       "|54C5775D2B7C9188|Shields Ave & 31s...|\n",
       "|A4891F78776D35DF|Ashland Ave & Chi...|\n",
       "|DB91D9B8DFACA07A| Wabash Ave & 9th St|\n",
       "|6AD396C5760CC992|Leavitt St & Chic...|\n",
       "|8D736E35E0075504|Humboldt Blvd & A...|\n",
       "|DDAB881F96C51DC8| Canal St & Adams St|\n",
       "|8DDBAE51E55DAEEF|Greenview Ave & F...|\n",
       "|37BCF0C0B553F0A1| Canal St & Adams St|\n",
       "|1B133362A3F86A2C| Canal St & Adams St|\n",
       "|DF0DC4C1FF01E3EF| Canal St & Adams St|\n",
       "|0D58B8FC23315D59| Canal St & Adams St|\n",
       "|462D7A9C0323B0C9|Humboldt Blvd & A...|\n",
       "|9F827DE27022F311|Ashland Ave & Chi...|\n",
       "|58E5482C771A98BE|Broadway & Belmon...|\n",
       "|46FD5C26A4020ED1|Sedgwick St & Nor...|\n",
       "|F27780BD0F2E0C01|   Malcolm X College|\n",
       "|995F741523A9DEAD|Ashland Ave & Chi...|\n",
       "+----------------+--------------------+\n",
       "only showing top 20 rows"
      ]
     },
     "execution_count": 43,
     "metadata": {},
     "output_type": "execute_result"
    }
   ],
   "source": [
    "df_header.select(\"ride_id\", \"start_station_name\")"
   ]
  },
  {
   "cell_type": "code",
   "execution_count": 44,
   "metadata": {
    "application/vnd.databricks.v1+cell": {
     "cellMetadata": {
      "byteLimit": 2048000,
      "rowLimit": 10000
     },
     "inputWidgets": {},
     "nuid": "eb866001-67aa-4a9b-bc81-df08ab11f13d",
     "showTitle": false,
     "title": ""
    }
   },
   "outputs": [
    {
     "name": "stdout",
     "output_type": "stream",
     "text": [
      "+----------------+--------------------+\n",
      "|         ride_id|  start_station_name|\n",
      "+----------------+--------------------+\n",
      "|65DBD2F447EC51C2|Clifton Ave & Arm...|\n",
      "|0C201AA7EA0EA1AD|Broadway & Belmon...|\n",
      "|E0B148CCB358A49D|Sangamon St & Lak...|\n",
      "|54C5775D2B7C9188|Shields Ave & 31s...|\n",
      "|A4891F78776D35DF|Ashland Ave & Chi...|\n",
      "|DB91D9B8DFACA07A| Wabash Ave & 9th St|\n",
      "|6AD396C5760CC992|Leavitt St & Chic...|\n",
      "|8D736E35E0075504|Humboldt Blvd & A...|\n",
      "|DDAB881F96C51DC8| Canal St & Adams St|\n",
      "|8DDBAE51E55DAEEF|Greenview Ave & F...|\n",
      "|37BCF0C0B553F0A1| Canal St & Adams St|\n",
      "|1B133362A3F86A2C| Canal St & Adams St|\n",
      "|DF0DC4C1FF01E3EF| Canal St & Adams St|\n",
      "|0D58B8FC23315D59| Canal St & Adams St|\n",
      "|462D7A9C0323B0C9|Humboldt Blvd & A...|\n",
      "|9F827DE27022F311|Ashland Ave & Chi...|\n",
      "|58E5482C771A98BE|Broadway & Belmon...|\n",
      "|46FD5C26A4020ED1|Sedgwick St & Nor...|\n",
      "|F27780BD0F2E0C01|   Malcolm X College|\n",
      "|995F741523A9DEAD|Ashland Ave & Chi...|\n",
      "+----------------+--------------------+\n",
      "only showing top 20 rows\n",
      "\n"
     ]
    }
   ],
   "source": [
    "# Exibindo 2 colunas do dataframe\n",
    "df_header.select(\"ride_id\", \"start_station_name\").show()"
   ]
  },
  {
   "cell_type": "code",
   "execution_count": 45,
   "metadata": {
    "application/vnd.databricks.v1+cell": {
     "cellMetadata": {
      "byteLimit": 2048000,
      "rowLimit": 10000
     },
     "inputWidgets": {},
     "nuid": "03b020ab-b306-4133-88a6-93b8e44db064",
     "showTitle": false,
     "title": ""
    }
   },
   "outputs": [],
   "source": [
    "# Criando uma view para posterior consulta com SQL\n",
    "df_header.createOrReplaceTempView(\"bike_shared\")"
   ]
  },
  {
   "cell_type": "markdown",
   "metadata": {
    "application/vnd.databricks.v1+cell": {
     "cellMetadata": {},
     "inputWidgets": {},
     "nuid": "a0155cb9-e002-4699-93ce-1fefdcb123bc",
     "showTitle": false,
     "title": ""
    }
   },
   "source": [
    "# Utilizando SQL"
   ]
  },
  {
   "cell_type": "code",
   "execution_count": 47,
   "metadata": {
    "application/vnd.databricks.v1+cell": {
     "cellMetadata": {
      "byteLimit": 2048000,
      "rowLimit": 10000
     },
     "inputWidgets": {},
     "nuid": "54a9f2c0-0491-4b5c-9533-26582d2dcf57",
     "showTitle": false,
     "title": ""
    }
   },
   "outputs": [
    {
     "data": {
      "text/html": [
       "<table border='1'>\n",
       "<tr><th>ride_id</th><th>rideable_type</th><th>started_at</th><th>ended_at</th><th>start_station_name</th><th>start_station_id</th><th>end_station_name</th><th>end_station_id</th><th>start_lat</th><th>start_lng</th><th>end_lat</th><th>end_lng</th><th>member_casual</th></tr>\n",
       "<tr><td>65DBD2F447EC51C2</td><td>electric_bike</td><td>2022-12-05 10:47:18</td><td>2022-12-05 10:56:34</td><td>Clifton Ave &amp; Arm...</td><td>TA1307000163</td><td>Sedgwick St &amp; Web...</td><td>13191</td><td>41.9182435</td><td>-87.65711466666667</td><td>41.922167</td><td>-87.638888</td><td>member</td></tr>\n",
       "<tr><td>0C201AA7EA0EA1AD</td><td>classic_bike</td><td>2022-12-18 06:42:33</td><td>2022-12-18 07:08:44</td><td>Broadway &amp; Belmon...</td><td>13277</td><td>Sedgwick St &amp; Web...</td><td>13191</td><td>41.940106</td><td>-87.645451</td><td>41.922167</td><td>-87.638888</td><td>casual</td></tr>\n",
       "<tr><td>E0B148CCB358A49D</td><td>electric_bike</td><td>2022-12-13 08:47:45</td><td>2022-12-13 08:59:51</td><td>Sangamon St &amp; Lak...</td><td>TA1306000015</td><td>St. Clair St &amp; Er...</td><td>13016</td><td>41.885918856</td><td>-87.65113318</td><td>41.89434513742426</td><td>-87.62279838323593</td><td>member</td></tr>\n",
       "<tr><td>54C5775D2B7C9188</td><td>classic_bike</td><td>2022-12-13 18:50:47</td><td>2022-12-13 19:19:48</td><td>Shields Ave &amp; 31s...</td><td>KA1503000038</td><td>Damen Ave &amp; Madis...</td><td>13134</td><td>41.838464</td><td>-87.635406</td><td>41.88137</td><td>-87.67493</td><td>member</td></tr>\n",
       "<tr><td>A4891F78776D35DF</td><td>classic_bike</td><td>2022-12-14 16:13:39</td><td>2022-12-14 16:27:50</td><td>Ashland Ave &amp; Chi...</td><td>13247</td><td>Damen Ave &amp; Charl...</td><td>13288</td><td>41.89595435734305</td><td>-87.6677280664444</td><td>41.920082</td><td>-87.677855</td><td>casual</td></tr>\n",
       "<tr><td>DB91D9B8DFACA07A</td><td>electric_bike</td><td>2022-12-02 15:24:47</td><td>2022-12-02 15:34:14</td><td>Wabash Ave &amp; 9th St</td><td>TA1309000010</td><td>Wacker Dr &amp; Washi...</td><td>KA1503000072</td><td>41.870683551</td><td>-87.625706077</td><td>41.88314336439022</td><td>-87.63724207878113</td><td>member</td></tr>\n",
       "<tr><td>6AD396C5760CC992</td><td>classic_bike</td><td>2022-12-20 09:02:03</td><td>2022-12-20 09:19:54</td><td>Leavitt St &amp; Chic...</td><td>18058</td><td>Wacker Dr &amp; Washi...</td><td>KA1503000072</td><td>41.895501</td><td>-87.682017</td><td>41.88314336439022</td><td>-87.63724207878113</td><td>member</td></tr>\n",
       "<tr><td>8D736E35E0075504</td><td>classic_bike</td><td>2022-12-13 14:19:49</td><td>2022-12-13 14:28:28</td><td>Humboldt Blvd &amp; A...</td><td>15651</td><td>Spaulding Ave &amp; A...</td><td>15650</td><td>41.91751339399</td><td>-87.7018089555</td><td>41.917108034789315</td><td>-87.71022096276283</td><td>member</td></tr>\n",
       "<tr><td>DDAB881F96C51DC8</td><td>classic_bike</td><td>2022-12-13 07:38:07</td><td>2022-12-13 07:57:01</td><td>Canal St &amp; Adams St</td><td>13011</td><td>St. Clair St &amp; Er...</td><td>13016</td><td>41.879255</td><td>-87.639904</td><td>41.89434513742426</td><td>-87.62279838323593</td><td>member</td></tr>\n",
       "<tr><td>8DDBAE51E55DAEEF</td><td>classic_bike</td><td>2022-12-21 08:57:42</td><td>2022-12-21 09:10:59</td><td>Greenview Ave &amp; F...</td><td>TA1307000001</td><td>Southport Ave &amp; W...</td><td>13235</td><td>41.92533</td><td>-87.6658</td><td>41.94815</td><td>-87.66394</td><td>member</td></tr>\n",
       "<tr><td>37BCF0C0B553F0A1</td><td>classic_bike</td><td>2022-12-12 17:56:26</td><td>2022-12-12 18:02:41</td><td>Canal St &amp; Adams St</td><td>13011</td><td>Sangamon St &amp; Was...</td><td>13409</td><td>41.879255</td><td>-87.639904</td><td>41.883165</td><td>-87.6511</td><td>member</td></tr>\n",
       "<tr><td>1B133362A3F86A2C</td><td>classic_bike</td><td>2022-12-06 17:07:34</td><td>2022-12-06 17:14:22</td><td>Canal St &amp; Adams St</td><td>13011</td><td>Sangamon St &amp; Was...</td><td>13409</td><td>41.879255</td><td>-87.639904</td><td>41.883165</td><td>-87.6511</td><td>member</td></tr>\n",
       "<tr><td>DF0DC4C1FF01E3EF</td><td>classic_bike</td><td>2022-12-29 17:46:08</td><td>2022-12-29 17:52:34</td><td>Canal St &amp; Adams St</td><td>13011</td><td>Sangamon St &amp; Was...</td><td>13409</td><td>41.879255</td><td>-87.639904</td><td>41.883165</td><td>-87.6511</td><td>member</td></tr>\n",
       "<tr><td>0D58B8FC23315D59</td><td>classic_bike</td><td>2022-12-01 21:38:56</td><td>2022-12-01 21:46:05</td><td>Canal St &amp; Adams St</td><td>13011</td><td>Sangamon St &amp; Was...</td><td>13409</td><td>41.879255</td><td>-87.639904</td><td>41.883165</td><td>-87.6511</td><td>member</td></tr>\n",
       "<tr><td>462D7A9C0323B0C9</td><td>classic_bike</td><td>2022-12-03 15:52:58</td><td>2022-12-03 15:56:26</td><td>Humboldt Blvd &amp; A...</td><td>15651</td><td>Spaulding Ave &amp; A...</td><td>15650</td><td>41.91751339399</td><td>-87.7018089555</td><td>41.917108034789315</td><td>-87.71022096276283</td><td>member</td></tr>\n",
       "<tr><td>9F827DE27022F311</td><td>electric_bike</td><td>2022-12-01 07:08:13</td><td>2022-12-01 07:18:04</td><td>Ashland Ave &amp; Chi...</td><td>13247</td><td>Wacker Dr &amp; Washi...</td><td>KA1503000072</td><td>41.8959825</td><td>-87.667694</td><td>41.88314336439022</td><td>-87.63724207878113</td><td>member</td></tr>\n",
       "<tr><td>58E5482C771A98BE</td><td>classic_bike</td><td>2022-12-28 22:01:54</td><td>2022-12-28 22:11:05</td><td>Broadway &amp; Belmon...</td><td>13277</td><td>Southport Ave &amp; W...</td><td>13235</td><td>41.940106</td><td>-87.645451</td><td>41.94815</td><td>-87.66394</td><td>member</td></tr>\n",
       "<tr><td>46FD5C26A4020ED1</td><td>classic_bike</td><td>2022-12-19 11:28:51</td><td>2022-12-19 11:52:48</td><td>Sedgwick St &amp; Nor...</td><td>TA1307000038</td><td>St. Clair St &amp; Er...</td><td>13016</td><td>41.911386</td><td>-87.638677</td><td>41.89434513742426</td><td>-87.62279838323593</td><td>member</td></tr>\n",
       "<tr><td>F27780BD0F2E0C01</td><td>classic_bike</td><td>2022-12-21 16:51:20</td><td>2022-12-21 17:00:14</td><td>Malcolm X College</td><td>631</td><td>Sangamon St &amp; Was...</td><td>13409</td><td>41.877618</td><td>-87.673895</td><td>41.883165</td><td>-87.6511</td><td>member</td></tr>\n",
       "<tr><td>995F741523A9DEAD</td><td>classic_bike</td><td>2022-12-26 10:46:06</td><td>2022-12-26 11:12:30</td><td>Ashland Ave &amp; Chi...</td><td>13247</td><td>St. Clair St &amp; Er...</td><td>13016</td><td>41.89595435734305</td><td>-87.6677280664444</td><td>41.89434513742426</td><td>-87.62279838323593</td><td>member</td></tr>\n",
       "</table>\n",
       "only showing top 20 rows\n"
      ],
      "text/plain": [
       "+----------------+-------------+-------------------+-------------------+--------------------+----------------+--------------------+--------------+-----------------+------------------+------------------+------------------+-------------+\n",
       "|         ride_id|rideable_type|         started_at|           ended_at|  start_station_name|start_station_id|    end_station_name|end_station_id|        start_lat|         start_lng|           end_lat|           end_lng|member_casual|\n",
       "+----------------+-------------+-------------------+-------------------+--------------------+----------------+--------------------+--------------+-----------------+------------------+------------------+------------------+-------------+\n",
       "|65DBD2F447EC51C2|electric_bike|2022-12-05 10:47:18|2022-12-05 10:56:34|Clifton Ave & Arm...|    TA1307000163|Sedgwick St & Web...|         13191|       41.9182435|-87.65711466666667|         41.922167|        -87.638888|       member|\n",
       "|0C201AA7EA0EA1AD| classic_bike|2022-12-18 06:42:33|2022-12-18 07:08:44|Broadway & Belmon...|           13277|Sedgwick St & Web...|         13191|        41.940106|        -87.645451|         41.922167|        -87.638888|       casual|\n",
       "|E0B148CCB358A49D|electric_bike|2022-12-13 08:47:45|2022-12-13 08:59:51|Sangamon St & Lak...|    TA1306000015|St. Clair St & Er...|         13016|     41.885918856|      -87.65113318| 41.89434513742426|-87.62279838323593|       member|\n",
       "|54C5775D2B7C9188| classic_bike|2022-12-13 18:50:47|2022-12-13 19:19:48|Shields Ave & 31s...|    KA1503000038|Damen Ave & Madis...|         13134|        41.838464|        -87.635406|          41.88137|         -87.67493|       member|\n",
       "|A4891F78776D35DF| classic_bike|2022-12-14 16:13:39|2022-12-14 16:27:50|Ashland Ave & Chi...|           13247|Damen Ave & Charl...|         13288|41.89595435734305| -87.6677280664444|         41.920082|        -87.677855|       casual|\n",
       "|DB91D9B8DFACA07A|electric_bike|2022-12-02 15:24:47|2022-12-02 15:34:14| Wabash Ave & 9th St|    TA1309000010|Wacker Dr & Washi...|  KA1503000072|     41.870683551|     -87.625706077| 41.88314336439022|-87.63724207878113|       member|\n",
       "|6AD396C5760CC992| classic_bike|2022-12-20 09:02:03|2022-12-20 09:19:54|Leavitt St & Chic...|           18058|Wacker Dr & Washi...|  KA1503000072|        41.895501|        -87.682017| 41.88314336439022|-87.63724207878113|       member|\n",
       "|8D736E35E0075504| classic_bike|2022-12-13 14:19:49|2022-12-13 14:28:28|Humboldt Blvd & A...|           15651|Spaulding Ave & A...|         15650|   41.91751339399|    -87.7018089555|41.917108034789315|-87.71022096276283|       member|\n",
       "|DDAB881F96C51DC8| classic_bike|2022-12-13 07:38:07|2022-12-13 07:57:01| Canal St & Adams St|           13011|St. Clair St & Er...|         13016|        41.879255|        -87.639904| 41.89434513742426|-87.62279838323593|       member|\n",
       "|8DDBAE51E55DAEEF| classic_bike|2022-12-21 08:57:42|2022-12-21 09:10:59|Greenview Ave & F...|    TA1307000001|Southport Ave & W...|         13235|         41.92533|          -87.6658|          41.94815|         -87.66394|       member|\n",
       "|37BCF0C0B553F0A1| classic_bike|2022-12-12 17:56:26|2022-12-12 18:02:41| Canal St & Adams St|           13011|Sangamon St & Was...|         13409|        41.879255|        -87.639904|         41.883165|          -87.6511|       member|\n",
       "|1B133362A3F86A2C| classic_bike|2022-12-06 17:07:34|2022-12-06 17:14:22| Canal St & Adams St|           13011|Sangamon St & Was...|         13409|        41.879255|        -87.639904|         41.883165|          -87.6511|       member|\n",
       "|DF0DC4C1FF01E3EF| classic_bike|2022-12-29 17:46:08|2022-12-29 17:52:34| Canal St & Adams St|           13011|Sangamon St & Was...|         13409|        41.879255|        -87.639904|         41.883165|          -87.6511|       member|\n",
       "|0D58B8FC23315D59| classic_bike|2022-12-01 21:38:56|2022-12-01 21:46:05| Canal St & Adams St|           13011|Sangamon St & Was...|         13409|        41.879255|        -87.639904|         41.883165|          -87.6511|       member|\n",
       "|462D7A9C0323B0C9| classic_bike|2022-12-03 15:52:58|2022-12-03 15:56:26|Humboldt Blvd & A...|           15651|Spaulding Ave & A...|         15650|   41.91751339399|    -87.7018089555|41.917108034789315|-87.71022096276283|       member|\n",
       "|9F827DE27022F311|electric_bike|2022-12-01 07:08:13|2022-12-01 07:18:04|Ashland Ave & Chi...|           13247|Wacker Dr & Washi...|  KA1503000072|       41.8959825|        -87.667694| 41.88314336439022|-87.63724207878113|       member|\n",
       "|58E5482C771A98BE| classic_bike|2022-12-28 22:01:54|2022-12-28 22:11:05|Broadway & Belmon...|           13277|Southport Ave & W...|         13235|        41.940106|        -87.645451|          41.94815|         -87.66394|       member|\n",
       "|46FD5C26A4020ED1| classic_bike|2022-12-19 11:28:51|2022-12-19 11:52:48|Sedgwick St & Nor...|    TA1307000038|St. Clair St & Er...|         13016|        41.911386|        -87.638677| 41.89434513742426|-87.62279838323593|       member|\n",
       "|F27780BD0F2E0C01| classic_bike|2022-12-21 16:51:20|2022-12-21 17:00:14|   Malcolm X College|             631|Sangamon St & Was...|         13409|        41.877618|        -87.673895|         41.883165|          -87.6511|       member|\n",
       "|995F741523A9DEAD| classic_bike|2022-12-26 10:46:06|2022-12-26 11:12:30|Ashland Ave & Chi...|           13247|St. Clair St & Er...|         13016|41.89595435734305| -87.6677280664444| 41.89434513742426|-87.62279838323593|       member|\n",
       "+----------------+-------------+-------------------+-------------------+--------------------+----------------+--------------------+--------------+-----------------+------------------+------------------+------------------+-------------+\n",
       "only showing top 20 rows"
      ]
     },
     "metadata": {},
     "output_type": "display_data"
    }
   ],
   "source": [
    "# Utilizando SQL para exibir os dados\n",
    "#spark.sql(\"select * from bike_shared\").show()\n",
    "display(spark.sql(\"select * from bike_shared\"))"
   ]
  },
  {
   "cell_type": "code",
   "execution_count": 51,
   "metadata": {
    "application/vnd.databricks.v1+cell": {
     "cellMetadata": {
      "byteLimit": 2048000,
      "rowLimit": 10000
     },
     "inputWidgets": {},
     "nuid": "4a93182c-3d6e-4b44-aade-bf79bdd7ed74",
     "showTitle": false,
     "title": ""
    }
   },
   "outputs": [
    {
     "name": "stdout",
     "output_type": "stream",
     "text": [
      "+----------------+-----------------------------+\n",
      "|ride_id         |start_station_name           |\n",
      "+----------------+-----------------------------+\n",
      "|65DBD2F447EC51C2|Clifton Ave & Armitage Ave   |\n",
      "|0C201AA7EA0EA1AD|Broadway & Belmont Ave       |\n",
      "|E0B148CCB358A49D|Sangamon St & Lake St        |\n",
      "|54C5775D2B7C9188|Shields Ave & 31st St        |\n",
      "|A4891F78776D35DF|Ashland Ave & Chicago Ave    |\n",
      "|DB91D9B8DFACA07A|Wabash Ave & 9th St          |\n",
      "|6AD396C5760CC992|Leavitt St & Chicago Ave     |\n",
      "|8D736E35E0075504|Humboldt Blvd & Armitage Ave |\n",
      "|DDAB881F96C51DC8|Canal St & Adams St          |\n",
      "|8DDBAE51E55DAEEF|Greenview Ave & Fullerton Ave|\n",
      "|37BCF0C0B553F0A1|Canal St & Adams St          |\n",
      "|1B133362A3F86A2C|Canal St & Adams St          |\n",
      "|DF0DC4C1FF01E3EF|Canal St & Adams St          |\n",
      "|0D58B8FC23315D59|Canal St & Adams St          |\n",
      "|462D7A9C0323B0C9|Humboldt Blvd & Armitage Ave |\n",
      "|9F827DE27022F311|Ashland Ave & Chicago Ave    |\n",
      "|58E5482C771A98BE|Broadway & Belmont Ave       |\n",
      "|46FD5C26A4020ED1|Sedgwick St & North Ave      |\n",
      "|F27780BD0F2E0C01|Malcolm X College            |\n",
      "|995F741523A9DEAD|Ashland Ave & Chicago Ave    |\n",
      "+----------------+-----------------------------+\n",
      "only showing top 20 rows\n",
      "\n"
     ]
    }
   ],
   "source": [
    "# Exibindo 2 colunas do dataframe\n",
    "spark.sql(\"select ride_id, start_station_name from bike_shared\").show(truncate=False)"
   ]
  },
  {
   "cell_type": "code",
   "execution_count": null,
   "metadata": {
    "application/vnd.databricks.v1+cell": {
     "cellMetadata": {},
     "inputWidgets": {},
     "nuid": "276848e3-2806-4ba4-9de8-d59be9e57431",
     "showTitle": false,
     "title": ""
    }
   },
   "outputs": [],
   "source": []
  }
 ],
 "metadata": {
  "application/vnd.databricks.v1+notebook": {
   "dashboards": [],
   "language": "python",
   "notebookMetadata": {
    "pythonIndentUnit": 2
   },
   "notebookName": "01_ler_arquivo_csv",
   "widgets": {}
  },
  "kernelspec": {
   "display_name": "Python 3 (ipykernel)",
   "language": "python",
   "name": "python3"
  },
  "language_info": {
   "codemirror_mode": {
    "name": "ipython",
    "version": 3
   },
   "file_extension": ".py",
   "mimetype": "text/x-python",
   "name": "python",
   "nbconvert_exporter": "python",
   "pygments_lexer": "ipython3",
   "version": "3.11.6"
  }
 },
 "nbformat": 4,
 "nbformat_minor": 4
}
