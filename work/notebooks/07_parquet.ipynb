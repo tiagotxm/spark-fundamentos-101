{
 "cells": [
  {
   "cell_type": "markdown",
   "id": "b5714096-96b1-49b7-8661-26a4edf14c83",
   "metadata": {},
   "source": [
    "- Criar um dataframe contendo informações de risco de roubo\n",
    "- Avaliar o risco da estação(baixo, medio, alto)\n",
    "    score < 500 = low\n",
    "    score > 500 & < 700 = medium\n",
    "    score > 700 = high\n",
    "- Gravar o dataframe em formato csv"
   ]
  },
  {
   "cell_type": "code",
   "execution_count": null,
   "id": "3ae492c1-e890-482c-af0a-0380aa2c0618",
   "metadata": {},
   "outputs": [],
   "source": [
    "file_path=\"/home/jovyan/work/data/202212_divvy_tripdata.csv\"\n",
    "station_score_path = \"/home/jovyan/work/data/station_scores.csv\"\n",
    "\n",
    "\n",
    "from pyspark.sql import SparkSession\n",
    "from pyspark.sql.functions import when\n",
    "\n",
    "spark = SparkSession.builder \\\n",
    "    .appName(\"aula-07\") \\\n",
    "    .getOrCreate()\n",
    "\n",
    "spark.conf.set(\"spark.sql.repl.eagerEval.enabled\", True)\n",
    "\n",
    "df_trip = spark.read.option(\"header\", \"true\").csv(file_path)\n",
    "\n",
    "df_bike_share = df_trip.withColumn('end_station_name', when(df_trip['end_station_name'].isNull(), 'unknown').otherwise(df_trip['end_station_name']))"
   ]
  },
  {
   "cell_type": "code",
   "execution_count": null,
   "id": "38ae70f0-fadb-46e4-8c31-9edc170de4c0",
   "metadata": {},
   "outputs": [],
   "source": [
    "df_station_score = spark.read.option(\"header\", \"true\").csv(station_score_path)\n",
    "display(df_station_score)"
   ]
  },
  {
   "cell_type": "code",
   "execution_count": null,
   "id": "6e097f5e-42e5-4f8a-bb8c-ad50f703c885",
   "metadata": {},
   "outputs": [],
   "source": [
    "df_station_scores = df_bike_share.join(df_station_score, on=\"end_station_id\", how=\"inner\")\n",
    "display(df_station_scores)"
   ]
  },
  {
   "cell_type": "code",
   "execution_count": null,
   "id": "5c438bc1-3b73-4d9d-9588-958b923c16ed",
   "metadata": {},
   "outputs": [],
   "source": [
    "df_station_scores.withColumn(\"risk\",\n",
    "                                when((df_station_scores[\"score\"] < 500), \"low\")\n",
    "                                .when((df_station_scores[\"score\"] > 500) & (df_station_scores[\"score\"] < 700), \"medium\")\n",
    "                                .when((df_station_scores[\"score\"] > 700), \"high\")\n",
    "                            )"
   ]
  },
  {
   "cell_type": "code",
   "execution_count": 8,
   "id": "1643f0a3-14af-4f4a-bf10-34bc5f768db8",
   "metadata": {},
   "outputs": [],
   "source": [
    "output_path = \"/home/jovyan/work/data/output/bike_station_risk\"\n",
    "df_station_scores.repartition(1).write.parquet(output_path, mode=\"overwrite\")"
   ]
  },
  {
   "cell_type": "code",
   "execution_count": null,
   "id": "0aff9022-1f23-4e65-9ec0-417c6a874cb7",
   "metadata": {},
   "outputs": [],
   "source": [
    "#https://parquet.apache.org/"
   ]
  },
  {
   "cell_type": "code",
   "execution_count": null,
   "id": "58db7f19-6b8d-41b7-a2c8-7b49fd072e03",
   "metadata": {},
   "outputs": [],
   "source": []
  }
 ],
 "metadata": {
  "kernelspec": {
   "display_name": "Python 3 (ipykernel)",
   "language": "python",
   "name": "python3"
  },
  "language_info": {
   "codemirror_mode": {
    "name": "ipython",
    "version": 3
   },
   "file_extension": ".py",
   "mimetype": "text/x-python",
   "name": "python",
   "nbconvert_exporter": "python",
   "pygments_lexer": "ipython3",
   "version": "3.11.6"
  }
 },
 "nbformat": 4,
 "nbformat_minor": 5
}
